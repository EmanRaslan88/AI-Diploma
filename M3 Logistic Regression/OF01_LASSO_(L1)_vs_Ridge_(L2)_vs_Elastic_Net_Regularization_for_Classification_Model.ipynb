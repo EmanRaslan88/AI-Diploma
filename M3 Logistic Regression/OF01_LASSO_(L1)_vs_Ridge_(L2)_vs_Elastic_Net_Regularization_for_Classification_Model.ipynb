{
  "nbformat": 4,
  "nbformat_minor": 0,
  "metadata": {
    "colab": {
      "provenance": []
    },
    "kernelspec": {
      "name": "python3",
      "display_name": "Python 3"
    },
    "language_info": {
      "name": "python"
    }
  },
  "cells": [
    {
      "cell_type": "markdown",
      "source": [
        "# Resources"
      ],
      "metadata": {
        "id": "_iHBuTFUSiwO"
      }
    },
    {
      "cell_type": "markdown",
      "source": [
        "- [Blog post](https://pub.towardsai.net/lasso-l1-vs-ridge-l2-vs-elastic-net-regularization-for-classification-model-409c3d86f6e9) for this notebook\n",
        "- Video tutorial on [YouTube](https://www.youtube.com/watch?v=PAOkp9CEn58&list=PLVppujud2yJrTGSjtN7j8gqCthOVyyk4W&index=1)\n",
        "- Python code is at the end of the post. Click [here](https://mailchi.mp/a30206d20b9a/in5ymnmlkv) for the notebook.\n",
        "- More video tutorials on [Overfitting Correction](https://www.youtube.com/playlist?list=PLVppujud2yJrTGSjtN7j8gqCthOVyyk4W)\n",
        "- More blog posts on [Overfitting Correction](https://medium.com/@AmyGrabNGoInfo/list/overfitting-correction-2fb2052285d6)\n",
        "\n",
        "\n",
        "For more information about data science and machine learning, please check out my [YouTube channel](https://www.youtube.com/channel/UCmbA7XB6Wb7bLwJw9ARPcYg), [Medium Page](https://medium.com/@AmyGrabNGoInfo) and [GrabNGoInfo.com](https://grabngoinfo.com/tutorials/), or follow GrabNGoInfo on [LinkedIn](https://www.linkedin.com/company/grabngoinfo/)."
      ],
      "metadata": {
        "id": "Hpb9LoG7Skzd"
      }
    },
    {
      "cell_type": "markdown",
      "source": [
        "# Intro"
      ],
      "metadata": {
        "id": "Zx_o3EHFSgfe"
      }
    },
    {
      "cell_type": "markdown",
      "metadata": {
        "id": "Mzfp6eAqtPTB"
      },
      "source": [
        "LASSO (Least Absolute Shrinkage and Selection Operator) is also called L1 regularization, and Ridge is also called L2 regularization. Elastic Net is the combination of LASSO and Ridge. All three are techniques commonly used in machine learning to correct overfitting.\n",
        "\n",
        "In this tutorial, we will cover\n",
        "* What's the difference between LASSO (L1), Ridge (L2), and Elastic Net?\n",
        "* How to run LASSO for classification model using Python `sklearn`?\n",
        "* How to run Ridge for classification model using Python `sklearn`?\n",
        "* How to run Elastic Net for classification model using Python `sklearn`?\n",
        "* How to compare the performance of LASSO, Ridge, and Elastic Net?\n",
        "\n",
        "Let's get started!"
      ]
    },
    {
      "cell_type": "markdown",
      "metadata": {
        "id": "mD-9miHmI0Jm"
      },
      "source": [
        "# Step 0: LASSO (L1) vs Ridge (L2) vs. Elastic Net"
      ]
    },
    {
      "cell_type": "markdown",
      "metadata": {
        "id": "T_9Tj3SIFeDc"
      },
      "source": [
        "In step 0, we will talk about the differences between LASSO, Ridge, and elastic net.\n",
        "\n",
        "LASSO and Ridge regularization correct overfitting by shrinking the coefficient of the model. During the model training process, instead of minimizing the model training error, they minimize the model training error plus a penalty term. LASSO and Ridge have different calculation algorithms for the penalty term. Elastic net's penalty term is a combination of the algorithm from LASSO and Ridge.\n",
        "\n",
        "* The penalty term has a parameter called lambda. It controls the strength of the penalty.\n",
        " * When lambda equals 0, the penalty term equals 0. So the model is a model with no regularization.\n",
        " * When lambda increases, the penalty term value increases, and the model coefficients values decrease.\n",
        " * When lambda goes infinity, the model coefficients shrink to nearly 0. The model is left with only the intercept, which predicts the average value for every data point.\n",
        "*   LASSO's penalty term is the penalty parameter lambda multiplied by the sum of the absolute value of the coefficients. Because LASSO's coefficients may shrink to zeros, it can be used for automatic feature selection.\n",
        "*   Ridge shrinks the model coefficients based on the sum of the squared coefficients. Ridge does not shrink the model coefficients to zero.\n",
        "*   Elastic net's penalty term is a combination of LASSO and Ridge regression's penalty term. It sets some coefficients to zeros, but the number is smaller than LASSO."
      ]
    },
    {
      "cell_type": "markdown",
      "metadata": {
        "id": "y4gNsd0pJRxZ"
      },
      "source": [
        "# Step 1: Import Libraries"
      ]
    },
    {
      "cell_type": "markdown",
      "metadata": {
        "id": "MlpyVY6iYm8-"
      },
      "source": [
        "In the first step, let's import the Python libraries needed for this tutorial.\n",
        "\n",
        "We will use the breast cancer dataset for this tutorial, so `datasets` from `sklearn` needs to be imported. `pandas` and `numpy` are imported for data processing. `matplotlib` is for visualization, and `StandardScaler` is for data standardization.\n",
        "\n",
        "For model training, we imported train_test_split and LogisticRegression.\n",
        "\n",
        "For model performance evaluation, we imported `plot_confusion_matrix`, `classification_report`, `log_loss`, `roc_curve`, and `roc_auc_score`."
      ]
    },
    {
      "cell_type": "code",
      "metadata": {
        "id": "-2OVJHziJm5P"
      },
      "source": [
        "# Dataset\n",
        "from sklearn import datasets\n",
        "\n",
        "# Data processing\n",
        "import pandas as pd\n",
        "import numpy as np\n",
        "\n",
        "# Visualization\n",
        "import matplotlib.pyplot as plt\n",
        "\n",
        "# Standardize the data\n",
        "from sklearn.preprocessing import StandardScaler\n",
        "\n",
        "# Model and performance evaluation\n",
        "from sklearn.model_selection import train_test_split\n",
        "from sklearn.linear_model import LogisticRegression\n",
        "from sklearn.metrics import plot_confusion_matrix, classification_report, log_loss, roc_curve, roc_auc_score\n"
      ],
      "execution_count": null,
      "outputs": []
    },
    {
      "cell_type": "markdown",
      "metadata": {
        "id": "ruiqYFLcJRt5"
      },
      "source": [
        "# Step 2: Read In Data"
      ]
    },
    {
      "cell_type": "markdown",
      "metadata": {
        "id": "60KSdMdfalo9"
      },
      "source": [
        "In the second step, the breast cancer data from `sklearn` library is loaded and transformed into a pandas dataframe.\n",
        "\n",
        "The information summary shows that the dataset has 569 records and 31 columns."
      ]
    },
    {
      "cell_type": "code",
      "metadata": {
        "colab": {
          "base_uri": "https://localhost:8080/"
        },
        "id": "oEnRBKaTJmd7",
        "outputId": "ba23b9e0-759b-4894-dc0c-874ea39d31f6"
      },
      "source": [
        "# Load the breast cancer dataset\n",
        "data = datasets.load_breast_cancer()\n",
        "\n",
        "# Put the data in pandas dataframe format\n",
        "df = pd.DataFrame(data=data.data, columns=data.feature_names)\n",
        "df['target']=data.target\n",
        "\n",
        "# Check the data information\n",
        "df.info()"
      ],
      "execution_count": null,
      "outputs": [
        {
          "output_type": "stream",
          "name": "stdout",
          "text": [
            "<class 'pandas.core.frame.DataFrame'>\n",
            "RangeIndex: 569 entries, 0 to 568\n",
            "Data columns (total 31 columns):\n",
            " #   Column                   Non-Null Count  Dtype  \n",
            "---  ------                   --------------  -----  \n",
            " 0   mean radius              569 non-null    float64\n",
            " 1   mean texture             569 non-null    float64\n",
            " 2   mean perimeter           569 non-null    float64\n",
            " 3   mean area                569 non-null    float64\n",
            " 4   mean smoothness          569 non-null    float64\n",
            " 5   mean compactness         569 non-null    float64\n",
            " 6   mean concavity           569 non-null    float64\n",
            " 7   mean concave points      569 non-null    float64\n",
            " 8   mean symmetry            569 non-null    float64\n",
            " 9   mean fractal dimension   569 non-null    float64\n",
            " 10  radius error             569 non-null    float64\n",
            " 11  texture error            569 non-null    float64\n",
            " 12  perimeter error          569 non-null    float64\n",
            " 13  area error               569 non-null    float64\n",
            " 14  smoothness error         569 non-null    float64\n",
            " 15  compactness error        569 non-null    float64\n",
            " 16  concavity error          569 non-null    float64\n",
            " 17  concave points error     569 non-null    float64\n",
            " 18  symmetry error           569 non-null    float64\n",
            " 19  fractal dimension error  569 non-null    float64\n",
            " 20  worst radius             569 non-null    float64\n",
            " 21  worst texture            569 non-null    float64\n",
            " 22  worst perimeter          569 non-null    float64\n",
            " 23  worst area               569 non-null    float64\n",
            " 24  worst smoothness         569 non-null    float64\n",
            " 25  worst compactness        569 non-null    float64\n",
            " 26  worst concavity          569 non-null    float64\n",
            " 27  worst concave points     569 non-null    float64\n",
            " 28  worst symmetry           569 non-null    float64\n",
            " 29  worst fractal dimension  569 non-null    float64\n",
            " 30  target                   569 non-null    int64  \n",
            "dtypes: float64(30), int64(1)\n",
            "memory usage: 137.9 KB\n"
          ]
        }
      ]
    },
    {
      "cell_type": "markdown",
      "metadata": {
        "id": "UPPFCitZbXfs"
      },
      "source": [
        "The target variable distribution shows 63% of ones and 37% of zeros in the dataset. Therefore, one means the patient has breast cancer, and 0 represents the patient does not have breast cancer."
      ]
    },
    {
      "cell_type": "code",
      "metadata": {
        "colab": {
          "base_uri": "https://localhost:8080/"
        },
        "id": "RXeVmYbcKiNp",
        "outputId": "759e2cef-02c4-4516-99bc-5299a61bb830"
      },
      "source": [
        "# Check the target value distribution\n",
        "df['target'].value_counts(normalize=True)"
      ],
      "execution_count": null,
      "outputs": [
        {
          "output_type": "execute_result",
          "data": {
            "text/plain": [
              "1    0.627417\n",
              "0    0.372583\n",
              "Name: target, dtype: float64"
            ]
          },
          "metadata": {},
          "execution_count": 3
        }
      ]
    },
    {
      "cell_type": "markdown",
      "metadata": {
        "id": "n6xwHJ6fo-83"
      },
      "source": [
        "# Step 3: Train Test Split"
      ]
    },
    {
      "cell_type": "markdown",
      "metadata": {
        "id": "0RSGgsJNb4O1"
      },
      "source": [
        "In step 3, we split the dataset into 80% training and 20% testing dataset. `random_state` makes the random split results reproducible."
      ]
    },
    {
      "cell_type": "code",
      "metadata": {
        "colab": {
          "base_uri": "https://localhost:8080/"
        },
        "id": "kP1sLGx4pIaM",
        "outputId": "bb387fac-774c-4157-8bc0-55fda52f2d4c"
      },
      "source": [
        "# Train test split\n",
        "X_train, X_test, y_train, y_test = train_test_split(df[df.columns.difference(['target'])], df['target'], test_size=0.2, random_state=42)\n",
        "\n",
        "# Check the number of records in training and testing dataset.\n",
        "print(f'The training dataset has {len(X_train)} records.')\n",
        "print(f'The testing dataset has {len(X_test)} records.')"
      ],
      "execution_count": null,
      "outputs": [
        {
          "output_type": "stream",
          "name": "stdout",
          "text": [
            "The training dataset has 455 records.\n",
            "The testing dataset has 114 records.\n"
          ]
        }
      ]
    },
    {
      "cell_type": "markdown",
      "metadata": {
        "id": "PeTke6R7ceEC"
      },
      "source": [
        "The training dataset has 455 records, and the testing dataset has 114 records."
      ]
    },
    {
      "cell_type": "markdown",
      "metadata": {
        "id": "fRgh7e1WJRqj"
      },
      "source": [
        "# Step 4: Standardization"
      ]
    },
    {
      "cell_type": "markdown",
      "metadata": {
        "id": "2aGg9qf2PBwK"
      },
      "source": [
        "Standardization is to rescale the features to the same scale. It is calculated by extracting the mean and divided by the standard deviation. After standardization, each feature has zero mean and unit standard deviation.\n",
        "\n",
        "Standardization should be fit on the training dataset only to prevent test dataset information from leaking into the training process. Then, the test dataset is standardized using the fitting results from the training dataset.\n",
        "\n",
        "There are different types of scalers. StandardScaler and MinMaxScaler are most commonly used. For a dataset with outliers, we can use RobustScaler.\n",
        "\n",
        "In this tutorial, we will use `StandardScaler`."
      ]
    },
    {
      "cell_type": "code",
      "metadata": {
        "id": "7XTfrAAEKwdM",
        "colab": {
          "base_uri": "https://localhost:8080/",
          "height": 1000
        },
        "outputId": "bcbc541d-5a76-4ec7-80b5-549a2d4cf5e9"
      },
      "source": [
        "# Initiate scaler\n",
        "sc = StandardScaler()\n",
        "\n",
        "# Standardize the training dataset\n",
        "X_train_transformed = pd.DataFrame(sc.fit_transform(X_train),index=X_train.index, columns=X_train.columns)\n",
        "\n",
        "# Standardized the testing dataset\n",
        "X_test_transformed = pd.DataFrame(sc.transform(X_test),index=X_test.index, columns=X_test.columns)\n",
        "\n",
        "# Summary statistics after standardization\n",
        "X_train_transformed.describe().T"
      ],
      "execution_count": null,
      "outputs": [
        {
          "output_type": "execute_result",
          "data": {
            "text/html": [
              "<div>\n",
              "<style scoped>\n",
              "    .dataframe tbody tr th:only-of-type {\n",
              "        vertical-align: middle;\n",
              "    }\n",
              "\n",
              "    .dataframe tbody tr th {\n",
              "        vertical-align: top;\n",
              "    }\n",
              "\n",
              "    .dataframe thead th {\n",
              "        text-align: right;\n",
              "    }\n",
              "</style>\n",
              "<table border=\"1\" class=\"dataframe\">\n",
              "  <thead>\n",
              "    <tr style=\"text-align: right;\">\n",
              "      <th></th>\n",
              "      <th>count</th>\n",
              "      <th>mean</th>\n",
              "      <th>std</th>\n",
              "      <th>min</th>\n",
              "      <th>25%</th>\n",
              "      <th>50%</th>\n",
              "      <th>75%</th>\n",
              "      <th>max</th>\n",
              "    </tr>\n",
              "  </thead>\n",
              "  <tbody>\n",
              "    <tr>\n",
              "      <th>area error</th>\n",
              "      <td>455.0</td>\n",
              "      <td>1.561632e-17</td>\n",
              "      <td>1.001101</td>\n",
              "      <td>-0.705091</td>\n",
              "      <td>-0.464164</td>\n",
              "      <td>-0.325347</td>\n",
              "      <td>0.077435</td>\n",
              "      <td>10.641841</td>\n",
              "    </tr>\n",
              "    <tr>\n",
              "      <th>compactness error</th>\n",
              "      <td>455.0</td>\n",
              "      <td>-2.401498e-15</td>\n",
              "      <td>1.001101</td>\n",
              "      <td>-1.258102</td>\n",
              "      <td>-0.694353</td>\n",
              "      <td>-0.280607</td>\n",
              "      <td>0.358304</td>\n",
              "      <td>5.905671</td>\n",
              "    </tr>\n",
              "    <tr>\n",
              "      <th>concave points error</th>\n",
              "      <td>455.0</td>\n",
              "      <td>3.279428e-16</td>\n",
              "      <td>1.001101</td>\n",
              "      <td>-1.891775</td>\n",
              "      <td>-0.668493</td>\n",
              "      <td>-0.126279</td>\n",
              "      <td>0.437566</td>\n",
              "      <td>6.504667</td>\n",
              "    </tr>\n",
              "    <tr>\n",
              "      <th>concavity error</th>\n",
              "      <td>455.0</td>\n",
              "      <td>2.347329e-16</td>\n",
              "      <td>1.001101</td>\n",
              "      <td>-1.022218</td>\n",
              "      <td>-0.551340</td>\n",
              "      <td>-0.207836</td>\n",
              "      <td>0.303371</td>\n",
              "      <td>11.310294</td>\n",
              "    </tr>\n",
              "    <tr>\n",
              "      <th>fractal dimension error</th>\n",
              "      <td>455.0</td>\n",
              "      <td>5.050905e-16</td>\n",
              "      <td>1.001101</td>\n",
              "      <td>-1.050856</td>\n",
              "      <td>-0.573964</td>\n",
              "      <td>-0.218908</td>\n",
              "      <td>0.245340</td>\n",
              "      <td>9.345870</td>\n",
              "    </tr>\n",
              "    <tr>\n",
              "      <th>mean area</th>\n",
              "      <td>455.0</td>\n",
              "      <td>-2.627935e-16</td>\n",
              "      <td>1.001101</td>\n",
              "      <td>-1.365036</td>\n",
              "      <td>-0.660205</td>\n",
              "      <td>-0.289597</td>\n",
              "      <td>0.319339</td>\n",
              "      <td>5.208312</td>\n",
              "    </tr>\n",
              "    <tr>\n",
              "      <th>mean compactness</th>\n",
              "      <td>455.0</td>\n",
              "      <td>1.003349e-15</td>\n",
              "      <td>1.001101</td>\n",
              "      <td>-1.607228</td>\n",
              "      <td>-0.777087</td>\n",
              "      <td>-0.241340</td>\n",
              "      <td>0.528128</td>\n",
              "      <td>3.964311</td>\n",
              "    </tr>\n",
              "    <tr>\n",
              "      <th>mean concave points</th>\n",
              "      <td>455.0</td>\n",
              "      <td>5.780480e-16</td>\n",
              "      <td>1.001101</td>\n",
              "      <td>-1.269910</td>\n",
              "      <td>-0.734905</td>\n",
              "      <td>-0.391123</td>\n",
              "      <td>0.673757</td>\n",
              "      <td>4.022271</td>\n",
              "    </tr>\n",
              "    <tr>\n",
              "      <th>mean concavity</th>\n",
              "      <td>455.0</td>\n",
              "      <td>9.782163e-16</td>\n",
              "      <td>1.001101</td>\n",
              "      <td>-1.119899</td>\n",
              "      <td>-0.750539</td>\n",
              "      <td>-0.344646</td>\n",
              "      <td>0.547387</td>\n",
              "      <td>4.256736</td>\n",
              "    </tr>\n",
              "    <tr>\n",
              "      <th>mean fractal dimension</th>\n",
              "      <td>455.0</td>\n",
              "      <td>-3.347993e-15</td>\n",
              "      <td>1.001101</td>\n",
              "      <td>-1.776889</td>\n",
              "      <td>-0.709792</td>\n",
              "      <td>-0.177285</td>\n",
              "      <td>0.464223</td>\n",
              "      <td>4.815921</td>\n",
              "    </tr>\n",
              "    <tr>\n",
              "      <th>mean perimeter</th>\n",
              "      <td>455.0</td>\n",
              "      <td>-3.600783e-15</td>\n",
              "      <td>1.001101</td>\n",
              "      <td>-1.809497</td>\n",
              "      <td>-0.690761</td>\n",
              "      <td>-0.242938</td>\n",
              "      <td>0.488480</td>\n",
              "      <td>3.976811</td>\n",
              "    </tr>\n",
              "    <tr>\n",
              "      <th>mean radius</th>\n",
              "      <td>455.0</td>\n",
              "      <td>-1.824182e-15</td>\n",
              "      <td>1.001101</td>\n",
              "      <td>-1.819583</td>\n",
              "      <td>-0.683093</td>\n",
              "      <td>-0.231498</td>\n",
              "      <td>0.459343</td>\n",
              "      <td>3.961679</td>\n",
              "    </tr>\n",
              "    <tr>\n",
              "      <th>mean smoothness</th>\n",
              "      <td>455.0</td>\n",
              "      <td>-4.266672e-15</td>\n",
              "      <td>1.001101</td>\n",
              "      <td>-3.100011</td>\n",
              "      <td>-0.713204</td>\n",
              "      <td>-0.080820</td>\n",
              "      <td>0.633173</td>\n",
              "      <td>4.864642</td>\n",
              "    </tr>\n",
              "    <tr>\n",
              "      <th>mean symmetry</th>\n",
              "      <td>455.0</td>\n",
              "      <td>-5.918465e-15</td>\n",
              "      <td>1.001101</td>\n",
              "      <td>-2.345430</td>\n",
              "      <td>-0.701046</td>\n",
              "      <td>-0.069151</td>\n",
              "      <td>0.535429</td>\n",
              "      <td>4.476124</td>\n",
              "    </tr>\n",
              "    <tr>\n",
              "      <th>mean texture</th>\n",
              "      <td>455.0</td>\n",
              "      <td>-3.363488e-15</td>\n",
              "      <td>1.001101</td>\n",
              "      <td>-2.223500</td>\n",
              "      <td>-0.707536</td>\n",
              "      <td>-0.118516</td>\n",
              "      <td>0.563199</td>\n",
              "      <td>4.715674</td>\n",
              "    </tr>\n",
              "    <tr>\n",
              "      <th>perimeter error</th>\n",
              "      <td>455.0</td>\n",
              "      <td>7.520236e-16</td>\n",
              "      <td>1.001101</td>\n",
              "      <td>-1.015623</td>\n",
              "      <td>-0.582549</td>\n",
              "      <td>-0.276110</td>\n",
              "      <td>0.199256</td>\n",
              "      <td>9.242330</td>\n",
              "    </tr>\n",
              "    <tr>\n",
              "      <th>radius error</th>\n",
              "      <td>455.0</td>\n",
              "      <td>8.535297e-16</td>\n",
              "      <td>1.001101</td>\n",
              "      <td>-1.027104</td>\n",
              "      <td>-0.591183</td>\n",
              "      <td>-0.276882</td>\n",
              "      <td>0.232400</td>\n",
              "      <td>8.736037</td>\n",
              "    </tr>\n",
              "    <tr>\n",
              "      <th>smoothness error</th>\n",
              "      <td>455.0</td>\n",
              "      <td>-1.450122e-15</td>\n",
              "      <td>1.001101</td>\n",
              "      <td>-1.727893</td>\n",
              "      <td>-0.626524</td>\n",
              "      <td>-0.199469</td>\n",
              "      <td>0.353671</td>\n",
              "      <td>7.906053</td>\n",
              "    </tr>\n",
              "    <tr>\n",
              "      <th>symmetry error</th>\n",
              "      <td>455.0</td>\n",
              "      <td>-3.140589e-15</td>\n",
              "      <td>1.001101</td>\n",
              "      <td>-1.554767</td>\n",
              "      <td>-0.657054</td>\n",
              "      <td>-0.227064</td>\n",
              "      <td>0.324207</td>\n",
              "      <td>5.008778</td>\n",
              "    </tr>\n",
              "    <tr>\n",
              "      <th>texture error</th>\n",
              "      <td>455.0</td>\n",
              "      <td>-7.473875e-16</td>\n",
              "      <td>1.001101</td>\n",
              "      <td>-1.556840</td>\n",
              "      <td>-0.680007</td>\n",
              "      <td>-0.198996</td>\n",
              "      <td>0.437610</td>\n",
              "      <td>6.804586</td>\n",
              "    </tr>\n",
              "    <tr>\n",
              "      <th>worst area</th>\n",
              "      <td>455.0</td>\n",
              "      <td>-2.015970e-15</td>\n",
              "      <td>1.001101</td>\n",
              "      <td>-1.152259</td>\n",
              "      <td>-0.635813</td>\n",
              "      <td>-0.335751</td>\n",
              "      <td>0.272486</td>\n",
              "      <td>5.955420</td>\n",
              "    </tr>\n",
              "    <tr>\n",
              "      <th>worst compactness</th>\n",
              "      <td>455.0</td>\n",
              "      <td>-5.904922e-16</td>\n",
              "      <td>1.001101</td>\n",
              "      <td>-1.455995</td>\n",
              "      <td>-0.696132</td>\n",
              "      <td>-0.275386</td>\n",
              "      <td>0.573857</td>\n",
              "      <td>4.424833</td>\n",
              "    </tr>\n",
              "    <tr>\n",
              "      <th>worst concave points</th>\n",
              "      <td>455.0</td>\n",
              "      <td>1.083382e-16</td>\n",
              "      <td>1.001101</td>\n",
              "      <td>-1.749805</td>\n",
              "      <td>-0.770099</td>\n",
              "      <td>-0.238639</td>\n",
              "      <td>0.718999</td>\n",
              "      <td>2.709674</td>\n",
              "    </tr>\n",
              "    <tr>\n",
              "      <th>worst concavity</th>\n",
              "      <td>455.0</td>\n",
              "      <td>-5.975684e-16</td>\n",
              "      <td>1.001101</td>\n",
              "      <td>-1.312795</td>\n",
              "      <td>-0.755587</td>\n",
              "      <td>-0.230411</td>\n",
              "      <td>0.538350</td>\n",
              "      <td>4.672828</td>\n",
              "    </tr>\n",
              "    <tr>\n",
              "      <th>worst fractal dimension</th>\n",
              "      <td>455.0</td>\n",
              "      <td>-2.328540e-15</td>\n",
              "      <td>1.001101</td>\n",
              "      <td>-1.616973</td>\n",
              "      <td>-0.718962</td>\n",
              "      <td>-0.213585</td>\n",
              "      <td>0.460064</td>\n",
              "      <td>4.999482</td>\n",
              "    </tr>\n",
              "    <tr>\n",
              "      <th>worst perimeter</th>\n",
              "      <td>455.0</td>\n",
              "      <td>-8.645099e-16</td>\n",
              "      <td>1.001101</td>\n",
              "      <td>-1.578174</td>\n",
              "      <td>-0.685348</td>\n",
              "      <td>-0.282954</td>\n",
              "      <td>0.526333</td>\n",
              "      <td>4.322305</td>\n",
              "    </tr>\n",
              "    <tr>\n",
              "      <th>worst radius</th>\n",
              "      <td>455.0</td>\n",
              "      <td>1.387413e-15</td>\n",
              "      <td>1.001101</td>\n",
              "      <td>-1.572438</td>\n",
              "      <td>-0.661698</td>\n",
              "      <td>-0.263235</td>\n",
              "      <td>0.452540</td>\n",
              "      <td>4.120889</td>\n",
              "    </tr>\n",
              "    <tr>\n",
              "      <th>worst smoothness</th>\n",
              "      <td>455.0</td>\n",
              "      <td>1.193185e-15</td>\n",
              "      <td>1.001101</td>\n",
              "      <td>-2.617938</td>\n",
              "      <td>-0.743030</td>\n",
              "      <td>-0.027416</td>\n",
              "      <td>0.629648</td>\n",
              "      <td>3.767506</td>\n",
              "    </tr>\n",
              "    <tr>\n",
              "      <th>worst symmetry</th>\n",
              "      <td>455.0</td>\n",
              "      <td>4.788599e-16</td>\n",
              "      <td>1.001101</td>\n",
              "      <td>-2.124261</td>\n",
              "      <td>-0.649985</td>\n",
              "      <td>-0.123684</td>\n",
              "      <td>0.431944</td>\n",
              "      <td>5.917679</td>\n",
              "    </tr>\n",
              "    <tr>\n",
              "      <th>worst texture</th>\n",
              "      <td>455.0</td>\n",
              "      <td>-8.832983e-17</td>\n",
              "      <td>1.001101</td>\n",
              "      <td>-2.230887</td>\n",
              "      <td>-0.741229</td>\n",
              "      <td>-0.052108</td>\n",
              "      <td>0.685706</td>\n",
              "      <td>3.962127</td>\n",
              "    </tr>\n",
              "  </tbody>\n",
              "</table>\n",
              "</div>"
            ],
            "text/plain": [
              "                         count          mean  ...       75%        max\n",
              "area error               455.0  1.561632e-17  ...  0.077435  10.641841\n",
              "compactness error        455.0 -2.401498e-15  ...  0.358304   5.905671\n",
              "concave points error     455.0  3.279428e-16  ...  0.437566   6.504667\n",
              "concavity error          455.0  2.347329e-16  ...  0.303371  11.310294\n",
              "fractal dimension error  455.0  5.050905e-16  ...  0.245340   9.345870\n",
              "mean area                455.0 -2.627935e-16  ...  0.319339   5.208312\n",
              "mean compactness         455.0  1.003349e-15  ...  0.528128   3.964311\n",
              "mean concave points      455.0  5.780480e-16  ...  0.673757   4.022271\n",
              "mean concavity           455.0  9.782163e-16  ...  0.547387   4.256736\n",
              "mean fractal dimension   455.0 -3.347993e-15  ...  0.464223   4.815921\n",
              "mean perimeter           455.0 -3.600783e-15  ...  0.488480   3.976811\n",
              "mean radius              455.0 -1.824182e-15  ...  0.459343   3.961679\n",
              "mean smoothness          455.0 -4.266672e-15  ...  0.633173   4.864642\n",
              "mean symmetry            455.0 -5.918465e-15  ...  0.535429   4.476124\n",
              "mean texture             455.0 -3.363488e-15  ...  0.563199   4.715674\n",
              "perimeter error          455.0  7.520236e-16  ...  0.199256   9.242330\n",
              "radius error             455.0  8.535297e-16  ...  0.232400   8.736037\n",
              "smoothness error         455.0 -1.450122e-15  ...  0.353671   7.906053\n",
              "symmetry error           455.0 -3.140589e-15  ...  0.324207   5.008778\n",
              "texture error            455.0 -7.473875e-16  ...  0.437610   6.804586\n",
              "worst area               455.0 -2.015970e-15  ...  0.272486   5.955420\n",
              "worst compactness        455.0 -5.904922e-16  ...  0.573857   4.424833\n",
              "worst concave points     455.0  1.083382e-16  ...  0.718999   2.709674\n",
              "worst concavity          455.0 -5.975684e-16  ...  0.538350   4.672828\n",
              "worst fractal dimension  455.0 -2.328540e-15  ...  0.460064   4.999482\n",
              "worst perimeter          455.0 -8.645099e-16  ...  0.526333   4.322305\n",
              "worst radius             455.0  1.387413e-15  ...  0.452540   4.120889\n",
              "worst smoothness         455.0  1.193185e-15  ...  0.629648   3.767506\n",
              "worst symmetry           455.0  4.788599e-16  ...  0.431944   5.917679\n",
              "worst texture            455.0 -8.832983e-17  ...  0.685706   3.962127\n",
              "\n",
              "[30 rows x 8 columns]"
            ]
          },
          "metadata": {},
          "execution_count": 9
        }
      ]
    },
    {
      "cell_type": "markdown",
      "metadata": {
        "id": "NrE6QQizzyJu"
      },
      "source": [
        "We can see that after using StandardScaler, all the features have zero mean and unit standard deviation.\n",
        "\n",
        "Let's get the summary statistics for the training data before standardization as well, and we can see that the mean and standard deviation can be very different in scale. For example, the area error has a mean value of 40 and a standard deviation of 47. On the other hand, the compactness error has a mean of about 0.023 and a standard deviation of 0.019."
      ]
    },
    {
      "cell_type": "code",
      "metadata": {
        "colab": {
          "base_uri": "https://localhost:8080/",
          "height": 1000
        },
        "id": "EIkRciTWMO18",
        "outputId": "6cca310e-04fc-4661-d305-eeff5a77a3a1"
      },
      "source": [
        "# Summary statistics before standardization\n",
        "X_train.describe().T"
      ],
      "execution_count": null,
      "outputs": [
        {
          "output_type": "execute_result",
          "data": {
            "text/html": [
              "<div>\n",
              "<style scoped>\n",
              "    .dataframe tbody tr th:only-of-type {\n",
              "        vertical-align: middle;\n",
              "    }\n",
              "\n",
              "    .dataframe tbody tr th {\n",
              "        vertical-align: top;\n",
              "    }\n",
              "\n",
              "    .dataframe thead th {\n",
              "        text-align: right;\n",
              "    }\n",
              "</style>\n",
              "<table border=\"1\" class=\"dataframe\">\n",
              "  <thead>\n",
              "    <tr style=\"text-align: right;\">\n",
              "      <th></th>\n",
              "      <th>count</th>\n",
              "      <th>mean</th>\n",
              "      <th>std</th>\n",
              "      <th>min</th>\n",
              "      <th>25%</th>\n",
              "      <th>50%</th>\n",
              "      <th>75%</th>\n",
              "      <th>max</th>\n",
              "    </tr>\n",
              "  </thead>\n",
              "  <tbody>\n",
              "    <tr>\n",
              "      <th>area error</th>\n",
              "      <td>455.0</td>\n",
              "      <td>40.071299</td>\n",
              "      <td>47.236319</td>\n",
              "      <td>6.802000</td>\n",
              "      <td>18.170000</td>\n",
              "      <td>24.720000</td>\n",
              "      <td>43.725000</td>\n",
              "      <td>542.20000</td>\n",
              "    </tr>\n",
              "    <tr>\n",
              "      <th>compactness error</th>\n",
              "      <td>455.0</td>\n",
              "      <td>0.025635</td>\n",
              "      <td>0.018607</td>\n",
              "      <td>0.002252</td>\n",
              "      <td>0.012730</td>\n",
              "      <td>0.020420</td>\n",
              "      <td>0.032295</td>\n",
              "      <td>0.13540</td>\n",
              "    </tr>\n",
              "    <tr>\n",
              "      <th>concave points error</th>\n",
              "      <td>455.0</td>\n",
              "      <td>0.011894</td>\n",
              "      <td>0.006294</td>\n",
              "      <td>0.000000</td>\n",
              "      <td>0.007691</td>\n",
              "      <td>0.011100</td>\n",
              "      <td>0.014645</td>\n",
              "      <td>0.05279</td>\n",
              "    </tr>\n",
              "    <tr>\n",
              "      <th>concavity error</th>\n",
              "      <td>455.0</td>\n",
              "      <td>0.032824</td>\n",
              "      <td>0.032146</td>\n",
              "      <td>0.000000</td>\n",
              "      <td>0.015120</td>\n",
              "      <td>0.026150</td>\n",
              "      <td>0.042565</td>\n",
              "      <td>0.39600</td>\n",
              "    </tr>\n",
              "    <tr>\n",
              "      <th>fractal dimension error</th>\n",
              "      <td>455.0</td>\n",
              "      <td>0.003820</td>\n",
              "      <td>0.002787</td>\n",
              "      <td>0.000895</td>\n",
              "      <td>0.002222</td>\n",
              "      <td>0.003211</td>\n",
              "      <td>0.004504</td>\n",
              "      <td>0.02984</td>\n",
              "    </tr>\n",
              "    <tr>\n",
              "      <th>mean area</th>\n",
              "      <td>455.0</td>\n",
              "      <td>654.377582</td>\n",
              "      <td>354.943187</td>\n",
              "      <td>170.400000</td>\n",
              "      <td>420.300000</td>\n",
              "      <td>551.700000</td>\n",
              "      <td>767.600000</td>\n",
              "      <td>2501.00000</td>\n",
              "    </tr>\n",
              "    <tr>\n",
              "      <th>mean compactness</th>\n",
              "      <td>455.0</td>\n",
              "      <td>0.103619</td>\n",
              "      <td>0.052470</td>\n",
              "      <td>0.019380</td>\n",
              "      <td>0.062890</td>\n",
              "      <td>0.090970</td>\n",
              "      <td>0.131300</td>\n",
              "      <td>0.31140</td>\n",
              "    </tr>\n",
              "    <tr>\n",
              "      <th>mean concave points</th>\n",
              "      <td>455.0</td>\n",
              "      <td>0.048280</td>\n",
              "      <td>0.038060</td>\n",
              "      <td>0.000000</td>\n",
              "      <td>0.020340</td>\n",
              "      <td>0.033410</td>\n",
              "      <td>0.073895</td>\n",
              "      <td>0.20120</td>\n",
              "    </tr>\n",
              "    <tr>\n",
              "      <th>mean concavity</th>\n",
              "      <td>455.0</td>\n",
              "      <td>0.088898</td>\n",
              "      <td>0.079468</td>\n",
              "      <td>0.000000</td>\n",
              "      <td>0.029320</td>\n",
              "      <td>0.061540</td>\n",
              "      <td>0.132350</td>\n",
              "      <td>0.42680</td>\n",
              "    </tr>\n",
              "    <tr>\n",
              "      <th>mean fractal dimension</th>\n",
              "      <td>455.0</td>\n",
              "      <td>0.062757</td>\n",
              "      <td>0.007210</td>\n",
              "      <td>0.049960</td>\n",
              "      <td>0.057645</td>\n",
              "      <td>0.061480</td>\n",
              "      <td>0.066100</td>\n",
              "      <td>0.09744</td>\n",
              "    </tr>\n",
              "    <tr>\n",
              "      <th>mean perimeter</th>\n",
              "      <td>455.0</td>\n",
              "      <td>91.882242</td>\n",
              "      <td>24.322027</td>\n",
              "      <td>47.920000</td>\n",
              "      <td>75.100000</td>\n",
              "      <td>85.980000</td>\n",
              "      <td>103.750000</td>\n",
              "      <td>188.50000</td>\n",
              "    </tr>\n",
              "    <tr>\n",
              "      <th>mean radius</th>\n",
              "      <td>455.0</td>\n",
              "      <td>14.117635</td>\n",
              "      <td>3.535815</td>\n",
              "      <td>7.691000</td>\n",
              "      <td>11.705000</td>\n",
              "      <td>13.300000</td>\n",
              "      <td>15.740000</td>\n",
              "      <td>28.11000</td>\n",
              "    </tr>\n",
              "    <tr>\n",
              "      <th>mean smoothness</th>\n",
              "      <td>455.0</td>\n",
              "      <td>0.095744</td>\n",
              "      <td>0.013923</td>\n",
              "      <td>0.052630</td>\n",
              "      <td>0.085825</td>\n",
              "      <td>0.094620</td>\n",
              "      <td>0.104550</td>\n",
              "      <td>0.16340</td>\n",
              "    </tr>\n",
              "    <tr>\n",
              "      <th>mean symmetry</th>\n",
              "      <td>455.0</td>\n",
              "      <td>0.181099</td>\n",
              "      <td>0.027487</td>\n",
              "      <td>0.116700</td>\n",
              "      <td>0.161850</td>\n",
              "      <td>0.179200</td>\n",
              "      <td>0.195800</td>\n",
              "      <td>0.30400</td>\n",
              "    </tr>\n",
              "    <tr>\n",
              "      <th>mean texture</th>\n",
              "      <td>455.0</td>\n",
              "      <td>19.185033</td>\n",
              "      <td>4.266005</td>\n",
              "      <td>9.710000</td>\n",
              "      <td>16.170000</td>\n",
              "      <td>18.680000</td>\n",
              "      <td>21.585000</td>\n",
              "      <td>39.28000</td>\n",
              "    </tr>\n",
              "    <tr>\n",
              "      <th>perimeter error</th>\n",
              "      <td>455.0</td>\n",
              "      <td>2.858253</td>\n",
              "      <td>2.071209</td>\n",
              "      <td>0.757000</td>\n",
              "      <td>1.653000</td>\n",
              "      <td>2.287000</td>\n",
              "      <td>3.270500</td>\n",
              "      <td>21.98000</td>\n",
              "    </tr>\n",
              "    <tr>\n",
              "      <th>radius error</th>\n",
              "      <td>455.0</td>\n",
              "      <td>0.402016</td>\n",
              "      <td>0.283161</td>\n",
              "      <td>0.111500</td>\n",
              "      <td>0.234800</td>\n",
              "      <td>0.323700</td>\n",
              "      <td>0.467750</td>\n",
              "      <td>2.87300</td>\n",
              "    </tr>\n",
              "    <tr>\n",
              "      <th>smoothness error</th>\n",
              "      <td>455.0</td>\n",
              "      <td>0.006989</td>\n",
              "      <td>0.003057</td>\n",
              "      <td>0.001713</td>\n",
              "      <td>0.005076</td>\n",
              "      <td>0.006380</td>\n",
              "      <td>0.008069</td>\n",
              "      <td>0.03113</td>\n",
              "    </tr>\n",
              "    <tr>\n",
              "      <th>symmetry error</th>\n",
              "      <td>455.0</td>\n",
              "      <td>0.020574</td>\n",
              "      <td>0.008172</td>\n",
              "      <td>0.007882</td>\n",
              "      <td>0.015210</td>\n",
              "      <td>0.018720</td>\n",
              "      <td>0.023220</td>\n",
              "      <td>0.06146</td>\n",
              "    </tr>\n",
              "    <tr>\n",
              "      <th>texture error</th>\n",
              "      <td>455.0</td>\n",
              "      <td>1.202687</td>\n",
              "      <td>0.541747</td>\n",
              "      <td>0.360200</td>\n",
              "      <td>0.834700</td>\n",
              "      <td>1.095000</td>\n",
              "      <td>1.439500</td>\n",
              "      <td>4.88500</td>\n",
              "    </tr>\n",
              "    <tr>\n",
              "      <th>worst area</th>\n",
              "      <td>455.0</td>\n",
              "      <td>876.987033</td>\n",
              "      <td>567.672841</td>\n",
              "      <td>223.600000</td>\n",
              "      <td>516.450000</td>\n",
              "      <td>686.600000</td>\n",
              "      <td>1031.500000</td>\n",
              "      <td>4254.00000</td>\n",
              "    </tr>\n",
              "    <tr>\n",
              "      <th>worst compactness</th>\n",
              "      <td>455.0</td>\n",
              "      <td>0.252742</td>\n",
              "      <td>0.155014</td>\n",
              "      <td>0.027290</td>\n",
              "      <td>0.144950</td>\n",
              "      <td>0.210100</td>\n",
              "      <td>0.341600</td>\n",
              "      <td>0.93790</td>\n",
              "    </tr>\n",
              "    <tr>\n",
              "      <th>worst concave points</th>\n",
              "      <td>455.0</td>\n",
              "      <td>0.114182</td>\n",
              "      <td>0.065326</td>\n",
              "      <td>0.000000</td>\n",
              "      <td>0.063930</td>\n",
              "      <td>0.098610</td>\n",
              "      <td>0.161100</td>\n",
              "      <td>0.29100</td>\n",
              "    </tr>\n",
              "    <tr>\n",
              "      <th>worst concavity</th>\n",
              "      <td>455.0</td>\n",
              "      <td>0.274595</td>\n",
              "      <td>0.209398</td>\n",
              "      <td>0.000000</td>\n",
              "      <td>0.116550</td>\n",
              "      <td>0.226400</td>\n",
              "      <td>0.387200</td>\n",
              "      <td>1.25200</td>\n",
              "    </tr>\n",
              "    <tr>\n",
              "      <th>worst fractal dimension</th>\n",
              "      <td>455.0</td>\n",
              "      <td>0.083868</td>\n",
              "      <td>0.017848</td>\n",
              "      <td>0.055040</td>\n",
              "      <td>0.071050</td>\n",
              "      <td>0.080060</td>\n",
              "      <td>0.092070</td>\n",
              "      <td>0.17300</td>\n",
              "    </tr>\n",
              "    <tr>\n",
              "      <th>worst perimeter</th>\n",
              "      <td>455.0</td>\n",
              "      <td>107.103121</td>\n",
              "      <td>33.374664</td>\n",
              "      <td>54.490000</td>\n",
              "      <td>84.255000</td>\n",
              "      <td>97.670000</td>\n",
              "      <td>124.650000</td>\n",
              "      <td>251.20000</td>\n",
              "    </tr>\n",
              "    <tr>\n",
              "      <th>worst radius</th>\n",
              "      <td>455.0</td>\n",
              "      <td>16.235103</td>\n",
              "      <td>4.811267</td>\n",
              "      <td>8.678000</td>\n",
              "      <td>13.055000</td>\n",
              "      <td>14.970000</td>\n",
              "      <td>18.410000</td>\n",
              "      <td>36.04000</td>\n",
              "    </tr>\n",
              "    <tr>\n",
              "      <th>worst smoothness</th>\n",
              "      <td>455.0</td>\n",
              "      <td>0.131532</td>\n",
              "      <td>0.023083</td>\n",
              "      <td>0.071170</td>\n",
              "      <td>0.114400</td>\n",
              "      <td>0.130900</td>\n",
              "      <td>0.146050</td>\n",
              "      <td>0.21840</td>\n",
              "    </tr>\n",
              "    <tr>\n",
              "      <th>worst symmetry</th>\n",
              "      <td>455.0</td>\n",
              "      <td>0.290502</td>\n",
              "      <td>0.063151</td>\n",
              "      <td>0.156500</td>\n",
              "      <td>0.249500</td>\n",
              "      <td>0.282700</td>\n",
              "      <td>0.317750</td>\n",
              "      <td>0.66380</td>\n",
              "    </tr>\n",
              "    <tr>\n",
              "      <th>worst texture</th>\n",
              "      <td>455.0</td>\n",
              "      <td>25.535692</td>\n",
              "      <td>6.065108</td>\n",
              "      <td>12.020000</td>\n",
              "      <td>21.045000</td>\n",
              "      <td>25.220000</td>\n",
              "      <td>29.690000</td>\n",
              "      <td>49.54000</td>\n",
              "    </tr>\n",
              "  </tbody>\n",
              "</table>\n",
              "</div>"
            ],
            "text/plain": [
              "                         count        mean  ...          75%         max\n",
              "area error               455.0   40.071299  ...    43.725000   542.20000\n",
              "compactness error        455.0    0.025635  ...     0.032295     0.13540\n",
              "concave points error     455.0    0.011894  ...     0.014645     0.05279\n",
              "concavity error          455.0    0.032824  ...     0.042565     0.39600\n",
              "fractal dimension error  455.0    0.003820  ...     0.004504     0.02984\n",
              "mean area                455.0  654.377582  ...   767.600000  2501.00000\n",
              "mean compactness         455.0    0.103619  ...     0.131300     0.31140\n",
              "mean concave points      455.0    0.048280  ...     0.073895     0.20120\n",
              "mean concavity           455.0    0.088898  ...     0.132350     0.42680\n",
              "mean fractal dimension   455.0    0.062757  ...     0.066100     0.09744\n",
              "mean perimeter           455.0   91.882242  ...   103.750000   188.50000\n",
              "mean radius              455.0   14.117635  ...    15.740000    28.11000\n",
              "mean smoothness          455.0    0.095744  ...     0.104550     0.16340\n",
              "mean symmetry            455.0    0.181099  ...     0.195800     0.30400\n",
              "mean texture             455.0   19.185033  ...    21.585000    39.28000\n",
              "perimeter error          455.0    2.858253  ...     3.270500    21.98000\n",
              "radius error             455.0    0.402016  ...     0.467750     2.87300\n",
              "smoothness error         455.0    0.006989  ...     0.008069     0.03113\n",
              "symmetry error           455.0    0.020574  ...     0.023220     0.06146\n",
              "texture error            455.0    1.202687  ...     1.439500     4.88500\n",
              "worst area               455.0  876.987033  ...  1031.500000  4254.00000\n",
              "worst compactness        455.0    0.252742  ...     0.341600     0.93790\n",
              "worst concave points     455.0    0.114182  ...     0.161100     0.29100\n",
              "worst concavity          455.0    0.274595  ...     0.387200     1.25200\n",
              "worst fractal dimension  455.0    0.083868  ...     0.092070     0.17300\n",
              "worst perimeter          455.0  107.103121  ...   124.650000   251.20000\n",
              "worst radius             455.0   16.235103  ...    18.410000    36.04000\n",
              "worst smoothness         455.0    0.131532  ...     0.146050     0.21840\n",
              "worst symmetry           455.0    0.290502  ...     0.317750     0.66380\n",
              "worst texture            455.0   25.535692  ...    29.690000    49.54000\n",
              "\n",
              "[30 rows x 8 columns]"
            ]
          },
          "metadata": {},
          "execution_count": 8
        }
      ]
    },
    {
      "cell_type": "markdown",
      "metadata": {
        "id": "Cz0C0I4FJRjV"
      },
      "source": [
        "# Step 5: Logistic Regression With No Regularization"
      ]
    },
    {
      "cell_type": "markdown",
      "metadata": {
        "id": "uzicMMwZMr9M"
      },
      "source": [
        "In step 5, we will create a logistic regression with no regularization as the baseline model.\n",
        "\n",
        "Logistic regression in `sklearn` uses Ridge regularization by default. When checking the default hyperparameter values of the LogisticRegression(), we see that `penalty='l2'`, meaning that L2 regularization is used."
      ]
    },
    {
      "cell_type": "code",
      "metadata": {
        "colab": {
          "base_uri": "https://localhost:8080/"
        },
        "id": "uo6eYlDMMWXA",
        "outputId": "9589bffc-7716-41c8-c429-971b66ab714a"
      },
      "source": [
        "# Check default values\n",
        "LogisticRegression()"
      ],
      "execution_count": null,
      "outputs": [
        {
          "output_type": "execute_result",
          "data": {
            "text/plain": [
              "LogisticRegression(C=1.0, class_weight=None, dual=False, fit_intercept=True,\n",
              "                   intercept_scaling=1, l1_ratio=None, max_iter=100,\n",
              "                   multi_class='auto', n_jobs=None, penalty='l2',\n",
              "                   random_state=None, solver='lbfgs', tol=0.0001, verbose=0,\n",
              "                   warm_start=False)"
            ]
          },
          "metadata": {},
          "execution_count": 10
        }
      ]
    },
    {
      "cell_type": "markdown",
      "metadata": {
        "id": "tHagMrscPFT5"
      },
      "source": [
        "We need to change the `penalty` from `l2` to 'none' to get the model with no regularization. After running the baseline logistic regression model, we also predicted the testing dataset using `.predict` and calculated the predicted probabilities using `.predict_proba`."
      ]
    },
    {
      "cell_type": "code",
      "metadata": {
        "id": "gn-umNxeMXXK"
      },
      "source": [
        "# Run model\n",
        "logistic = LogisticRegression(penalty='none', random_state=0).fit(X_train_transformed, y_train)\n",
        "\n",
        "# Make prediction\n",
        "logistic_prediction = logistic.predict(X_test_transformed)\n",
        "\n",
        "# Get predicted probability\n",
        "logistic_pred_Prob = logistic.predict_proba(X_test_transformed)[:,1]\n"
      ],
      "execution_count": null,
      "outputs": []
    },
    {
      "cell_type": "markdown",
      "metadata": {
        "id": "kKAslM7wUcAX"
      },
      "source": [
        "After getting the predicted value and predicted probability, we are ready to check the model performance!\n",
        "\n",
        "First, let's check the ROC curve. We got the area under curve value of 0.9818."
      ]
    },
    {
      "cell_type": "code",
      "metadata": {
        "colab": {
          "base_uri": "https://localhost:8080/",
          "height": 283
        },
        "id": "QJu-Er9TMXRM",
        "outputId": "96686078-3f34-46f0-e4d0-6e78a325964b"
      },
      "source": [
        "# Get the false positive rate and true positive rate\n",
        "fpr,tpr, _=roc_curve(y_test,logistic_pred_Prob)\n",
        "\n",
        "# Get auc value\n",
        "auc=roc_auc_score(y_test,logistic_pred_Prob)\n",
        "\n",
        "# Plot the chart\n",
        "plt.plot(fpr,tpr,label=\"area=\"+str(auc))\n",
        "plt.legend(loc=4)"
      ],
      "execution_count": null,
      "outputs": [
        {
          "output_type": "execute_result",
          "data": {
            "text/plain": [
              "<matplotlib.legend.Legend at 0x7fe404594dd0>"
            ]
          },
          "metadata": {},
          "execution_count": 11
        },
        {
          "output_type": "display_data",
          "data": {
            "image/png": "[encoded data removed]",
            "text/plain": [
              "<Figure size 432x288 with 1 Axes>"
            ]
          },
          "metadata": {
            "needs_background": "light"
          }
        }
      ]
    },
    {
      "cell_type": "markdown",
      "metadata": {
        "id": "CNjF3AIo6-zb"
      },
      "source": [
        "The log loss value for the model is 2.02."
      ]
    },
    {
      "cell_type": "code",
      "metadata": {
        "colab": {
          "base_uri": "https://localhost:8080/"
        },
        "id": "tDb8Zh9gMXEB",
        "outputId": "fc9559d8-12c0-4e5c-fbd2-4e239befbe1c"
      },
      "source": [
        "# Caclulate log loss\n",
        "log_loss(y_test,logistic_pred_Prob)"
      ],
      "execution_count": null,
      "outputs": [
        {
          "output_type": "execute_result",
          "data": {
            "text/plain": [
              "2.0150517046435854"
            ]
          },
          "metadata": {},
          "execution_count": 13
        }
      ]
    },
    {
      "cell_type": "markdown",
      "metadata": {
        "id": "ankdmrkG2YGK"
      },
      "source": [
        "The confusion matrix shows 1 false positives and 6 false negatives."
      ]
    },
    {
      "cell_type": "code",
      "metadata": {
        "colab": {
          "base_uri": "https://localhost:8080/",
          "height": 297
        },
        "id": "93TIUyp3MXKK",
        "outputId": "4a6c481f-5fac-4b14-c7dc-36725fdcaf51"
      },
      "source": [
        "# Confusion matrix\n",
        "plot_confusion_matrix(logistic, X_test_transformed, y_test)"
      ],
      "execution_count": null,
      "outputs": [
        {
          "output_type": "execute_result",
          "data": {
            "text/plain": [
              "<sklearn.metrics._plot.confusion_matrix.ConfusionMatrixDisplay at 0x7fe4045dd7d0>"
            ]
          },
          "metadata": {},
          "execution_count": 12
        },
        {
          "output_type": "display_data",
          "data": {
            "image/png": "[encoded data removed]",
            "text/plain": [
              "<Figure size 432x288 with 2 Axes>"
            ]
          },
          "metadata": {
            "needs_background": "light"
          }
        }
      ]
    },
    {
      "cell_type": "markdown",
      "metadata": {
        "id": "0tS2TGNX7OaU"
      },
      "source": [
        "A total of 7 incorrect predictions correspond to an accuracy of 0.939.\n",
        "\n",
        "We do not want to miss any actual cancer patient for the breast cancer prediction and do not mind having a few false positives, so recall would be the metric to pay most attention to. The recall is the true positive rate. It measures the percentage of actual cancer patients captured by the model. We can see that the logistic regression gave us the recall value of 0.915, meaning that 91.5% of the actual cancer patients are captured."
      ]
    },
    {
      "cell_type": "code",
      "metadata": {
        "colab": {
          "base_uri": "https://localhost:8080/"
        },
        "id": "FbMQoD-fMW64",
        "outputId": "a208e63e-6340-40d6-bf52-db6ebade8191"
      },
      "source": [
        "# Performance report\n",
        "print(classification_report(y_test, logistic_prediction, digits=3))"
      ],
      "execution_count": null,
      "outputs": [
        {
          "output_type": "stream",
          "name": "stdout",
          "text": [
            "              precision    recall  f1-score   support\n",
            "\n",
            "           0      0.875     0.977     0.923        43\n",
            "           1      0.985     0.915     0.949        71\n",
            "\n",
            "    accuracy                          0.939       114\n",
            "   macro avg      0.930     0.946     0.936       114\n",
            "weighted avg      0.943     0.939     0.939       114\n",
            "\n"
          ]
        }
      ]
    },
    {
      "cell_type": "markdown",
      "metadata": {
        "id": "JCUqRDRP8upp"
      },
      "source": [
        "Next, let's check the coefficients of the model. Based on their absolute values, I ranked the model coefficients from high to low, and we can see the top variables have coefficients in a few hundred."
      ]
    },
    {
      "cell_type": "code",
      "metadata": {
        "colab": {
          "base_uri": "https://localhost:8080/",
          "height": 989
        },
        "id": "Vkr-y9VdMWxM",
        "outputId": "bd670f7e-80bc-4698-e0be-d66933fb0939"
      },
      "source": [
        "# Model coefficients\n",
        "LogisticCoeff = pd.concat([pd.DataFrame(X_test_transformed.columns),pd.DataFrame(np.transpose(logistic.coef_))], axis = 1)\n",
        "LogisticCoeff.columns=['Variable','Coefficient']\n",
        "LogisticCoeff['Coefficient_Abs']=LogisticCoeff['Coefficient'].apply(abs)\n",
        "LogisticCoeff.sort_values(by='Coefficient_Abs', ascending=False)"
      ],
      "execution_count": null,
      "outputs": [
        {
          "output_type": "execute_result",
          "data": {
            "text/html": [
              "<div>\n",
              "<style scoped>\n",
              "    .dataframe tbody tr th:only-of-type {\n",
              "        vertical-align: middle;\n",
              "    }\n",
              "\n",
              "    .dataframe tbody tr th {\n",
              "        vertical-align: top;\n",
              "    }\n",
              "\n",
              "    .dataframe thead th {\n",
              "        text-align: right;\n",
              "    }\n",
              "</style>\n",
              "<table border=\"1\" class=\"dataframe\">\n",
              "  <thead>\n",
              "    <tr style=\"text-align: right;\">\n",
              "      <th></th>\n",
              "      <th>Variable</th>\n",
              "      <th>Coefficient</th>\n",
              "      <th>Coefficient_Abs</th>\n",
              "    </tr>\n",
              "  </thead>\n",
              "  <tbody>\n",
              "    <tr>\n",
              "      <th>6</th>\n",
              "      <td>mean compactness</td>\n",
              "      <td>599.625747</td>\n",
              "      <td>599.625747</td>\n",
              "    </tr>\n",
              "    <tr>\n",
              "      <th>7</th>\n",
              "      <td>mean concave points</td>\n",
              "      <td>-579.850455</td>\n",
              "      <td>579.850455</td>\n",
              "    </tr>\n",
              "    <tr>\n",
              "      <th>16</th>\n",
              "      <td>radius error</td>\n",
              "      <td>-566.490524</td>\n",
              "      <td>566.490524</td>\n",
              "    </tr>\n",
              "    <tr>\n",
              "      <th>3</th>\n",
              "      <td>concavity error</td>\n",
              "      <td>537.731215</td>\n",
              "      <td>537.731215</td>\n",
              "    </tr>\n",
              "    <tr>\n",
              "      <th>23</th>\n",
              "      <td>worst concavity</td>\n",
              "      <td>-531.475901</td>\n",
              "      <td>531.475901</td>\n",
              "    </tr>\n",
              "    <tr>\n",
              "      <th>9</th>\n",
              "      <td>mean fractal dimension</td>\n",
              "      <td>-367.904097</td>\n",
              "      <td>367.904097</td>\n",
              "    </tr>\n",
              "    <tr>\n",
              "      <th>28</th>\n",
              "      <td>worst symmetry</td>\n",
              "      <td>-367.005724</td>\n",
              "      <td>367.005724</td>\n",
              "    </tr>\n",
              "    <tr>\n",
              "      <th>0</th>\n",
              "      <td>area error</td>\n",
              "      <td>-364.748996</td>\n",
              "      <td>364.748996</td>\n",
              "    </tr>\n",
              "    <tr>\n",
              "      <th>8</th>\n",
              "      <td>mean concavity</td>\n",
              "      <td>-292.316154</td>\n",
              "      <td>292.316154</td>\n",
              "    </tr>\n",
              "    <tr>\n",
              "      <th>4</th>\n",
              "      <td>fractal dimension error</td>\n",
              "      <td>286.785065</td>\n",
              "      <td>286.785065</td>\n",
              "    </tr>\n",
              "    <tr>\n",
              "      <th>15</th>\n",
              "      <td>perimeter error</td>\n",
              "      <td>253.553102</td>\n",
              "      <td>253.553102</td>\n",
              "    </tr>\n",
              "    <tr>\n",
              "      <th>26</th>\n",
              "      <td>worst radius</td>\n",
              "      <td>-231.753468</td>\n",
              "      <td>231.753468</td>\n",
              "    </tr>\n",
              "    <tr>\n",
              "      <th>20</th>\n",
              "      <td>worst area</td>\n",
              "      <td>-227.014107</td>\n",
              "      <td>227.014107</td>\n",
              "    </tr>\n",
              "    <tr>\n",
              "      <th>1</th>\n",
              "      <td>compactness error</td>\n",
              "      <td>-213.950199</td>\n",
              "      <td>213.950199</td>\n",
              "    </tr>\n",
              "    <tr>\n",
              "      <th>18</th>\n",
              "      <td>symmetry error</td>\n",
              "      <td>208.772545</td>\n",
              "      <td>208.772545</td>\n",
              "    </tr>\n",
              "    <tr>\n",
              "      <th>27</th>\n",
              "      <td>worst smoothness</td>\n",
              "      <td>203.409877</td>\n",
              "      <td>203.409877</td>\n",
              "    </tr>\n",
              "    <tr>\n",
              "      <th>29</th>\n",
              "      <td>worst texture</td>\n",
              "      <td>-197.861547</td>\n",
              "      <td>197.861547</td>\n",
              "    </tr>\n",
              "    <tr>\n",
              "      <th>17</th>\n",
              "      <td>smoothness error</td>\n",
              "      <td>-170.576094</td>\n",
              "      <td>170.576094</td>\n",
              "    </tr>\n",
              "    <tr>\n",
              "      <th>25</th>\n",
              "      <td>worst perimeter</td>\n",
              "      <td>159.550477</td>\n",
              "      <td>159.550477</td>\n",
              "    </tr>\n",
              "    <tr>\n",
              "      <th>2</th>\n",
              "      <td>concave points error</td>\n",
              "      <td>-153.722179</td>\n",
              "      <td>153.722179</td>\n",
              "    </tr>\n",
              "    <tr>\n",
              "      <th>24</th>\n",
              "      <td>worst fractal dimension</td>\n",
              "      <td>130.081039</td>\n",
              "      <td>130.081039</td>\n",
              "    </tr>\n",
              "    <tr>\n",
              "      <th>13</th>\n",
              "      <td>mean symmetry</td>\n",
              "      <td>88.153394</td>\n",
              "      <td>88.153394</td>\n",
              "    </tr>\n",
              "    <tr>\n",
              "      <th>10</th>\n",
              "      <td>mean perimeter</td>\n",
              "      <td>85.863999</td>\n",
              "      <td>85.863999</td>\n",
              "    </tr>\n",
              "    <tr>\n",
              "      <th>19</th>\n",
              "      <td>texture error</td>\n",
              "      <td>78.567689</td>\n",
              "      <td>78.567689</td>\n",
              "    </tr>\n",
              "    <tr>\n",
              "      <th>21</th>\n",
              "      <td>worst compactness</td>\n",
              "      <td>63.444196</td>\n",
              "      <td>63.444196</td>\n",
              "    </tr>\n",
              "    <tr>\n",
              "      <th>14</th>\n",
              "      <td>mean texture</td>\n",
              "      <td>-38.770421</td>\n",
              "      <td>38.770421</td>\n",
              "    </tr>\n",
              "    <tr>\n",
              "      <th>5</th>\n",
              "      <td>mean area</td>\n",
              "      <td>21.825723</td>\n",
              "      <td>21.825723</td>\n",
              "    </tr>\n",
              "    <tr>\n",
              "      <th>22</th>\n",
              "      <td>worst concave points</td>\n",
              "      <td>-19.537724</td>\n",
              "      <td>19.537724</td>\n",
              "    </tr>\n",
              "    <tr>\n",
              "      <th>11</th>\n",
              "      <td>mean radius</td>\n",
              "      <td>18.674433</td>\n",
              "      <td>18.674433</td>\n",
              "    </tr>\n",
              "    <tr>\n",
              "      <th>12</th>\n",
              "      <td>mean smoothness</td>\n",
              "      <td>9.945701</td>\n",
              "      <td>9.945701</td>\n",
              "    </tr>\n",
              "  </tbody>\n",
              "</table>\n",
              "</div>"
            ],
            "text/plain": [
              "                   Variable  Coefficient  Coefficient_Abs\n",
              "6          mean compactness   599.625747       599.625747\n",
              "7       mean concave points  -579.850455       579.850455\n",
              "16             radius error  -566.490524       566.490524\n",
              "3           concavity error   537.731215       537.731215\n",
              "23          worst concavity  -531.475901       531.475901\n",
              "9    mean fractal dimension  -367.904097       367.904097\n",
              "28           worst symmetry  -367.005724       367.005724\n",
              "0                area error  -364.748996       364.748996\n",
              "8            mean concavity  -292.316154       292.316154\n",
              "4   fractal dimension error   286.785065       286.785065\n",
              "15          perimeter error   253.553102       253.553102\n",
              "26             worst radius  -231.753468       231.753468\n",
              "20               worst area  -227.014107       227.014107\n",
              "1         compactness error  -213.950199       213.950199\n",
              "18           symmetry error   208.772545       208.772545\n",
              "27         worst smoothness   203.409877       203.409877\n",
              "29            worst texture  -197.861547       197.861547\n",
              "17         smoothness error  -170.576094       170.576094\n",
              "25          worst perimeter   159.550477       159.550477\n",
              "2      concave points error  -153.722179       153.722179\n",
              "24  worst fractal dimension   130.081039       130.081039\n",
              "13            mean symmetry    88.153394        88.153394\n",
              "10           mean perimeter    85.863999        85.863999\n",
              "19            texture error    78.567689        78.567689\n",
              "21        worst compactness    63.444196        63.444196\n",
              "14             mean texture   -38.770421        38.770421\n",
              "5                 mean area    21.825723        21.825723\n",
              "22     worst concave points   -19.537724        19.537724\n",
              "11              mean radius    18.674433        18.674433\n",
              "12          mean smoothness     9.945701         9.945701"
            ]
          },
          "metadata": {},
          "execution_count": 15
        }
      ]
    },
    {
      "cell_type": "markdown",
      "metadata": {
        "id": "Uqh-Utdego8E"
      },
      "source": [
        "# Step 6: LASSO"
      ]
    },
    {
      "cell_type": "markdown",
      "metadata": {
        "id": "J5EvIyGg-V6z"
      },
      "source": [
        "In step 6, LASSO model is used to run the same analysis.\n",
        "\n",
        "`penalty='l1'` means LASSO regularization is applied.\n",
        "\n",
        "`solver` is an algorithm to use in the optimization problem. There are different types of solvers. For small datasets, ‘liblinear’ is a good choice, whereas ‘sag’ and ‘saga’ are faster for large datasets."
      ]
    },
    {
      "cell_type": "code",
      "metadata": {
        "id": "XdUElLVIisKG"
      },
      "source": [
        "# Run model\n",
        "lasso = LogisticRegression(penalty='l1', solver='liblinear', random_state=0).fit(X_train_transformed, y_train)\n",
        "\n",
        "# Make prediction\n",
        "lasso_prediction = lasso.predict(X_test_transformed)\n",
        "\n",
        "# Get predicted probability\n",
        "lasso_pred_Prob = lasso.predict_proba(X_test_transformed)[:,1]"
      ],
      "execution_count": null,
      "outputs": []
    },
    {
      "cell_type": "markdown",
      "metadata": {
        "id": "VdYtHb5QAqIQ"
      },
      "source": [
        "The ROC/AUC value is 0.9967 for LASSO, higher than the logistic regression value of 0.9818."
      ]
    },
    {
      "cell_type": "code",
      "metadata": {
        "colab": {
          "base_uri": "https://localhost:8080/",
          "height": 283
        },
        "id": "ZZrQ2a1HpQKL",
        "outputId": "c8d349a6-44fc-4398-9a17-42a3e40af23f"
      },
      "source": [
        "# Get the false positive rate and true positive rate\n",
        "fpr,tpr, _= roc_curve(y_test,lasso_pred_Prob)\n",
        "\n",
        "# Get auc value\n",
        "auc = roc_auc_score(y_test,lasso_pred_Prob)\n",
        "\n",
        "# Plot the chart\n",
        "plt.plot(fpr,tpr,label=\"area=\"+str(auc))\n",
        "plt.legend(loc=4)"
      ],
      "execution_count": null,
      "outputs": [
        {
          "output_type": "execute_result",
          "data": {
            "text/plain": [
              "<matplotlib.legend.Legend at 0x7fe3fb77e590>"
            ]
          },
          "metadata": {},
          "execution_count": 18
        },
        {
          "output_type": "display_data",
          "data": {
            "image/png": "[encoded data removed]",
            "text/plain": [
              "<Figure size 432x288 with 1 Axes>"
            ]
          },
          "metadata": {
            "needs_background": "light"
          }
        }
      ]
    },
    {
      "cell_type": "markdown",
      "metadata": {
        "id": "8vsGkQr6BHIN"
      },
      "source": [
        "The log loss decreased from baseline logistic regression's 2.015 to 0.0685. That's a significant improvement!"
      ]
    },
    {
      "cell_type": "code",
      "metadata": {
        "colab": {
          "base_uri": "https://localhost:8080/"
        },
        "id": "QV6mJ7U9pnKa",
        "outputId": "2d8016c3-0f00-489b-ef22-93de19f59f1e"
      },
      "source": [
        "# Calculate log loss\n",
        "log_loss(y_test,lasso_pred_Prob)"
      ],
      "execution_count": null,
      "outputs": [
        {
          "output_type": "execute_result",
          "data": {
            "text/plain": [
              "0.06846705785516008"
            ]
          },
          "metadata": {},
          "execution_count": 20
        }
      ]
    },
    {
      "cell_type": "markdown",
      "metadata": {
        "id": "RjGR4KTJBbxp"
      },
      "source": [
        "The confusion matrix shows the same false positive count of 1, but the false negative count decreased from 6 to 2."
      ]
    },
    {
      "cell_type": "code",
      "metadata": {
        "colab": {
          "base_uri": "https://localhost:8080/",
          "height": 297
        },
        "id": "Ek3yPOtppghl",
        "outputId": "f75dc720-ded6-4b35-afad-25847aa589a4"
      },
      "source": [
        "# Confusion matrix\n",
        "plot_confusion_matrix(lasso, X_test_transformed, y_test)"
      ],
      "execution_count": null,
      "outputs": [
        {
          "output_type": "execute_result",
          "data": {
            "text/plain": [
              "<sklearn.metrics._plot.confusion_matrix.ConfusionMatrixDisplay at 0x7fe3fb7545d0>"
            ]
          },
          "metadata": {},
          "execution_count": 19
        },
        {
          "output_type": "display_data",
          "data": {
            "image/png": "[encoded data removed]",
            "text/plain": [
              "<Figure size 432x288 with 2 Axes>"
            ]
          },
          "metadata": {
            "needs_background": "light"
          }
        }
      ]
    },
    {
      "cell_type": "markdown",
      "metadata": {
        "id": "qRWJ-djKB22Y"
      },
      "source": [
        "Because of the decrease in false negative count, the accuracy increased from 0.939 to 0.974. And the recall value increased from 0.915 to 0.972."
      ]
    },
    {
      "cell_type": "code",
      "metadata": {
        "colab": {
          "base_uri": "https://localhost:8080/"
        },
        "id": "rAIKFWD7pup5",
        "outputId": "afdf9460-91ba-441c-ad2d-5ab4e40ac59e"
      },
      "source": [
        "# Performance report\n",
        "print(classification_report(y_test, lasso_prediction, digits=3))"
      ],
      "execution_count": null,
      "outputs": [
        {
          "output_type": "stream",
          "name": "stdout",
          "text": [
            "              precision    recall  f1-score   support\n",
            "\n",
            "           0      0.955     0.977     0.966        43\n",
            "           1      0.986     0.972     0.979        71\n",
            "\n",
            "    accuracy                          0.974       114\n",
            "   macro avg      0.970     0.974     0.972       114\n",
            "weighted avg      0.974     0.974     0.974       114\n",
            "\n"
          ]
        }
      ]
    },
    {
      "cell_type": "markdown",
      "metadata": {
        "id": "DkruiK1ICckT"
      },
      "source": [
        "LASSO's coefficients decreased a lot compared to the logistic regression coefficients. As a result, about half of the features have a coefficient of zero.\n",
        "\n",
        "So LASSO gives us a simpler model with better performance."
      ]
    },
    {
      "cell_type": "code",
      "metadata": {
        "colab": {
          "base_uri": "https://localhost:8080/",
          "height": 989
        },
        "id": "lccZL4uZp44-",
        "outputId": "d5df8771-8c3a-46d4-f12b-7b7635c10f0d"
      },
      "source": [
        "# Model coefficients\n",
        "lassoCoeff = pd.concat([pd.DataFrame(X_test_transformed.columns),pd.DataFrame(np.transpose(lasso.coef_))], axis = 1)\n",
        "lassoCoeff.columns=['Variable','Coefficient']\n",
        "lassoCoeff['Coefficient_Abs']=lassoCoeff['Coefficient'].apply(abs)\n",
        "lassoCoeff.sort_values(by='Coefficient_Abs', ascending=False)"
      ],
      "execution_count": null,
      "outputs": [
        {
          "output_type": "execute_result",
          "data": {
            "text/html": [
              "<div>\n",
              "<style scoped>\n",
              "    .dataframe tbody tr th:only-of-type {\n",
              "        vertical-align: middle;\n",
              "    }\n",
              "\n",
              "    .dataframe tbody tr th {\n",
              "        vertical-align: top;\n",
              "    }\n",
              "\n",
              "    .dataframe thead th {\n",
              "        text-align: right;\n",
              "    }\n",
              "</style>\n",
              "<table border=\"1\" class=\"dataframe\">\n",
              "  <thead>\n",
              "    <tr style=\"text-align: right;\">\n",
              "      <th></th>\n",
              "      <th>Variable</th>\n",
              "      <th>Coefficient</th>\n",
              "      <th>Coefficient_Abs</th>\n",
              "    </tr>\n",
              "  </thead>\n",
              "  <tbody>\n",
              "    <tr>\n",
              "      <th>20</th>\n",
              "      <td>worst area</td>\n",
              "      <td>-3.150223</td>\n",
              "      <td>3.150223</td>\n",
              "    </tr>\n",
              "    <tr>\n",
              "      <th>16</th>\n",
              "      <td>radius error</td>\n",
              "      <td>-2.470708</td>\n",
              "      <td>2.470708</td>\n",
              "    </tr>\n",
              "    <tr>\n",
              "      <th>7</th>\n",
              "      <td>mean concave points</td>\n",
              "      <td>-2.422881</td>\n",
              "      <td>2.422881</td>\n",
              "    </tr>\n",
              "    <tr>\n",
              "      <th>29</th>\n",
              "      <td>worst texture</td>\n",
              "      <td>-1.852427</td>\n",
              "      <td>1.852427</td>\n",
              "    </tr>\n",
              "    <tr>\n",
              "      <th>23</th>\n",
              "      <td>worst concavity</td>\n",
              "      <td>-1.291266</td>\n",
              "      <td>1.291266</td>\n",
              "    </tr>\n",
              "    <tr>\n",
              "      <th>28</th>\n",
              "      <td>worst symmetry</td>\n",
              "      <td>-1.031646</td>\n",
              "      <td>1.031646</td>\n",
              "    </tr>\n",
              "    <tr>\n",
              "      <th>1</th>\n",
              "      <td>compactness error</td>\n",
              "      <td>0.891226</td>\n",
              "      <td>0.891226</td>\n",
              "    </tr>\n",
              "    <tr>\n",
              "      <th>26</th>\n",
              "      <td>worst radius</td>\n",
              "      <td>-0.737042</td>\n",
              "      <td>0.737042</td>\n",
              "    </tr>\n",
              "    <tr>\n",
              "      <th>18</th>\n",
              "      <td>symmetry error</td>\n",
              "      <td>0.458922</td>\n",
              "      <td>0.458922</td>\n",
              "    </tr>\n",
              "    <tr>\n",
              "      <th>17</th>\n",
              "      <td>smoothness error</td>\n",
              "      <td>-0.433104</td>\n",
              "      <td>0.433104</td>\n",
              "    </tr>\n",
              "    <tr>\n",
              "      <th>19</th>\n",
              "      <td>texture error</td>\n",
              "      <td>0.381511</td>\n",
              "      <td>0.381511</td>\n",
              "    </tr>\n",
              "    <tr>\n",
              "      <th>4</th>\n",
              "      <td>fractal dimension error</td>\n",
              "      <td>0.279653</td>\n",
              "      <td>0.279653</td>\n",
              "    </tr>\n",
              "    <tr>\n",
              "      <th>27</th>\n",
              "      <td>worst smoothness</td>\n",
              "      <td>-0.164243</td>\n",
              "      <td>0.164243</td>\n",
              "    </tr>\n",
              "    <tr>\n",
              "      <th>22</th>\n",
              "      <td>worst concave points</td>\n",
              "      <td>-0.022295</td>\n",
              "      <td>0.022295</td>\n",
              "    </tr>\n",
              "    <tr>\n",
              "      <th>13</th>\n",
              "      <td>mean symmetry</td>\n",
              "      <td>0.019327</td>\n",
              "      <td>0.019327</td>\n",
              "    </tr>\n",
              "    <tr>\n",
              "      <th>25</th>\n",
              "      <td>worst perimeter</td>\n",
              "      <td>0.000000</td>\n",
              "      <td>0.000000</td>\n",
              "    </tr>\n",
              "    <tr>\n",
              "      <th>24</th>\n",
              "      <td>worst fractal dimension</td>\n",
              "      <td>0.000000</td>\n",
              "      <td>0.000000</td>\n",
              "    </tr>\n",
              "    <tr>\n",
              "      <th>21</th>\n",
              "      <td>worst compactness</td>\n",
              "      <td>0.000000</td>\n",
              "      <td>0.000000</td>\n",
              "    </tr>\n",
              "    <tr>\n",
              "      <th>0</th>\n",
              "      <td>area error</td>\n",
              "      <td>0.000000</td>\n",
              "      <td>0.000000</td>\n",
              "    </tr>\n",
              "    <tr>\n",
              "      <th>14</th>\n",
              "      <td>mean texture</td>\n",
              "      <td>0.000000</td>\n",
              "      <td>0.000000</td>\n",
              "    </tr>\n",
              "    <tr>\n",
              "      <th>12</th>\n",
              "      <td>mean smoothness</td>\n",
              "      <td>0.000000</td>\n",
              "      <td>0.000000</td>\n",
              "    </tr>\n",
              "    <tr>\n",
              "      <th>11</th>\n",
              "      <td>mean radius</td>\n",
              "      <td>0.000000</td>\n",
              "      <td>0.000000</td>\n",
              "    </tr>\n",
              "    <tr>\n",
              "      <th>10</th>\n",
              "      <td>mean perimeter</td>\n",
              "      <td>0.000000</td>\n",
              "      <td>0.000000</td>\n",
              "    </tr>\n",
              "    <tr>\n",
              "      <th>9</th>\n",
              "      <td>mean fractal dimension</td>\n",
              "      <td>0.000000</td>\n",
              "      <td>0.000000</td>\n",
              "    </tr>\n",
              "    <tr>\n",
              "      <th>8</th>\n",
              "      <td>mean concavity</td>\n",
              "      <td>0.000000</td>\n",
              "      <td>0.000000</td>\n",
              "    </tr>\n",
              "    <tr>\n",
              "      <th>6</th>\n",
              "      <td>mean compactness</td>\n",
              "      <td>0.000000</td>\n",
              "      <td>0.000000</td>\n",
              "    </tr>\n",
              "    <tr>\n",
              "      <th>5</th>\n",
              "      <td>mean area</td>\n",
              "      <td>0.000000</td>\n",
              "      <td>0.000000</td>\n",
              "    </tr>\n",
              "    <tr>\n",
              "      <th>3</th>\n",
              "      <td>concavity error</td>\n",
              "      <td>0.000000</td>\n",
              "      <td>0.000000</td>\n",
              "    </tr>\n",
              "    <tr>\n",
              "      <th>2</th>\n",
              "      <td>concave points error</td>\n",
              "      <td>0.000000</td>\n",
              "      <td>0.000000</td>\n",
              "    </tr>\n",
              "    <tr>\n",
              "      <th>15</th>\n",
              "      <td>perimeter error</td>\n",
              "      <td>0.000000</td>\n",
              "      <td>0.000000</td>\n",
              "    </tr>\n",
              "  </tbody>\n",
              "</table>\n",
              "</div>"
            ],
            "text/plain": [
              "                   Variable  Coefficient  Coefficient_Abs\n",
              "20               worst area    -3.150223         3.150223\n",
              "16             radius error    -2.470708         2.470708\n",
              "7       mean concave points    -2.422881         2.422881\n",
              "29            worst texture    -1.852427         1.852427\n",
              "23          worst concavity    -1.291266         1.291266\n",
              "28           worst symmetry    -1.031646         1.031646\n",
              "1         compactness error     0.891226         0.891226\n",
              "26             worst radius    -0.737042         0.737042\n",
              "18           symmetry error     0.458922         0.458922\n",
              "17         smoothness error    -0.433104         0.433104\n",
              "19            texture error     0.381511         0.381511\n",
              "4   fractal dimension error     0.279653         0.279653\n",
              "27         worst smoothness    -0.164243         0.164243\n",
              "22     worst concave points    -0.022295         0.022295\n",
              "13            mean symmetry     0.019327         0.019327\n",
              "25          worst perimeter     0.000000         0.000000\n",
              "24  worst fractal dimension     0.000000         0.000000\n",
              "21        worst compactness     0.000000         0.000000\n",
              "0                area error     0.000000         0.000000\n",
              "14             mean texture     0.000000         0.000000\n",
              "12          mean smoothness     0.000000         0.000000\n",
              "11              mean radius     0.000000         0.000000\n",
              "10           mean perimeter     0.000000         0.000000\n",
              "9    mean fractal dimension     0.000000         0.000000\n",
              "8            mean concavity     0.000000         0.000000\n",
              "6          mean compactness     0.000000         0.000000\n",
              "5                 mean area     0.000000         0.000000\n",
              "3           concavity error     0.000000         0.000000\n",
              "2      concave points error     0.000000         0.000000\n",
              "15          perimeter error     0.000000         0.000000"
            ]
          },
          "metadata": {},
          "execution_count": 22
        }
      ]
    },
    {
      "cell_type": "markdown",
      "metadata": {
        "id": "SUZmBECRqlZV"
      },
      "source": [
        "# Step 7: Ridge"
      ]
    },
    {
      "cell_type": "markdown",
      "metadata": {
        "id": "NdZeBrD2FMyg"
      },
      "source": [
        "In step 7, we will run Ridge regression by changing the penalty to l2."
      ]
    },
    {
      "cell_type": "code",
      "metadata": {
        "id": "cHDGOSmtqqdS"
      },
      "source": [
        "# Run model\n",
        "ridge = LogisticRegression(penalty='l2', random_state=0).fit(X_train_transformed, y_train)\n",
        "\n",
        "# Make prediction\n",
        "ridge_prediction = ridge.predict(X_test_transformed)\n",
        "\n",
        "# Get predicted probability\n",
        "ridge_pred_Prob = ridge.predict_proba(X_test_transformed)[:,1]"
      ],
      "execution_count": null,
      "outputs": []
    },
    {
      "cell_type": "markdown",
      "metadata": {
        "id": "sO4FMwgwFuft"
      },
      "source": [
        "The ROC/AUC value is 0.9974, which is slightly higher than 0.9967 for LASSO."
      ]
    },
    {
      "cell_type": "code",
      "metadata": {
        "colab": {
          "base_uri": "https://localhost:8080/",
          "height": 283
        },
        "id": "qHHg9Xr-qrEe",
        "outputId": "99f6ce29-5b72-481a-d582-06640de1f98b"
      },
      "source": [
        "# Get the false positive rate and true positive rate\n",
        "fpr,tpr, _= roc_curve(y_test,ridge_pred_Prob)\n",
        "\n",
        "# Get auc value\n",
        "auc = roc_auc_score(y_test,ridge_pred_Prob)\n",
        "\n",
        "# Plot the chart\n",
        "plt.plot(fpr,tpr,label=\"area=\"+str(auc))\n",
        "plt.legend(loc=4)"
      ],
      "execution_count": null,
      "outputs": [
        {
          "output_type": "execute_result",
          "data": {
            "text/plain": [
              "<matplotlib.legend.Legend at 0x7fe3fb613d10>"
            ]
          },
          "metadata": {},
          "execution_count": 25
        },
        {
          "output_type": "display_data",
          "data": {
            "image/png": "[encoded data removed]",
            "text/plain": [
              "<Figure size 432x288 with 1 Axes>"
            ]
          },
          "metadata": {
            "needs_background": "light"
          }
        }
      ]
    },
    {
      "cell_type": "markdown",
      "metadata": {
        "id": "Mo6NeVDsGelb"
      },
      "source": [
        "The log loss decreased from LASSO regression's 0.0685 to 0.0601. That's an  improvement too."
      ]
    },
    {
      "cell_type": "code",
      "metadata": {
        "colab": {
          "base_uri": "https://localhost:8080/"
        },
        "id": "wdoHYx2srhME",
        "outputId": "bbaa4a36-7e19-4326-e469-0e405cc33f7a"
      },
      "source": [
        "# Calculate log loss\n",
        "log_loss(y_test,ridge_pred_Prob)"
      ],
      "execution_count": null,
      "outputs": [
        {
          "output_type": "execute_result",
          "data": {
            "text/plain": [
              "0.06014109569918717"
            ]
          },
          "metadata": {},
          "execution_count": 27
        }
      ]
    },
    {
      "cell_type": "markdown",
      "metadata": {
        "id": "OvwYKFq_G7Ls"
      },
      "source": [
        "The confusion matrix shows the same false positive count of 2, and the false negative count of 1.\n",
        "\n",
        "Although the total number of incorrect predictions is 3, the same as LASSO regression, Ridge regression has better performance because the false negative decreased by 1."
      ]
    },
    {
      "cell_type": "code",
      "metadata": {
        "colab": {
          "base_uri": "https://localhost:8080/",
          "height": 301
        },
        "id": "gus4ce9mrVQf",
        "outputId": "44f26fe7-eda8-413d-c392-42ff1984fe91"
      },
      "source": [
        "# Confusion matrix\n",
        "plot_confusion_matrix(ridge, X_test_transformed, y_test)"
      ],
      "execution_count": null,
      "outputs": [
        {
          "output_type": "execute_result",
          "data": {
            "text/plain": [
              "<sklearn.metrics._plot.confusion_matrix.ConfusionMatrixDisplay at 0x7fe3fb60a410>"
            ]
          },
          "metadata": {},
          "execution_count": 26
        },
        {
          "output_type": "display_data",
          "data": {
            "image/png": "[encoded data removed]",
            "text/plain": [
              "<Figure size 432x288 with 2 Axes>"
            ]
          },
          "metadata": {
            "needs_background": "light"
          }
        }
      ]
    },
    {
      "cell_type": "markdown",
      "metadata": {
        "id": "X78Ux5kTI39w"
      },
      "source": [
        "Because the number of incorrect predictions is the same between LASSO and Ridge, the accuracy is the same at 0.974. Because the false negative count decreased from 2 to 1, the recall value increased from 0.972 to 0.986."
      ]
    },
    {
      "cell_type": "code",
      "metadata": {
        "colab": {
          "base_uri": "https://localhost:8080/"
        },
        "id": "P6A9jM2yrxFm",
        "outputId": "f4f4bb23-a258-49c2-c508-00112dc9fe57"
      },
      "source": [
        "# Performance matrix\n",
        "print(classification_report(y_test, ridge_prediction, digits=3))"
      ],
      "execution_count": null,
      "outputs": [
        {
          "output_type": "stream",
          "name": "stdout",
          "text": [
            "              precision    recall  f1-score   support\n",
            "\n",
            "           0      0.976     0.953     0.965        43\n",
            "           1      0.972     0.986     0.979        71\n",
            "\n",
            "    accuracy                          0.974       114\n",
            "   macro avg      0.974     0.970     0.972       114\n",
            "weighted avg      0.974     0.974     0.974       114\n",
            "\n"
          ]
        }
      ]
    },
    {
      "cell_type": "markdown",
      "metadata": {
        "id": "9LABFdEEJ0MW"
      },
      "source": [
        "Ridge's coefficients decreased slightly compared to the LASSO regression coefficients. Some of the features have a coefficient close to zero, but none of them equals zero."
      ]
    },
    {
      "cell_type": "code",
      "metadata": {
        "colab": {
          "base_uri": "https://localhost:8080/",
          "height": 989
        },
        "id": "OjM6tjXjr7v6",
        "outputId": "bc161316-ba27-4b98-9c03-f508332b6f83"
      },
      "source": [
        "# Model coefficients\n",
        "ridgeCoeff = pd.concat([pd.DataFrame(X_test_transformed.columns),pd.DataFrame(np.transpose(ridge.coef_))], axis = 1)\n",
        "ridgeCoeff.columns=['Variable','Coefficient']\n",
        "ridgeCoeff['Coefficient_Abs']=ridgeCoeff['Coefficient'].apply(abs)\n",
        "ridgeCoeff.sort_values(by='Coefficient_Abs', ascending=False)"
      ],
      "execution_count": null,
      "outputs": [
        {
          "output_type": "execute_result",
          "data": {
            "text/html": [
              "<div>\n",
              "<style scoped>\n",
              "    .dataframe tbody tr th:only-of-type {\n",
              "        vertical-align: middle;\n",
              "    }\n",
              "\n",
              "    .dataframe tbody tr th {\n",
              "        vertical-align: top;\n",
              "    }\n",
              "\n",
              "    .dataframe thead th {\n",
              "        text-align: right;\n",
              "    }\n",
              "</style>\n",
              "<table border=\"1\" class=\"dataframe\">\n",
              "  <thead>\n",
              "    <tr style=\"text-align: right;\">\n",
              "      <th></th>\n",
              "      <th>Variable</th>\n",
              "      <th>Coefficient</th>\n",
              "      <th>Coefficient_Abs</th>\n",
              "    </tr>\n",
              "  </thead>\n",
              "  <tbody>\n",
              "    <tr>\n",
              "      <th>29</th>\n",
              "      <td>worst texture</td>\n",
              "      <td>-1.342188</td>\n",
              "      <td>1.342188</td>\n",
              "    </tr>\n",
              "    <tr>\n",
              "      <th>16</th>\n",
              "      <td>radius error</td>\n",
              "      <td>-1.271147</td>\n",
              "      <td>1.271147</td>\n",
              "    </tr>\n",
              "    <tr>\n",
              "      <th>28</th>\n",
              "      <td>worst symmetry</td>\n",
              "      <td>-1.208531</td>\n",
              "      <td>1.208531</td>\n",
              "    </tr>\n",
              "    <tr>\n",
              "      <th>7</th>\n",
              "      <td>mean concave points</td>\n",
              "      <td>-1.117021</td>\n",
              "      <td>1.117021</td>\n",
              "    </tr>\n",
              "    <tr>\n",
              "      <th>23</th>\n",
              "      <td>worst concavity</td>\n",
              "      <td>-0.945714</td>\n",
              "      <td>0.945714</td>\n",
              "    </tr>\n",
              "    <tr>\n",
              "      <th>0</th>\n",
              "      <td>area error</td>\n",
              "      <td>-0.909800</td>\n",
              "      <td>0.909800</td>\n",
              "    </tr>\n",
              "    <tr>\n",
              "      <th>26</th>\n",
              "      <td>worst radius</td>\n",
              "      <td>-0.878610</td>\n",
              "      <td>0.878610</td>\n",
              "    </tr>\n",
              "    <tr>\n",
              "      <th>20</th>\n",
              "      <td>worst area</td>\n",
              "      <td>-0.846559</td>\n",
              "      <td>0.846559</td>\n",
              "    </tr>\n",
              "    <tr>\n",
              "      <th>8</th>\n",
              "      <td>mean concavity</td>\n",
              "      <td>-0.796771</td>\n",
              "      <td>0.796771</td>\n",
              "    </tr>\n",
              "    <tr>\n",
              "      <th>22</th>\n",
              "      <td>worst concave points</td>\n",
              "      <td>-0.773436</td>\n",
              "      <td>0.773436</td>\n",
              "    </tr>\n",
              "    <tr>\n",
              "      <th>1</th>\n",
              "      <td>compactness error</td>\n",
              "      <td>0.685972</td>\n",
              "      <td>0.685972</td>\n",
              "    </tr>\n",
              "    <tr>\n",
              "      <th>4</th>\n",
              "      <td>fractal dimension error</td>\n",
              "      <td>0.613405</td>\n",
              "      <td>0.613405</td>\n",
              "    </tr>\n",
              "    <tr>\n",
              "      <th>15</th>\n",
              "      <td>perimeter error</td>\n",
              "      <td>-0.609366</td>\n",
              "      <td>0.609366</td>\n",
              "    </tr>\n",
              "    <tr>\n",
              "      <th>25</th>\n",
              "      <td>worst perimeter</td>\n",
              "      <td>-0.587557</td>\n",
              "      <td>0.587557</td>\n",
              "    </tr>\n",
              "    <tr>\n",
              "      <th>27</th>\n",
              "      <td>worst smoothness</td>\n",
              "      <td>-0.549945</td>\n",
              "      <td>0.549945</td>\n",
              "    </tr>\n",
              "    <tr>\n",
              "      <th>6</th>\n",
              "      <td>mean compactness</td>\n",
              "      <td>0.542106</td>\n",
              "      <td>0.542106</td>\n",
              "    </tr>\n",
              "    <tr>\n",
              "      <th>18</th>\n",
              "      <td>symmetry error</td>\n",
              "      <td>0.499980</td>\n",
              "      <td>0.499980</td>\n",
              "    </tr>\n",
              "    <tr>\n",
              "      <th>5</th>\n",
              "      <td>mean area</td>\n",
              "      <td>-0.464316</td>\n",
              "      <td>0.464316</td>\n",
              "    </tr>\n",
              "    <tr>\n",
              "      <th>11</th>\n",
              "      <td>mean radius</td>\n",
              "      <td>-0.427896</td>\n",
              "      <td>0.427896</td>\n",
              "    </tr>\n",
              "    <tr>\n",
              "      <th>14</th>\n",
              "      <td>mean texture</td>\n",
              "      <td>-0.393913</td>\n",
              "      <td>0.393913</td>\n",
              "    </tr>\n",
              "    <tr>\n",
              "      <th>10</th>\n",
              "      <td>mean perimeter</td>\n",
              "      <td>-0.389550</td>\n",
              "      <td>0.389550</td>\n",
              "    </tr>\n",
              "    <tr>\n",
              "      <th>2</th>\n",
              "      <td>concave points error</td>\n",
              "      <td>-0.317692</td>\n",
              "      <td>0.317692</td>\n",
              "    </tr>\n",
              "    <tr>\n",
              "      <th>17</th>\n",
              "      <td>smoothness error</td>\n",
              "      <td>-0.312461</td>\n",
              "      <td>0.312461</td>\n",
              "    </tr>\n",
              "    <tr>\n",
              "      <th>13</th>\n",
              "      <td>mean symmetry</td>\n",
              "      <td>0.235713</td>\n",
              "      <td>0.235713</td>\n",
              "    </tr>\n",
              "    <tr>\n",
              "      <th>19</th>\n",
              "      <td>texture error</td>\n",
              "      <td>0.188640</td>\n",
              "      <td>0.188640</td>\n",
              "    </tr>\n",
              "    <tr>\n",
              "      <th>3</th>\n",
              "      <td>concavity error</td>\n",
              "      <td>0.180815</td>\n",
              "      <td>0.180815</td>\n",
              "    </tr>\n",
              "    <tr>\n",
              "      <th>24</th>\n",
              "      <td>worst fractal dimension</td>\n",
              "      <td>-0.154160</td>\n",
              "      <td>0.154160</td>\n",
              "    </tr>\n",
              "    <tr>\n",
              "      <th>9</th>\n",
              "      <td>mean fractal dimension</td>\n",
              "      <td>0.076701</td>\n",
              "      <td>0.076701</td>\n",
              "    </tr>\n",
              "    <tr>\n",
              "      <th>12</th>\n",
              "      <td>mean smoothness</td>\n",
              "      <td>-0.066754</td>\n",
              "      <td>0.066754</td>\n",
              "    </tr>\n",
              "    <tr>\n",
              "      <th>21</th>\n",
              "      <td>worst compactness</td>\n",
              "      <td>0.005207</td>\n",
              "      <td>0.005207</td>\n",
              "    </tr>\n",
              "  </tbody>\n",
              "</table>\n",
              "</div>"
            ],
            "text/plain": [
              "                   Variable  Coefficient  Coefficient_Abs\n",
              "29            worst texture    -1.342188         1.342188\n",
              "16             radius error    -1.271147         1.271147\n",
              "28           worst symmetry    -1.208531         1.208531\n",
              "7       mean concave points    -1.117021         1.117021\n",
              "23          worst concavity    -0.945714         0.945714\n",
              "0                area error    -0.909800         0.909800\n",
              "26             worst radius    -0.878610         0.878610\n",
              "20               worst area    -0.846559         0.846559\n",
              "8            mean concavity    -0.796771         0.796771\n",
              "22     worst concave points    -0.773436         0.773436\n",
              "1         compactness error     0.685972         0.685972\n",
              "4   fractal dimension error     0.613405         0.613405\n",
              "15          perimeter error    -0.609366         0.609366\n",
              "25          worst perimeter    -0.587557         0.587557\n",
              "27         worst smoothness    -0.549945         0.549945\n",
              "6          mean compactness     0.542106         0.542106\n",
              "18           symmetry error     0.499980         0.499980\n",
              "5                 mean area    -0.464316         0.464316\n",
              "11              mean radius    -0.427896         0.427896\n",
              "14             mean texture    -0.393913         0.393913\n",
              "10           mean perimeter    -0.389550         0.389550\n",
              "2      concave points error    -0.317692         0.317692\n",
              "17         smoothness error    -0.312461         0.312461\n",
              "13            mean symmetry     0.235713         0.235713\n",
              "19            texture error     0.188640         0.188640\n",
              "3           concavity error     0.180815         0.180815\n",
              "24  worst fractal dimension    -0.154160         0.154160\n",
              "9    mean fractal dimension     0.076701         0.076701\n",
              "12          mean smoothness    -0.066754         0.066754\n",
              "21        worst compactness     0.005207         0.005207"
            ]
          },
          "metadata": {},
          "execution_count": 29
        }
      ]
    },
    {
      "cell_type": "markdown",
      "metadata": {
        "id": "kI1j941MKu91"
      },
      "source": [
        "Based on the performance comparison, we can see that Ridge has slightly better performance than LASSO, but LASSO has a simpler model than Ridge."
      ]
    },
    {
      "cell_type": "markdown",
      "metadata": {
        "id": "Og_jmznks0Ky"
      },
      "source": [
        "# Step 8: Elastic Net"
      ]
    },
    {
      "cell_type": "markdown",
      "metadata": {
        "id": "nNKmTzEILNBc"
      },
      "source": [
        "In step 8, we will run elastic net regression by changing the penalty to `'elasticnet'`. `l1_ratio=0.5` means that the elastic net uses 50% LASSO and 50% Ridge."
      ]
    },
    {
      "cell_type": "code",
      "metadata": {
        "colab": {
          "base_uri": "https://localhost:8080/"
        },
        "id": "sAIOIJ4Ys7oJ",
        "outputId": "81593c94-01e4-49d6-8531-fa4c53a90481"
      },
      "source": [
        "# Run model\n",
        "elasticNet = LogisticRegression(penalty='elasticnet', solver='saga', l1_ratio=0.5, random_state=0).fit(X_train_transformed, y_train)\n",
        "\n",
        "# Make prediction\n",
        "elasticNet_prediction = elasticNet.predict(X_test_transformed)\n",
        "\n",
        "# Get predicted probability\n",
        "elasticNet_pred_Prob = elasticNet.predict_proba(X_test_transformed)[:,1]"
      ],
      "execution_count": null,
      "outputs": [
        {
          "output_type": "stream",
          "name": "stderr",
          "text": [
            "/usr/local/lib/python3.7/dist-packages/sklearn/linear_model/_sag.py:330: ConvergenceWarning: The max_iter was reached which means the coef_ did not converge\n",
            "  \"the coef_ did not converge\", ConvergenceWarning)\n"
          ]
        }
      ]
    },
    {
      "cell_type": "markdown",
      "metadata": {
        "id": "6ENTNqgBOyyY"
      },
      "source": [
        "The ROC/AUC value for the elastic net is 0.9974, which is about the same as the Ridge regression."
      ]
    },
    {
      "cell_type": "code",
      "metadata": {
        "colab": {
          "base_uri": "https://localhost:8080/",
          "height": 283
        },
        "id": "f66YKfpRtlor",
        "outputId": "38162a6d-d4ed-40a5-f087-1b0ecfc752ad"
      },
      "source": [
        "# Get the false positive rate and true positive rate\n",
        "fpr,tpr, _ = roc_curve(y_test,elasticNet_pred_Prob)\n",
        "\n",
        "# Get auc value\n",
        "auc = roc_auc_score(y_test,elasticNet_pred_Prob)\n",
        "\n",
        "# Plot the chart\n",
        "plt.plot(fpr,tpr,label=\"area=\"+str(auc))\n",
        "plt.legend(loc=4)"
      ],
      "execution_count": null,
      "outputs": [
        {
          "output_type": "execute_result",
          "data": {
            "text/plain": [
              "<matplotlib.legend.Legend at 0x7fe3fb4ce9d0>"
            ]
          },
          "metadata": {},
          "execution_count": 31
        },
        {
          "output_type": "display_data",
          "data": {
            "image/png": "[encoded data removed]",
            "text/plain": [
              "<Figure size 432x288 with 1 Axes>"
            ]
          },
          "metadata": {
            "needs_background": "light"
          }
        }
      ]
    },
    {
      "cell_type": "markdown",
      "metadata": {
        "id": "OFMvEJxUPU-W"
      },
      "source": [
        "The log loss decreased from Ridge regression's 0.0601 to 0.0597. That's a slight improvement."
      ]
    },
    {
      "cell_type": "code",
      "metadata": {
        "colab": {
          "base_uri": "https://localhost:8080/"
        },
        "id": "0WVkrOM-t82O",
        "outputId": "f5cd4457-30a4-41fa-f660-385f1a83fee8"
      },
      "source": [
        "# Calculate log loss\n",
        "log_loss(y_test,elasticNet_pred_Prob)"
      ],
      "execution_count": null,
      "outputs": [
        {
          "output_type": "execute_result",
          "data": {
            "text/plain": [
              "0.05970787798591165"
            ]
          },
          "metadata": {},
          "execution_count": 33
        }
      ]
    },
    {
      "cell_type": "markdown",
      "metadata": {
        "id": "zoNlQRBTP1kL"
      },
      "source": [
        "The confusion matrix shows the same false negative count of 1, and the false positive count decreased from 2 to 1."
      ]
    },
    {
      "cell_type": "code",
      "metadata": {
        "colab": {
          "base_uri": "https://localhost:8080/",
          "height": 301
        },
        "id": "xO3-_tkmt4P6",
        "outputId": "3f407803-e0e6-42f7-ddc3-0db53f0688a1"
      },
      "source": [
        "# Confusion matrix\n",
        "plot_confusion_matrix(elasticNet, X_test_transformed, y_test)"
      ],
      "execution_count": null,
      "outputs": [
        {
          "output_type": "execute_result",
          "data": {
            "text/plain": [
              "<sklearn.metrics._plot.confusion_matrix.ConfusionMatrixDisplay at 0x7fe3fb43a4d0>"
            ]
          },
          "metadata": {},
          "execution_count": 32
        },
        {
          "output_type": "display_data",
          "data": {
            "image/png": "[encoded data removed]",
            "text/plain": [
              "<Figure size 432x288 with 2 Axes>"
            ]
          },
          "metadata": {
            "needs_background": "light"
          }
        }
      ]
    },
    {
      "cell_type": "markdown",
      "metadata": {
        "id": "_4cFdhiUQ_Dy"
      },
      "source": [
        "Because the number of incorrect predictions decreased compared to LASSO and Ridge, the accuracy increased from 0.974 to 0.982. The recall value is the same at 0.986."
      ]
    },
    {
      "cell_type": "code",
      "metadata": {
        "colab": {
          "base_uri": "https://localhost:8080/"
        },
        "id": "nUL_s7sGuNfA",
        "outputId": "81ed4cec-6260-4756-b019-c3cb75092b73"
      },
      "source": [
        "# Performance report\n",
        "print(classification_report(y_test, elasticNet_prediction, digits=3))"
      ],
      "execution_count": null,
      "outputs": [
        {
          "output_type": "stream",
          "name": "stdout",
          "text": [
            "              precision    recall  f1-score   support\n",
            "\n",
            "           0      0.977     0.977     0.977        43\n",
            "           1      0.986     0.986     0.986        71\n",
            "\n",
            "    accuracy                          0.982       114\n",
            "   macro avg      0.981     0.981     0.981       114\n",
            "weighted avg      0.982     0.982     0.982       114\n",
            "\n"
          ]
        }
      ]
    },
    {
      "cell_type": "markdown",
      "metadata": {
        "id": "YEKktlJ9RjmY"
      },
      "source": [
        "Ridge's coefficients were set to zeros for some features, but the number of features with 0 coefficient is smaller than LASSO."
      ]
    },
    {
      "cell_type": "code",
      "metadata": {
        "colab": {
          "base_uri": "https://localhost:8080/",
          "height": 989
        },
        "id": "_LTPq7UvucAe",
        "outputId": "455ec89d-1e08-461d-e841-3179664579dc"
      },
      "source": [
        "# Model coefficients\n",
        "elasticNetCoeff = pd.concat([pd.DataFrame(X_test_transformed.columns),pd.DataFrame(np.transpose(elasticNet.coef_))], axis = 1)\n",
        "elasticNetCoeff.columns=['Variable','Coefficient']\n",
        "elasticNetCoeff['Coefficient_Abs']=elasticNetCoeff['Coefficient'].apply(abs)\n",
        "elasticNetCoeff.sort_values(by='Coefficient_Abs', ascending=False)"
      ],
      "execution_count": null,
      "outputs": [
        {
          "output_type": "execute_result",
          "data": {
            "text/html": [
              "<div>\n",
              "<style scoped>\n",
              "    .dataframe tbody tr th:only-of-type {\n",
              "        vertical-align: middle;\n",
              "    }\n",
              "\n",
              "    .dataframe tbody tr th {\n",
              "        vertical-align: top;\n",
              "    }\n",
              "\n",
              "    .dataframe thead th {\n",
              "        text-align: right;\n",
              "    }\n",
              "</style>\n",
              "<table border=\"1\" class=\"dataframe\">\n",
              "  <thead>\n",
              "    <tr style=\"text-align: right;\">\n",
              "      <th></th>\n",
              "      <th>Variable</th>\n",
              "      <th>Coefficient</th>\n",
              "      <th>Coefficient_Abs</th>\n",
              "    </tr>\n",
              "  </thead>\n",
              "  <tbody>\n",
              "    <tr>\n",
              "      <th>29</th>\n",
              "      <td>worst texture</td>\n",
              "      <td>-1.102631</td>\n",
              "      <td>1.102631</td>\n",
              "    </tr>\n",
              "    <tr>\n",
              "      <th>16</th>\n",
              "      <td>radius error</td>\n",
              "      <td>-1.046414</td>\n",
              "      <td>1.046414</td>\n",
              "    </tr>\n",
              "    <tr>\n",
              "      <th>28</th>\n",
              "      <td>worst symmetry</td>\n",
              "      <td>-0.947421</td>\n",
              "      <td>0.947421</td>\n",
              "    </tr>\n",
              "    <tr>\n",
              "      <th>7</th>\n",
              "      <td>mean concave points</td>\n",
              "      <td>-0.862021</td>\n",
              "      <td>0.862021</td>\n",
              "    </tr>\n",
              "    <tr>\n",
              "      <th>26</th>\n",
              "      <td>worst radius</td>\n",
              "      <td>-0.841379</td>\n",
              "      <td>0.841379</td>\n",
              "    </tr>\n",
              "    <tr>\n",
              "      <th>22</th>\n",
              "      <td>worst concave points</td>\n",
              "      <td>-0.803826</td>\n",
              "      <td>0.803826</td>\n",
              "    </tr>\n",
              "    <tr>\n",
              "      <th>20</th>\n",
              "      <td>worst area</td>\n",
              "      <td>-0.792420</td>\n",
              "      <td>0.792420</td>\n",
              "    </tr>\n",
              "    <tr>\n",
              "      <th>23</th>\n",
              "      <td>worst concavity</td>\n",
              "      <td>-0.784307</td>\n",
              "      <td>0.784307</td>\n",
              "    </tr>\n",
              "    <tr>\n",
              "      <th>0</th>\n",
              "      <td>area error</td>\n",
              "      <td>-0.718652</td>\n",
              "      <td>0.718652</td>\n",
              "    </tr>\n",
              "    <tr>\n",
              "      <th>27</th>\n",
              "      <td>worst smoothness</td>\n",
              "      <td>-0.692398</td>\n",
              "      <td>0.692398</td>\n",
              "    </tr>\n",
              "    <tr>\n",
              "      <th>25</th>\n",
              "      <td>worst perimeter</td>\n",
              "      <td>-0.658921</td>\n",
              "      <td>0.658921</td>\n",
              "    </tr>\n",
              "    <tr>\n",
              "      <th>1</th>\n",
              "      <td>compactness error</td>\n",
              "      <td>0.620503</td>\n",
              "      <td>0.620503</td>\n",
              "    </tr>\n",
              "    <tr>\n",
              "      <th>8</th>\n",
              "      <td>mean concavity</td>\n",
              "      <td>-0.618860</td>\n",
              "      <td>0.618860</td>\n",
              "    </tr>\n",
              "    <tr>\n",
              "      <th>15</th>\n",
              "      <td>perimeter error</td>\n",
              "      <td>-0.592922</td>\n",
              "      <td>0.592922</td>\n",
              "    </tr>\n",
              "    <tr>\n",
              "      <th>14</th>\n",
              "      <td>mean texture</td>\n",
              "      <td>-0.515639</td>\n",
              "      <td>0.515639</td>\n",
              "    </tr>\n",
              "    <tr>\n",
              "      <th>5</th>\n",
              "      <td>mean area</td>\n",
              "      <td>-0.478824</td>\n",
              "      <td>0.478824</td>\n",
              "    </tr>\n",
              "    <tr>\n",
              "      <th>4</th>\n",
              "      <td>fractal dimension error</td>\n",
              "      <td>0.475770</td>\n",
              "      <td>0.475770</td>\n",
              "    </tr>\n",
              "    <tr>\n",
              "      <th>11</th>\n",
              "      <td>mean radius</td>\n",
              "      <td>-0.446027</td>\n",
              "      <td>0.446027</td>\n",
              "    </tr>\n",
              "    <tr>\n",
              "      <th>10</th>\n",
              "      <td>mean perimeter</td>\n",
              "      <td>-0.413923</td>\n",
              "      <td>0.413923</td>\n",
              "    </tr>\n",
              "    <tr>\n",
              "      <th>18</th>\n",
              "      <td>symmetry error</td>\n",
              "      <td>0.368033</td>\n",
              "      <td>0.368033</td>\n",
              "    </tr>\n",
              "    <tr>\n",
              "      <th>6</th>\n",
              "      <td>mean compactness</td>\n",
              "      <td>0.192335</td>\n",
              "      <td>0.192335</td>\n",
              "    </tr>\n",
              "    <tr>\n",
              "      <th>17</th>\n",
              "      <td>smoothness error</td>\n",
              "      <td>-0.181225</td>\n",
              "      <td>0.181225</td>\n",
              "    </tr>\n",
              "    <tr>\n",
              "      <th>9</th>\n",
              "      <td>mean fractal dimension</td>\n",
              "      <td>0.156646</td>\n",
              "      <td>0.156646</td>\n",
              "    </tr>\n",
              "    <tr>\n",
              "      <th>2</th>\n",
              "      <td>concave points error</td>\n",
              "      <td>-0.102935</td>\n",
              "      <td>0.102935</td>\n",
              "    </tr>\n",
              "    <tr>\n",
              "      <th>19</th>\n",
              "      <td>texture error</td>\n",
              "      <td>0.063820</td>\n",
              "      <td>0.063820</td>\n",
              "    </tr>\n",
              "    <tr>\n",
              "      <th>13</th>\n",
              "      <td>mean symmetry</td>\n",
              "      <td>0.062457</td>\n",
              "      <td>0.062457</td>\n",
              "    </tr>\n",
              "    <tr>\n",
              "      <th>12</th>\n",
              "      <td>mean smoothness</td>\n",
              "      <td>-0.034616</td>\n",
              "      <td>0.034616</td>\n",
              "    </tr>\n",
              "    <tr>\n",
              "      <th>24</th>\n",
              "      <td>worst fractal dimension</td>\n",
              "      <td>-0.009854</td>\n",
              "      <td>0.009854</td>\n",
              "    </tr>\n",
              "    <tr>\n",
              "      <th>21</th>\n",
              "      <td>worst compactness</td>\n",
              "      <td>0.000000</td>\n",
              "      <td>0.000000</td>\n",
              "    </tr>\n",
              "    <tr>\n",
              "      <th>3</th>\n",
              "      <td>concavity error</td>\n",
              "      <td>0.000000</td>\n",
              "      <td>0.000000</td>\n",
              "    </tr>\n",
              "  </tbody>\n",
              "</table>\n",
              "</div>"
            ],
            "text/plain": [
              "                   Variable  Coefficient  Coefficient_Abs\n",
              "29            worst texture    -1.102631         1.102631\n",
              "16             radius error    -1.046414         1.046414\n",
              "28           worst symmetry    -0.947421         0.947421\n",
              "7       mean concave points    -0.862021         0.862021\n",
              "26             worst radius    -0.841379         0.841379\n",
              "22     worst concave points    -0.803826         0.803826\n",
              "20               worst area    -0.792420         0.792420\n",
              "23          worst concavity    -0.784307         0.784307\n",
              "0                area error    -0.718652         0.718652\n",
              "27         worst smoothness    -0.692398         0.692398\n",
              "25          worst perimeter    -0.658921         0.658921\n",
              "1         compactness error     0.620503         0.620503\n",
              "8            mean concavity    -0.618860         0.618860\n",
              "15          perimeter error    -0.592922         0.592922\n",
              "14             mean texture    -0.515639         0.515639\n",
              "5                 mean area    -0.478824         0.478824\n",
              "4   fractal dimension error     0.475770         0.475770\n",
              "11              mean radius    -0.446027         0.446027\n",
              "10           mean perimeter    -0.413923         0.413923\n",
              "18           symmetry error     0.368033         0.368033\n",
              "6          mean compactness     0.192335         0.192335\n",
              "17         smoothness error    -0.181225         0.181225\n",
              "9    mean fractal dimension     0.156646         0.156646\n",
              "2      concave points error    -0.102935         0.102935\n",
              "19            texture error     0.063820         0.063820\n",
              "13            mean symmetry     0.062457         0.062457\n",
              "12          mean smoothness    -0.034616         0.034616\n",
              "24  worst fractal dimension    -0.009854         0.009854\n",
              "21        worst compactness     0.000000         0.000000\n",
              "3           concavity error     0.000000         0.000000"
            ]
          },
          "metadata": {},
          "execution_count": 35
        }
      ]
    },
    {
      "cell_type": "markdown",
      "metadata": {
        "id": "3xmMwSKGUOSd"
      },
      "source": [
        "# Step 9: Put All Code Together"
      ]
    },
    {
      "cell_type": "code",
      "metadata": {
        "id": "B5FI6qP8WRPb"
      },
      "source": [
        "###### Step 1: Import Libraries\n",
        "\n",
        "# Dataset\n",
        "from sklearn import datasets\n",
        "\n",
        "# Data processing\n",
        "import pandas as pd\n",
        "import numpy as np\n",
        "\n",
        "# Visualization\n",
        "import matplotlib.pyplot as plt\n",
        "\n",
        "# Standardize the data\n",
        "from sklearn.preprocessing import StandardScaler\n",
        "\n",
        "# Model and performance evaluation\n",
        "from sklearn.model_selection import train_test_split\n",
        "from sklearn.linear_model import LogisticRegression\n",
        "from sklearn.metrics import plot_confusion_matrix, classification_report, log_loss, roc_curve, roc_auc_score\n",
        "\n",
        "\n",
        "###### Step 2: Read In Data\n",
        "\n",
        "# Load the breast cancer dataset\n",
        "data = datasets.load_breast_cancer()\n",
        "\n",
        "# Put the data in pandas dataframe format\n",
        "df = pd.DataFrame(data=data.data, columns=data.feature_names)\n",
        "df['target']=data.target\n",
        "\n",
        "# Check the data information\n",
        "df.info()\n",
        "\n",
        "# Check the target value distribution\n",
        "df['target'].value_counts(normalize=True)\n",
        "\n",
        "\n",
        "###### Step 3: Train Test Split\n",
        "\n",
        "# Train test split\n",
        "X_train, X_test, y_train, y_test = train_test_split(df[df.columns.difference(['target'])], df['target'], test_size=0.2, random_state=42)\n",
        "\n",
        "# Check the number of records in training and testing dataset.\n",
        "print(f'The training dataset has {len(X_train)} records.')\n",
        "print(f'The testing dataset has {len(X_test)} records.')\n",
        "\n",
        "\n",
        "###### Step 4: Standardization\n",
        "\n",
        "# Initiate scaler\n",
        "sc = StandardScaler()\n",
        "\n",
        "# Standardize the training dataset\n",
        "X_train_transformed = pd.DataFrame(sc.fit_transform(X_train),index=X_train.index, columns=X_train.columns)\n",
        "\n",
        "# Standardized the testing dataset\n",
        "X_test_transformed = pd.DataFrame(sc.transform(X_test),index=X_test.index, columns=X_test.columns)\n",
        "\n",
        "# Summary statistics after standardization\n",
        "X_train_transformed.describe().T\n",
        "\n",
        "# Summary statistics before standardization\n",
        "X_train.describe().T\n",
        "\n",
        "\n",
        "###### Step 5: Logistic Regression With No Regularization\n",
        "\n",
        "# Check default values\n",
        "LogisticRegression()\n",
        "\n",
        "# Run model\n",
        "logistic = LogisticRegression(penalty='none', random_state=0).fit(X_train_transformed, y_train)\n",
        "\n",
        "# Make prediction\n",
        "logistic_prediction = logistic.predict(X_test_transformed)\n",
        "\n",
        "# Get predicted probability\n",
        "logistic_pred_Prob = logistic.predict_proba(X_test_transformed)[:,1]\n",
        "\n",
        "# Get the false positive rate and true positive rate\n",
        "fpr,tpr, _=roc_curve(y_test,logistic_pred_Prob)\n",
        "\n",
        "# Get auc value\n",
        "auc=roc_auc_score(y_test,logistic_pred_Prob)\n",
        "\n",
        "# Plot the chart\n",
        "plt.plot(fpr,tpr,label=\"area=\"+str(auc))\n",
        "plt.legend(loc=4)\n",
        "\n",
        "# Caclulate log loss\n",
        "log_loss(y_test,logistic_pred_Prob)\n",
        "\n",
        "# Confusion matrix\n",
        "plot_confusion_matrix(logistic, X_test_transformed, y_test)\n",
        "\n",
        "# Performance report\n",
        "print(classification_report(y_test, logistic_prediction, digits=3))\n",
        "\n",
        "# Model coefficients\n",
        "LogisticCoeff = pd.concat([pd.DataFrame(X_test_transformed.columns),pd.DataFrame(np.transpose(logistic.coef_))], axis = 1)\n",
        "LogisticCoeff.columns=['Variable','Coefficient']\n",
        "LogisticCoeff['Coefficient_Abs']=LogisticCoeff['Coefficient'].apply(abs)\n",
        "LogisticCoeff.sort_values(by='Coefficient_Abs', ascending=False)\n",
        "\n",
        "\n",
        "###### Step 6: LASSO\n",
        "\n",
        "# Run model\n",
        "lasso = LogisticRegression(penalty='l1', solver='liblinear', random_state=0).fit(X_train_transformed, y_train)\n",
        "\n",
        "# Make prediction\n",
        "lasso_prediction = lasso.predict(X_test_transformed)\n",
        "\n",
        "# Get predicted probability\n",
        "lasso_pred_Prob = lasso.predict_proba(X_test_transformed)[:,1]\n",
        "\n",
        "# Get the false positive rate and true positive rate\n",
        "fpr,tpr, _= roc_curve(y_test,lasso_pred_Prob)\n",
        "\n",
        "# Get auc value\n",
        "auc = roc_auc_score(y_test,lasso_pred_Prob)\n",
        "\n",
        "# Plot the chart\n",
        "plt.plot(fpr,tpr,label=\"area=\"+str(auc))\n",
        "plt.legend(loc=4)\n",
        "\n",
        "# Calculate log loss\n",
        "log_loss(y_test,lasso_pred_Prob)\n",
        "\n",
        "# Confusion matrix\n",
        "plot_confusion_matrix(lasso, X_test_transformed, y_test)\n",
        "\n",
        "# Performance report\n",
        "print(classification_report(y_test, lasso_prediction, digits=3))\n",
        "\n",
        "# Model coefficients\n",
        "lassoCoeff = pd.concat([pd.DataFrame(X_test_transformed.columns),pd.DataFrame(np.transpose(lasso.coef_))], axis = 1)\n",
        "lassoCoeff.columns=['Variable','Coefficient']\n",
        "lassoCoeff['Coefficient_Abs']=lassoCoeff['Coefficient'].apply(abs)\n",
        "lassoCoeff.sort_values(by='Coefficient_Abs', ascending=False)\n",
        "\n",
        "\n",
        "###### Step 7: Ridge\n",
        "\n",
        "# Run model\n",
        "ridge = LogisticRegression(penalty='l2', random_state=0).fit(X_train_transformed, y_train)\n",
        "\n",
        "# Make prediction\n",
        "ridge_prediction = ridge.predict(X_test_transformed)\n",
        "\n",
        "# Get predicted probability\n",
        "ridge_pred_Prob = ridge.predict_proba(X_test_transformed)[:,1]\n",
        "\n",
        "# Get the false positive rate and true positive rate\n",
        "fpr,tpr, _= roc_curve(y_test,ridge_pred_Prob)\n",
        "\n",
        "# Get auc value\n",
        "auc = roc_auc_score(y_test,ridge_pred_Prob)\n",
        "\n",
        "# Plot the chart\n",
        "plt.plot(fpr,tpr,label=\"area=\"+str(auc))\n",
        "plt.legend(loc=4)\n",
        "\n",
        "# Calculate log loss\n",
        "log_loss(y_test,ridge_pred_Prob)\n",
        "\n",
        "# Confusion matrix\n",
        "plot_confusion_matrix(ridge, X_test_transformed, y_test)\n",
        "\n",
        "# Performance matrix\n",
        "print(classification_report(y_test, ridge_prediction, digits=3))\n",
        "\n",
        "# Model coefficients\n",
        "ridgeCoeff = pd.concat([pd.DataFrame(X_test_transformed.columns),pd.DataFrame(np.transpose(ridge.coef_))], axis = 1)\n",
        "ridgeCoeff.columns=['Variable','Coefficient']\n",
        "ridgeCoeff['Coefficient_Abs']=ridgeCoeff['Coefficient'].apply(abs)\n",
        "ridgeCoeff.sort_values(by='Coefficient_Abs', ascending=False)\n",
        "\n",
        "\n",
        "###### Step 8: Elastic Net\n",
        "\n",
        "# Run model\n",
        "elasticNet = LogisticRegression(penalty='elasticnet', solver='saga', l1_ratio=0.5, random_state=0).fit(X_train_transformed, y_train)\n",
        "\n",
        "# Make prediction\n",
        "elasticNet_prediction = elasticNet.predict(X_test_transformed)\n",
        "\n",
        "# Get predicted probability\n",
        "elasticNet_pred_Prob = elasticNet.predict_proba(X_test_transformed)[:,1]\n",
        "\n",
        "# Get the false positive rate and true positive rate\n",
        "fpr,tpr, _ = roc_curve(y_test,elasticNet_pred_Prob)\n",
        "\n",
        "# Get auc value\n",
        "auc = roc_auc_score(y_test,elasticNet_pred_Prob)\n",
        "\n",
        "# Plot the chart\n",
        "plt.plot(fpr,tpr,label=\"area=\"+str(auc))\n",
        "plt.legend(loc=4)\n",
        "\n",
        "# Calculate log loss\n",
        "log_loss(y_test,elasticNet_pred_Prob)\n",
        "\n",
        "# Confusion matrix\n",
        "plot_confusion_matrix(elasticNet, X_test_transformed, y_test)\n",
        "\n",
        "# Performance report\n",
        "print(classification_report(y_test, elasticNet_prediction, digits=3))\n",
        "\n",
        "# Model coefficients\n",
        "elasticNetCoeff = pd.concat([pd.DataFrame(X_test_transformed.columns),pd.DataFrame(np.transpose(elasticNet.coef_))], axis = 1)\n",
        "elasticNetCoeff.columns=['Variable','Coefficient']\n",
        "elasticNetCoeff['Coefficient_Abs']=elasticNetCoeff['Coefficient'].apply(abs)\n",
        "elasticNetCoeff.sort_values(by='Coefficient_Abs', ascending=False)\n"
      ],
      "execution_count": null,
      "outputs": []
    },
    {
      "cell_type": "markdown",
      "metadata": {
        "id": "ripcp0FkJRUa"
      },
      "source": [
        "# Summary"
      ]
    },
    {
      "cell_type": "markdown",
      "metadata": {
        "id": "8bjxl6aBJRfq"
      },
      "source": [
        "In this tutorial, we covered\n",
        "* What's the difference between LASSO (L1), Ridge (L2), and Elastic Net?\n",
        "* How to run LASSO for the classification model?\n",
        "* How to run Ridge for classification model?\n",
        "* How to run Elastic Net for classification model?\n",
        "* How to compare the performance of LASSO, Ridge, and Elastic Net?\n",
        "\n",
        "We can see that regularization improved the model performance significantly than not using regularization.\n",
        "\n",
        "Elastic net has the best performance among the three regularization algorithms, followed by Ridge and LASSO regression. However, this may not be true for all the datasets. Therefore, I suggest trying all three algorithms for your project, doing hyperparameter tuning, and choosing the algorithm that works best for your dataset."
      ]
    },
    {
      "cell_type": "markdown",
      "metadata": {
        "id": "9eakJQm9UA-2"
      },
      "source": [
        "# Recommendation For You"
      ]
    },
    {
      "cell_type": "markdown",
      "metadata": {
        "id": "wrPa_6hMU_8L"
      },
      "source": [
        "- [GrabNGoInfo Machine Learning Tutorials Inventory](https://medium.com/grabngoinfo/grabngoinfo-machine-learning-tutorials-inventory-9b9d78ebdd67)\n",
        "- [Hierarchical Topic Model for Airbnb Reviews](https://medium.com/p/hierarchical-topic-model-for-airbnb-reviews-f772eaa30434)\n",
        "- [3 Ways for Multiple Time Series Forecasting Using Prophet in Python](https://medium.com/p/3-ways-for-multiple-time-series-forecasting-using-prophet-in-python-7a0709a117f9)\n",
        "- [Time Series Anomaly Detection Using Prophet in Python](https://medium.com/grabngoinfo/time-series-anomaly-detection-using-prophet-in-python-877d2b7b14b4)\n",
        "- [Time Series Causal Impact Analysis in Python](https://medium.com/grabngoinfo/time-series-causal-impact-analysis-in-python-63eacb1df5cc)\n",
        "- [Hyperparameter Tuning For XGBoost](https://medium.com/p/hyperparameter-tuning-for-xgboost-91449869c57e)\n",
        "- [Four Oversampling And Under-Sampling Methods For Imbalanced Classification Using Python](https://medium.com/p/four-oversampling-and-under-sampling-methods-for-imbalanced-classification-using-python-7304aedf9037)\n",
        "- [Five Ways To Create Tables In Databricks](https://medium.com/grabngoinfo/five-ways-to-create-tables-in-databricks-cd3847cfc3aa)\n",
        "- [Explainable S-Learner Uplift Model Using Python Package CausalML](https://medium.com/grabngoinfo/explainable-s-learner-uplift-model-using-python-package-causalml-a3c2bed3497c)\n",
        "- [One-Class SVM For Anomaly Detection](https://medium.com/p/one-class-svm-for-anomaly-detection-6c97fdd6d8af)\n",
        "- [Recommendation System: Item-Based Collaborative Filtering](https://medium.com/grabngoinfo/recommendation-system-item-based-collaborative-filtering-f5078504996a)\n",
        "- [Hyperparameter Tuning for Time Series Causal Impact Analysis in Python](https://medium.com/grabngoinfo/hyperparameter-tuning-for-time-series-causal-impact-analysis-in-python-c8f7246c4d22)\n",
        "- [Hyperparameter Tuning and Regularization for Time Series Model Using Prophet in Python](https://medium.com/grabngoinfo/hyperparameter-tuning-and-regularization-for-time-series-model-using-prophet-in-python-9791370a07dc)\n",
        "- [Multivariate Time Series Forecasting with Seasonality and Holiday Effect Using Prophet in Python](https://medium.com/p/multivariate-time-series-forecasting-with-seasonality-and-holiday-effect-using-prophet-in-python-d5d4150eeb57)\n",
        "- [LASSO (L1) Vs Ridge (L2) Vs Elastic Net Regularization For Classification Model](https://medium.com/towards-artificial-intelligence/lasso-l1-vs-ridge-l2-vs-elastic-net-regularization-for-classification-model-409c3d86f6e9)\n",
        "- [S Learner Uplift Model for Individual Treatment Effect and Customer Segmentation in Python](https://medium.com/grabngoinfo/s-learner-uplift-model-for-individual-treatment-effect-and-customer-segmentation-in-python-9d410746e122)\n",
        "- [How to Use R with Google Colab Notebook](https://medium.com/p/how-to-use-r-with-google-colab-notebook-610c3a2f0eab)"
      ]
    },
    {
      "cell_type": "markdown",
      "metadata": {
        "id": "P6ieuXZxv0uQ"
      },
      "source": [
        "# Reference"
      ]
    },
    {
      "cell_type": "markdown",
      "metadata": {
        "id": "dPnW0MvNv4M7"
      },
      "source": [
        "* [LASSO regression explained](https://www.youtube.com/watch?v=NGf0voTMlcs)\n",
        "* [Ridge regression explained](https://www.youtube.com/watch?v=Q81RR3yKn30)\n",
        "* [sklearn documentation on logistic regression](https://scikit-learn.org/stable/modules/generated/sklearn.linear_model.LogisticRegression.html)\n",
        "* [sklearn documenation on standard scaler](https://scikit-learn.org/stable/modules/generated/sklearn.preprocessing.StandardScaler.html)"
      ]
    }
  ]
}