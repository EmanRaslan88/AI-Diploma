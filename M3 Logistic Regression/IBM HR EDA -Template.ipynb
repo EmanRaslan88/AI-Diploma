{
 "cells": [
  {
   "cell_type": "markdown",
   "id": "507aa9e4",
   "metadata": {},
   "source": [
    "---\n",
    "# 💼 Attrition in an Organization || Why Workers Quit?\n",
    "\n",
    "---\n",
    "\n",
    "Employees are the backbone of the organization. Organization's performance is heavily based on the quality of the employees. Challenges that an organization has to face due employee attrition are:\n",
    "\n",
    "> 1. Expensive in terms of both money and time to train new employees.\n",
    "> 1. Loss of experienced employees\n",
    "> 1. Impact in productivity\n",
    "> 1. Impact profit\n"
   ]
  },
  {
   "cell_type": "markdown",
   "id": "88b51c14",
   "metadata": {},
   "source": [
    "\n",
    "### <b>Business Goal ?!!</b>  \n",
    "\n",
    "\n",
    "\n",
    "### <b>Data Overview</b>\n",
    "In this notebook, I will analyze IBM's on HR Analytics. The data consists of nearly 1,500 current and former employees with information related to their job satisfaction, work life balance, tenure, experience, salary, and demographic data. Below is a brief overview and summary statistics of the data.\n",
    "\n",
    "https://www.kaggle.com/datasets/pavansubhasht/ibm-hr-analytics-attrition-dataset"
   ]
  },
  {
   "cell_type": "markdown",
   "id": "09b492f7",
   "metadata": {
    "execution": {
     "iopub.execute_input": "2022-02-17T21:04:31.755854Z",
     "iopub.status.busy": "2022-02-17T21:04:31.754979Z",
     "iopub.status.idle": "2022-02-17T21:04:31.759594Z",
     "shell.execute_reply": "2022-02-17T21:04:31.758648Z",
     "shell.execute_reply.started": "2022-02-17T21:04:31.755812Z"
    },
    "papermill": {
     "duration": 0.07629,
     "end_time": "2022-02-18T12:22:04.548583",
     "exception": false,
     "start_time": "2022-02-18T12:22:04.472293",
     "status": "completed"
    },
    "tags": []
   },
   "source": [
    "# Importing libraries"
   ]
  },
  {
   "cell_type": "code",
   "execution_count": null,
   "id": "7be592d9",
   "metadata": {
    "_cell_guid": "b1076dfc-b9ad-4769-8c92-a6c4dae69d19",
    "_uuid": "8f2839f25d086af736a60e9eeb907d3b93b6e0e5",
    "execution": {
     "iopub.execute_input": "2022-02-18T12:22:04.704797Z",
     "iopub.status.busy": "2022-02-18T12:22:04.704108Z",
     "iopub.status.idle": "2022-02-18T12:22:06.797412Z",
     "shell.execute_reply": "2022-02-18T12:22:06.796805Z",
     "shell.execute_reply.started": "2022-02-18T12:16:55.950639Z"
    },
    "papermill": {
     "duration": 2.172947,
     "end_time": "2022-02-18T12:22:06.797578",
     "exception": false,
     "start_time": "2022-02-18T12:22:04.624631",
     "status": "completed"
    },
    "tags": []
   },
   "outputs": [],
   "source": [
    "import numpy as np\n",
    "import pandas as pd \n",
    "import seaborn as sns\n",
    "import matplotlib.pyplot as plt\n",
    "import plotly.express as px\n",
    "\n",
    "from sklearn.model_selection import train_test_split, cross_validate\n",
    "from sklearn.preprocessing import LabelEncoder,MinMaxScaler,StandardScaler\n",
    "from sklearn.linear_model import LogisticRegression"
   ]
  },
  {
   "cell_type": "markdown",
   "id": "77f20ccf",
   "metadata": {
    "papermill": {
     "duration": 0.077086,
     "end_time": "2022-02-18T12:22:07.270254",
     "exception": false,
     "start_time": "2022-02-18T12:22:07.193168",
     "status": "completed"
    },
    "tags": []
   },
   "source": [
    "# Load data"
   ]
  },
  {
   "cell_type": "code",
   "execution_count": null,
   "id": "8f30b29c",
   "metadata": {
    "execution": {
     "iopub.execute_input": "2022-02-18T12:22:07.427510Z",
     "iopub.status.busy": "2022-02-18T12:22:07.426801Z",
     "iopub.status.idle": "2022-02-18T12:22:07.487162Z",
     "shell.execute_reply": "2022-02-18T12:22:07.486287Z",
     "shell.execute_reply.started": "2022-02-18T12:16:55.97821Z"
    },
    "papermill": {
     "duration": 0.139532,
     "end_time": "2022-02-18T12:22:07.487323",
     "exception": false,
     "start_time": "2022-02-18T12:22:07.347791",
     "status": "completed"
    },
    "tags": []
   },
   "outputs": [],
   "source": []
  },
  {
   "cell_type": "markdown",
   "id": "9054908b",
   "metadata": {},
   "source": [
    "---\n",
    "# 📊 Exploratory Data Analysis\n",
    "\n",
    "- Find patterns in data through data visualization. Reveal hidden secrets of the data through graphs, analysis and charts.\n",
    "    - Univariate analysis\n",
    "        > - Continous variables  \n",
    "        > - Categorical variable\n",
    "    - Bivariate analysis\n",
    "        > - Continous & Continous  \n",
    "        > - Categorical & Continous  \n",
    "- Detect outliers\n",
    "- Drop Nulls"
   ]
  },
  {
   "cell_type": "markdown",
   "id": "3a369d57",
   "metadata": {
    "papermill": {
     "duration": 0.077292,
     "end_time": "2022-02-18T12:22:07.642239",
     "exception": false,
     "start_time": "2022-02-18T12:22:07.564947",
     "status": "completed"
    },
    "tags": []
   },
   "source": [
    "# First look"
   ]
  },
  {
   "cell_type": "code",
   "execution_count": null,
   "id": "37ff9557",
   "metadata": {},
   "outputs": [],
   "source": []
  },
  {
   "cell_type": "code",
   "execution_count": null,
   "id": "07738898",
   "metadata": {},
   "outputs": [],
   "source": []
  },
  {
   "cell_type": "code",
   "execution_count": null,
   "id": "644b4291",
   "metadata": {},
   "outputs": [],
   "source": []
  },
  {
   "cell_type": "code",
   "execution_count": null,
   "id": "0419586d",
   "metadata": {},
   "outputs": [],
   "source": []
  },
  {
   "cell_type": "code",
   "execution_count": null,
   "id": "9658c931",
   "metadata": {},
   "outputs": [],
   "source": []
  },
  {
   "cell_type": "code",
   "execution_count": null,
   "id": "30635c77",
   "metadata": {},
   "outputs": [],
   "source": []
  },
  {
   "cell_type": "markdown",
   "id": "d5b9863e",
   "metadata": {},
   "source": [
    "---\n",
    "## 📉 Data Visualisation"
   ]
  },
  {
   "cell_type": "code",
   "execution_count": null,
   "id": "dd8b9a96",
   "metadata": {},
   "outputs": [],
   "source": []
  },
  {
   "cell_type": "code",
   "execution_count": null,
   "id": "b041ed61",
   "metadata": {},
   "outputs": [],
   "source": []
  },
  {
   "cell_type": "code",
   "execution_count": null,
   "id": "78df3bcd",
   "metadata": {},
   "outputs": [],
   "source": []
  },
  {
   "cell_type": "code",
   "execution_count": null,
   "id": "eddc48b4",
   "metadata": {},
   "outputs": [],
   "source": []
  },
  {
   "cell_type": "code",
   "execution_count": null,
   "id": "6b5bbf0d",
   "metadata": {},
   "outputs": [],
   "source": []
  },
  {
   "cell_type": "markdown",
   "id": "1d9324a4",
   "metadata": {},
   "source": [
    "***\n",
    "\n",
    "## 📝 **Conclusions:**\n",
    "\n",
    "***\n"
   ]
  },
  {
   "cell_type": "markdown",
   "id": "3231823a",
   "metadata": {},
   "source": [
    "\n",
    "# 🔨 Data Preprocessing"
   ]
  },
  {
   "cell_type": "markdown",
   "id": "31cece66",
   "metadata": {
    "papermill": {
     "duration": 0.101119,
     "end_time": "2022-02-18T12:22:25.265265",
     "exception": false,
     "start_time": "2022-02-18T12:22:25.164146",
     "status": "completed"
    },
    "tags": []
   },
   "source": [
    "## Drop unnecessary columns"
   ]
  },
  {
   "cell_type": "markdown",
   "id": "1aae23f5",
   "metadata": {
    "papermill": {
     "duration": 0.097898,
     "end_time": "2022-02-18T12:22:25.461768",
     "exception": false,
     "start_time": "2022-02-18T12:22:25.363870",
     "status": "completed"
    },
    "tags": []
   },
   "source": [
    "Those columns have only one value"
   ]
  },
  {
   "cell_type": "code",
   "execution_count": null,
   "id": "dd9f7520",
   "metadata": {
    "execution": {
     "iopub.execute_input": "2022-02-18T12:22:25.865695Z",
     "iopub.status.busy": "2022-02-18T12:22:25.863389Z",
     "iopub.status.idle": "2022-02-18T12:22:25.869261Z",
     "shell.execute_reply": "2022-02-18T12:22:25.869860Z",
     "shell.execute_reply.started": "2022-02-18T12:17:08.038565Z"
    },
    "papermill": {
     "duration": 0.107101,
     "end_time": "2022-02-18T12:22:25.870065",
     "exception": false,
     "start_time": "2022-02-18T12:22:25.762964",
     "status": "completed"
    },
    "tags": []
   },
   "outputs": [],
   "source": []
  },
  {
   "cell_type": "markdown",
   "id": "f2e802eb",
   "metadata": {
    "execution": {
     "iopub.execute_input": "2022-02-18T09:51:40.782285Z",
     "iopub.status.busy": "2022-02-18T09:51:40.781171Z",
     "iopub.status.idle": "2022-02-18T09:51:40.785971Z",
     "shell.execute_reply": "2022-02-18T09:51:40.785268Z",
     "shell.execute_reply.started": "2022-02-18T09:51:40.782212Z"
    },
    "papermill": {
     "duration": 0.095989,
     "end_time": "2022-02-18T12:22:26.064466",
     "exception": false,
     "start_time": "2022-02-18T12:22:25.968477",
     "status": "completed"
    },
    "tags": []
   },
   "source": [
    "## Label Encoding for Target `Attrition`"
   ]
  },
  {
   "cell_type": "code",
   "execution_count": null,
   "id": "a5249bee",
   "metadata": {},
   "outputs": [],
   "source": []
  },
  {
   "cell_type": "code",
   "execution_count": null,
   "id": "10a0b53b",
   "metadata": {},
   "outputs": [],
   "source": []
  },
  {
   "cell_type": "code",
   "execution_count": null,
   "id": "c90ce56b",
   "metadata": {},
   "outputs": [],
   "source": []
  },
  {
   "cell_type": "markdown",
   "id": "120dfcb4",
   "metadata": {},
   "source": [
    "## <b><span style='color:#68A19B'>I.</span>  Encode Categorical Columns</b>"
   ]
  },
  {
   "cell_type": "code",
   "execution_count": null,
   "id": "2395ffce",
   "metadata": {},
   "outputs": [],
   "source": [
    "\n"
   ]
  },
  {
   "cell_type": "markdown",
   "id": "3c162062",
   "metadata": {},
   "source": [
    "## <b><span style='color:#68A19B'>II.</span> Create Training and Test Sets</b>"
   ]
  },
  {
   "cell_type": "code",
   "execution_count": null,
   "id": "c033efa3",
   "metadata": {},
   "outputs": [],
   "source": []
  },
  {
   "cell_type": "code",
   "execution_count": null,
   "id": "67235888",
   "metadata": {},
   "outputs": [],
   "source": []
  },
  {
   "cell_type": "code",
   "execution_count": null,
   "id": "8e334111",
   "metadata": {},
   "outputs": [],
   "source": []
  },
  {
   "cell_type": "markdown",
   "id": "5b9c2308",
   "metadata": {},
   "source": [
    "## <b><span style='color:#68A19B'>III.</span> Scale Features</b>"
   ]
  },
  {
   "cell_type": "code",
   "execution_count": null,
   "id": "61589aa6",
   "metadata": {},
   "outputs": [],
   "source": []
  },
  {
   "cell_type": "code",
   "execution_count": null,
   "id": "daa851fe",
   "metadata": {},
   "outputs": [],
   "source": []
  },
  {
   "cell_type": "code",
   "execution_count": null,
   "id": "52771a67",
   "metadata": {},
   "outputs": [],
   "source": []
  },
  {
   "cell_type": "markdown",
   "id": "5338afc7",
   "metadata": {},
   "source": [
    "# 🤖 Applying machine learning algorithms"
   ]
  },
  {
   "cell_type": "markdown",
   "id": "f1492af5",
   "metadata": {},
   "source": [
    "## ✔️ Logistic Regression"
   ]
  },
  {
   "cell_type": "code",
   "execution_count": null,
   "id": "3d247f31",
   "metadata": {},
   "outputs": [],
   "source": []
  },
  {
   "cell_type": "code",
   "execution_count": null,
   "id": "e11fbd21",
   "metadata": {},
   "outputs": [],
   "source": []
  },
  {
   "cell_type": "code",
   "execution_count": null,
   "id": "e19cefdd",
   "metadata": {},
   "outputs": [],
   "source": []
  },
  {
   "cell_type": "code",
   "execution_count": null,
   "id": "cf572f2d",
   "metadata": {},
   "outputs": [],
   "source": []
  }
 ],
 "metadata": {
  "interpreter": {
   "hash": "e498aee29e5313ac19032e6c7bf7ceec7d756b93f9923161fe678d81281426e5"
  },
  "kernelspec": {
   "display_name": "Python 3.9.7 ('base')",
   "language": "python",
   "name": "python3"
  },
  "language_info": {
   "codemirror_mode": {
    "name": "ipython",
    "version": 3
   },
   "file_extension": ".py",
   "mimetype": "text/x-python",
   "name": "python",
   "nbconvert_exporter": "python",
   "pygments_lexer": "ipython3",
   "version": "3.9.7"
  },
  "papermill": {
   "default_parameters": {},
   "duration": 55.87742,
   "end_time": "2022-02-18T12:22:37.029414",
   "environment_variables": {},
   "exception": null,
   "input_path": "__notebook__.ipynb",
   "output_path": "__notebook__.ipynb",
   "parameters": {},
   "start_time": "2022-02-18T12:21:41.151994",
   "version": "2.3.3"
  }
 },
 "nbformat": 4,
 "nbformat_minor": 5
}
