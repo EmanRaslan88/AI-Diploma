{
  "cells": [
    {
      "cell_type": "markdown",
      "metadata": {},
      "source": [
        "# Titanic \n",
        "The sinking of Titanic is one of the most notorious shipwrecks in the history. In 1912, during her voyage, the Titanic sank after colliding with an iceberg, killing 1502 out of 2224 passengers and crew."
      ]
    },
    {
      "cell_type": "markdown",
      "metadata": {},
      "source": [
        "<a id = \"2\"></a><br>\n",
        "# Variable Description\n",
        "1. PassengerId: unique id number to each passenger\n",
        "1. Survived: passenger survive(1) or died(0)\n",
        "1. Pclass: passenger class\n",
        "1. Name: name\n",
        "1. Sex: gender of passenger \n",
        "1. Age: age of passenger \n",
        "1. SibSp: number of siblings/spouses\n",
        "1. Parch: number of parents/children \n",
        "1. Ticket: ticket number \n",
        "1. Fare: amount of money spent on ticket\n",
        "1. Cabin: cabin category\n",
        "1. Embarked: port where passenger embarked (C = Cherbourg, Q = Queenstown, S = Southampton)\n"
      ]
    },
    {
      "cell_type": "markdown",
      "metadata": {},
      "source": [
        "* Categorical Variable: Survived, Sex, Pclass, Embarked, Cabin, Name, Ticket, Sibsp and Parch\n",
        "* Numerical Variable: Fare, age and passengerId"
      ]
    },
    {
      "cell_type": "markdown",
      "metadata": {
        "id": "pXBr5e9UxfBa"
      },
      "source": [
        "# Exploratory Data Analysis with Titanic Data Set"
      ]
    },
    {
      "cell_type": "code",
      "execution_count": 26,
      "metadata": {
        "colab": {
          "base_uri": "https://localhost:8080/",
          "height": 71
        },
        "id": "5uVdx19Ojndw",
        "outputId": "788ee696-b6ec-43b9-b777-f748a722be62"
      },
      "outputs": [],
      "source": [
        "import numpy as np\n",
        "import pandas as pd\n",
        "import seaborn as sns\n",
        "import matplotlib.pyplot as plt\n"
      ]
    },
    {
      "cell_type": "code",
      "execution_count": 27,
      "metadata": {
        "colab": {
          "base_uri": "https://localhost:8080/",
          "height": 51
        },
        "id": "R4NOrJgmkDEH",
        "outputId": "4b70648f-1d1f-47a0-8450-69f29874e34a"
      },
      "outputs": [
        {
          "name": "stdout",
          "output_type": "stream",
          "text": [
            "(891, 12)\n"
          ]
        }
      ],
      "source": [
        "df = pd.read_csv('titanic_dataset.csv')\n",
        "print(df.shape)"
      ]
    },
    {
      "cell_type": "code",
      "execution_count": 28,
      "metadata": {
        "colab": {
          "base_uri": "https://localhost:8080/",
          "height": 204
        },
        "id": "xfmqnui4k_QW",
        "outputId": "df0543a1-d3e8-40bf-83be-07cff817bab8"
      },
      "outputs": [
        {
          "data": {
            "text/html": [
              "<div>\n",
              "<style scoped>\n",
              "    .dataframe tbody tr th:only-of-type {\n",
              "        vertical-align: middle;\n",
              "    }\n",
              "\n",
              "    .dataframe tbody tr th {\n",
              "        vertical-align: top;\n",
              "    }\n",
              "\n",
              "    .dataframe thead th {\n",
              "        text-align: right;\n",
              "    }\n",
              "</style>\n",
              "<table border=\"1\" class=\"dataframe\">\n",
              "  <thead>\n",
              "    <tr style=\"text-align: right;\">\n",
              "      <th></th>\n",
              "      <th>PassengerId</th>\n",
              "      <th>Survived</th>\n",
              "      <th>Pclass</th>\n",
              "      <th>Name</th>\n",
              "      <th>Sex</th>\n",
              "      <th>Age</th>\n",
              "      <th>SibSp</th>\n",
              "      <th>Parch</th>\n",
              "      <th>Ticket</th>\n",
              "      <th>Fare</th>\n",
              "      <th>Cabin</th>\n",
              "      <th>Embarked</th>\n",
              "    </tr>\n",
              "  </thead>\n",
              "  <tbody>\n",
              "    <tr>\n",
              "      <th>0</th>\n",
              "      <td>1</td>\n",
              "      <td>0</td>\n",
              "      <td>3</td>\n",
              "      <td>Braund, Mr. Owen Harris</td>\n",
              "      <td>male</td>\n",
              "      <td>22.0</td>\n",
              "      <td>1</td>\n",
              "      <td>0</td>\n",
              "      <td>A/5 21171</td>\n",
              "      <td>7.2500</td>\n",
              "      <td>NaN</td>\n",
              "      <td>S</td>\n",
              "    </tr>\n",
              "    <tr>\n",
              "      <th>1</th>\n",
              "      <td>2</td>\n",
              "      <td>1</td>\n",
              "      <td>1</td>\n",
              "      <td>Cumings, Mrs. John Bradley (Florence Briggs Th...</td>\n",
              "      <td>female</td>\n",
              "      <td>38.0</td>\n",
              "      <td>1</td>\n",
              "      <td>0</td>\n",
              "      <td>PC 17599</td>\n",
              "      <td>71.2833</td>\n",
              "      <td>C85</td>\n",
              "      <td>C</td>\n",
              "    </tr>\n",
              "    <tr>\n",
              "      <th>2</th>\n",
              "      <td>3</td>\n",
              "      <td>1</td>\n",
              "      <td>3</td>\n",
              "      <td>Heikkinen, Miss. Laina</td>\n",
              "      <td>female</td>\n",
              "      <td>26.0</td>\n",
              "      <td>0</td>\n",
              "      <td>0</td>\n",
              "      <td>STON/O2. 3101282</td>\n",
              "      <td>7.9250</td>\n",
              "      <td>NaN</td>\n",
              "      <td>S</td>\n",
              "    </tr>\n",
              "    <tr>\n",
              "      <th>3</th>\n",
              "      <td>4</td>\n",
              "      <td>1</td>\n",
              "      <td>1</td>\n",
              "      <td>Futrelle, Mrs. Jacques Heath (Lily May Peel)</td>\n",
              "      <td>female</td>\n",
              "      <td>35.0</td>\n",
              "      <td>1</td>\n",
              "      <td>0</td>\n",
              "      <td>113803</td>\n",
              "      <td>53.1000</td>\n",
              "      <td>C123</td>\n",
              "      <td>S</td>\n",
              "    </tr>\n",
              "    <tr>\n",
              "      <th>4</th>\n",
              "      <td>5</td>\n",
              "      <td>0</td>\n",
              "      <td>3</td>\n",
              "      <td>Allen, Mr. William Henry</td>\n",
              "      <td>male</td>\n",
              "      <td>35.0</td>\n",
              "      <td>0</td>\n",
              "      <td>0</td>\n",
              "      <td>373450</td>\n",
              "      <td>8.0500</td>\n",
              "      <td>NaN</td>\n",
              "      <td>S</td>\n",
              "    </tr>\n",
              "  </tbody>\n",
              "</table>\n",
              "</div>"
            ],
            "text/plain": [
              "   PassengerId  Survived  Pclass  \\\n",
              "0            1         0       3   \n",
              "1            2         1       1   \n",
              "2            3         1       3   \n",
              "3            4         1       1   \n",
              "4            5         0       3   \n",
              "\n",
              "                                                Name     Sex   Age  SibSp  \\\n",
              "0                            Braund, Mr. Owen Harris    male  22.0      1   \n",
              "1  Cumings, Mrs. John Bradley (Florence Briggs Th...  female  38.0      1   \n",
              "2                             Heikkinen, Miss. Laina  female  26.0      0   \n",
              "3       Futrelle, Mrs. Jacques Heath (Lily May Peel)  female  35.0      1   \n",
              "4                           Allen, Mr. William Henry    male  35.0      0   \n",
              "\n",
              "   Parch            Ticket     Fare Cabin Embarked  \n",
              "0      0         A/5 21171   7.2500   NaN        S  \n",
              "1      0          PC 17599  71.2833   C85        C  \n",
              "2      0  STON/O2. 3101282   7.9250   NaN        S  \n",
              "3      0            113803  53.1000  C123        S  \n",
              "4      0            373450   8.0500   NaN        S  "
            ]
          },
          "execution_count": 28,
          "metadata": {},
          "output_type": "execute_result"
        }
      ],
      "source": [
        "df.head()"
      ]
    },
    {
      "cell_type": "code",
      "execution_count": 29,
      "metadata": {
        "id": "D1fd1lVRnl8L"
      },
      "outputs": [],
      "source": [
        "df.drop('PassengerId', axis =1, inplace = True)"
      ]
    },
    {
      "cell_type": "markdown",
      "metadata": {
        "id": "kLS-hJecBNMn"
      },
      "source": [
        "#Missing Value treatment"
      ]
    },
    {
      "cell_type": "code",
      "execution_count": 30,
      "metadata": {
        "colab": {
          "base_uri": "https://localhost:8080/",
          "height": 221
        },
        "id": "Lt03vmmplOrs",
        "outputId": "29c25771-58e5-4496-d9da-7804627ffa83"
      },
      "outputs": [
        {
          "data": {
            "text/plain": [
              "Cabin       77.104377\n",
              "Age         19.865320\n",
              "Embarked     0.224467\n",
              "Survived     0.000000\n",
              "Pclass       0.000000\n",
              "Name         0.000000\n",
              "Sex          0.000000\n",
              "SibSp        0.000000\n",
              "Parch        0.000000\n",
              "Ticket       0.000000\n",
              "Fare         0.000000\n",
              "dtype: float64"
            ]
          },
          "execution_count": 30,
          "metadata": {},
          "output_type": "execute_result"
        }
      ],
      "source": [
        "missing_values = (df.isnull().sum()/df.shape[0]  *100).sort_values(ascending = False)\n",
        "missing_values"
      ]
    },
    {
      "cell_type": "code",
      "execution_count": 31,
      "metadata": {
        "id": "85b6L8Z5yyCW"
      },
      "outputs": [],
      "source": [
        "df['Age'].fillna(df['Age'].mean(), inplace = True)"
      ]
    },
    {
      "cell_type": "markdown",
      "metadata": {
        "id": "At6wnayyBe0e"
      },
      "source": [
        "#Feature Engineering"
      ]
    },
    {
      "cell_type": "code",
      "execution_count": 32,
      "metadata": {},
      "outputs": [
        {
          "data": {
            "text/plain": [
              "S    644\n",
              "C    168\n",
              "Q     77\n",
              "Name: Embarked, dtype: int64"
            ]
          },
          "execution_count": 32,
          "metadata": {},
          "output_type": "execute_result"
        }
      ],
      "source": [
        "df['Embarked'].value_counts()"
      ]
    },
    {
      "cell_type": "code",
      "execution_count": 33,
      "metadata": {},
      "outputs": [],
      "source": [
        "mapping = {\n",
        "            \"C\": \"Cherbourg\",\n",
        "            \"S\": \"Southampton\",\n",
        "            \"Q\": \"Queenstown\"\n",
        "    }\n",
        "df['Embarked']=df['Embarked'].apply(lambda x: x if x=='S' or x=='Q' else 'Unknown') \n",
        "df['Embarked'].replace(mapping,inplace=True)\n"
      ]
    },
    {
      "cell_type": "code",
      "execution_count": 34,
      "metadata": {},
      "outputs": [],
      "source": [
        "mapping = {\n",
        "            1: \"1st class\",\n",
        "            2: \"2nd class\",\n",
        "            3: \"3rd class\"\n",
        "    }\n",
        "df['Pclass'].replace(mapping,inplace=True)"
      ]
    },
    {
      "cell_type": "code",
      "execution_count": 35,
      "metadata": {
        "id": "m_NUtLKqnjHS"
      },
      "outputs": [],
      "source": [
        "def expand_embark_acronym(embarked):\n",
        "    result = []\n",
        "    mapping = {\n",
        "            \"C\": \"Cherbourg\",\n",
        "            \"S\": \"Southampton\",\n",
        "            \"Q\": \"Queenstown\"\n",
        "    }    \n",
        "    for each in embarked.values:\n",
        "        if len(str(each)) > 1:\n",
        "            result.append(each)\n",
        "        else:        \n",
        "            if each in mapping:\n",
        "                result.append(mapping[each])\n",
        "            else:\n",
        "                result.append(\"Unknown\")\n",
        "    return result\n",
        "\n",
        "def expand_pclass_acronym(pclass):\n",
        "    result = []\n",
        "    mapping = {\n",
        "            1: \"1st class\",\n",
        "            2: \"2nd class\",\n",
        "            3: \"3rd class\"\n",
        "    }    \n",
        "    for each in pclass.values:\n",
        "        if len(str(each)) > 1:\n",
        "            result.append(each)\n",
        "        else:\n",
        "            if each in mapping:\n",
        "                result.append(mapping[each])\n",
        "            else:\n",
        "                result.append(\"Unknown\")\n",
        "    return result\n",
        "\n",
        "def is_a_minor(age):\n",
        "    \n",
        "    if age < 18:\n",
        "        return \"Under 18 (minor)\"\n",
        "    \n",
        "    return \"Adult\"\n",
        "\n",
        "# See https://help.healthycities.org/hc/en-us/articles/219556208-How-are-the-different-age-groups-defined-\n",
        "def apply_age_groups(age):\n",
        "    result = []\n",
        "    mapping = {\n",
        "            1: \"Infant\",      # Infants: <1\n",
        "           13: \"Child\",       # Children: <18, <11 or K - 7th grade\n",
        "           18: \"Teen\",        # Teens: 13-17 (Teens, who are not Adults)\n",
        "           66: \"Adult\",       # Adults: 20+ (includes adult teens: 18+)\n",
        "           123: \"Elderly\"     # Elderly: 65+ (123 is the oldest age known till date)\n",
        "    }    \n",
        "    for each_age in age.values:\n",
        "        if type(each_age) == str:\n",
        "            result.append(category)\n",
        "        else:\n",
        "            category = \"Unknown\"\n",
        "            if each_age != np.nan:\n",
        "                for each_age_range in mapping:\n",
        "                    if  each_age < each_age_range:\n",
        "                        category = mapping[each_age_range]\n",
        "                        break\n",
        "            result.append(category)\n",
        "    return result\n",
        "\n",
        "def apply_age_ranges(age):\n",
        "    result = []\n",
        "    mapping = {\n",
        "            6: \"00-05 years\",\n",
        "           12: \"06-11 years\",     \n",
        "           19: \"12-18 years\",\n",
        "           31: \"19-30 years\",\n",
        "           41: \"31-40 years\",\n",
        "           51: \"41-50 years\",\n",
        "           61: \"51-60 years\",\n",
        "           71: \"61-70 years\",\n",
        "           81: \"71-80 years\",\n",
        "           91: \"81-90 years\",\n",
        "           124: \"91+ years\",  # (123 is the oldest age known till date)\n",
        "    }\n",
        "            \n",
        "    for each_age in age.values:\n",
        "        if type(each_age) == str:\n",
        "            result.append(category)\n",
        "        else:\n",
        "            category = \"Unknown\"\n",
        "            if each_age != np.nan:\n",
        "                for each_age_range in mapping:\n",
        "                    if  each_age < each_age_range:\n",
        "                        category = mapping[each_age_range]\n",
        "                        break\n",
        "            result.append(category)\n",
        "    return result\n",
        "\n",
        "def is_married_of_single(names, ages, sexes):\n",
        "    result = []\n",
        "    for name, age, sex in zip(names.values, ages.values, sexes.values):\n",
        "        if age < 18:\n",
        "            result.append(\"Not of legal age\")\n",
        "        else:\n",
        "            if ('Mrs.' in name) or ('Mme.' in name):\n",
        "                result.append(\"Married\")\n",
        "            elif ('Miss.' in name) or ('Ms.' in name) or ('Lady' in name) or ('Mlle.' in name):\n",
        "                result.append(\"Single\")\n",
        "            else:\n",
        "                result.append(\"Unknown\")\n",
        "    \n",
        "    return result\n",
        "\n",
        "def apply_travel_companions(siblings_spouse, parent_children):\n",
        "    result = []\n",
        "    for siblings_spouse_count, parent_children_count in zip(siblings_spouse.values, parent_children.values):\n",
        "        if (siblings_spouse_count > 0) and (parent_children_count > 0):\n",
        "            result.append(\"Parent/Children & Sibling/Spouse\")\n",
        "        else:\n",
        "            if (siblings_spouse_count > 0):\n",
        "                result.append(\"Sibling/Spouse\")\n",
        "            elif (parent_children_count > 0):\n",
        "                result.append(\"Parent/Children\")\n",
        "            else:\n",
        "                result.append(\"Alone\")\n",
        "    \n",
        "    return result\n",
        "\n",
        "def apply_fare_ranges(fare):\n",
        "    result = []\n",
        "    mapping = {\n",
        "           11: \"£000 - 010\",\n",
        "           21: \"£011 - 020\",     \n",
        "           41: \"£020 - 040\",\n",
        "           81: \"£041 - 080\",\n",
        "          101: \"£081 - 100\",\n",
        "          201: \"£101 - 200\",\n",
        "          301: \"£201 - 300\",\n",
        "          401: \"£301 - 400\",\n",
        "          515: \"£401 & above\"  # in this case the max fare is around £512\n",
        "    }    \n",
        "    for each_fare in fare.values:\n",
        "        if type(each_fare) == str:\n",
        "            result.append(category)\n",
        "        else:\n",
        "            category = \"Unknown\"\n",
        "            if each_fare != np.nan:\n",
        "                for each_fare_range in mapping:\n",
        "                    if  each_fare < each_fare_range:\n",
        "                        category = mapping[each_fare_range]\n",
        "                        break\n",
        "            result.append(category)\n",
        "\n",
        "    return result\n",
        "\n",
        "def were_in_a_cabin_or_not(row):\n",
        "    if type(row) is str:\n",
        "        return \"In a Cabin\"\n",
        "    return \"Not in a Cabin\""
      ]
    },
    {
      "cell_type": "code",
      "execution_count": 36,
      "metadata": {},
      "outputs": [],
      "source": [
        "def were_in_a_cabin_or_not(row):\n",
        "    if type(row) is str:\n",
        "        return \"In a Cabin\"\n",
        "    return \"Not in a Cabin\"\n",
        "# Cabin: ticket holder has a cabin or not\n",
        "df['In_Cabin'] = df['Cabin'].apply(were_in_a_cabin_or_not)\n",
        "#df['Cabin'] = df['Cabin'].fillna('No cabin')"
      ]
    },
    {
      "cell_type": "code",
      "execution_count": null,
      "metadata": {},
      "outputs": [],
      "source": []
    },
    {
      "cell_type": "code",
      "execution_count": 37,
      "metadata": {
        "id": "Z-fj6qT4o_P5"
      },
      "outputs": [],
      "source": [
        "## Embarked: Place of embarkation\n",
        "df['Embarked'] = expand_embark_acronym(df['Embarked'])\n",
        "\n",
        "# Pclass: Passenger Class\n",
        "df['Pclass'] = expand_pclass_acronym(df['Pclass'])\n",
        "\n",
        "# Age\n",
        "df['Adult_or_minor'] = df['Age'].apply(is_a_minor)\n",
        "females_filter = df['Sex'] == 'female'\n",
        "adult_filter = df['Adult_or_minor'] == '2. Adult'\n",
        "\n",
        "df['Marital_status'] = is_married_of_single(df['Name'], df['Age'], df['Sex']) \n",
        "df['Age_group'] = apply_age_groups(df['Age'])\n",
        "df['Age_ranges'] = apply_age_ranges(df['Age'])\n",
        "\n",
        "# SibSp and Parch: Sibling/Spouse counts, Parent/Children counts\n",
        "df['Travel_companion'] = apply_travel_companions(df['SibSp'], df['Parch'])\n",
        "\n",
        "# Fare: ticket fare across the different classes\n",
        "df['Fare_range'] = apply_fare_ranges(df['Fare'])\n",
        "\n"
      ]
    },
    {
      "cell_type": "code",
      "execution_count": 38,
      "metadata": {
        "colab": {
          "base_uri": "https://localhost:8080/",
          "height": 496
        },
        "id": "Ve2YyoHBtlw2",
        "outputId": "c0a687bc-0e52-4a45-c8b8-72179bee3c28"
      },
      "outputs": [
        {
          "data": {
            "text/html": [
              "<div>\n",
              "<style scoped>\n",
              "    .dataframe tbody tr th:only-of-type {\n",
              "        vertical-align: middle;\n",
              "    }\n",
              "\n",
              "    .dataframe tbody tr th {\n",
              "        vertical-align: top;\n",
              "    }\n",
              "\n",
              "    .dataframe thead th {\n",
              "        text-align: right;\n",
              "    }\n",
              "</style>\n",
              "<table border=\"1\" class=\"dataframe\">\n",
              "  <thead>\n",
              "    <tr style=\"text-align: right;\">\n",
              "      <th></th>\n",
              "      <th>Survived</th>\n",
              "      <th>Pclass</th>\n",
              "      <th>Name</th>\n",
              "      <th>Sex</th>\n",
              "      <th>Age</th>\n",
              "      <th>SibSp</th>\n",
              "      <th>Parch</th>\n",
              "      <th>Ticket</th>\n",
              "      <th>Fare</th>\n",
              "      <th>Cabin</th>\n",
              "      <th>Embarked</th>\n",
              "      <th>In_Cabin</th>\n",
              "      <th>Adult_or_minor</th>\n",
              "      <th>Marital_status</th>\n",
              "      <th>Age_group</th>\n",
              "      <th>Age_ranges</th>\n",
              "      <th>Travel_companion</th>\n",
              "      <th>Fare_range</th>\n",
              "    </tr>\n",
              "  </thead>\n",
              "  <tbody>\n",
              "    <tr>\n",
              "      <th>0</th>\n",
              "      <td>0</td>\n",
              "      <td>3rd class</td>\n",
              "      <td>Braund, Mr. Owen Harris</td>\n",
              "      <td>male</td>\n",
              "      <td>22.0</td>\n",
              "      <td>1</td>\n",
              "      <td>0</td>\n",
              "      <td>A/5 21171</td>\n",
              "      <td>7.2500</td>\n",
              "      <td>NaN</td>\n",
              "      <td>Southampton</td>\n",
              "      <td>Not in a Cabin</td>\n",
              "      <td>Adult</td>\n",
              "      <td>Unknown</td>\n",
              "      <td>Adult</td>\n",
              "      <td>19-30 years</td>\n",
              "      <td>Sibling/Spouse</td>\n",
              "      <td>£000 - 010</td>\n",
              "    </tr>\n",
              "    <tr>\n",
              "      <th>1</th>\n",
              "      <td>1</td>\n",
              "      <td>1st class</td>\n",
              "      <td>Cumings, Mrs. John Bradley (Florence Briggs Th...</td>\n",
              "      <td>female</td>\n",
              "      <td>38.0</td>\n",
              "      <td>1</td>\n",
              "      <td>0</td>\n",
              "      <td>PC 17599</td>\n",
              "      <td>71.2833</td>\n",
              "      <td>C85</td>\n",
              "      <td>Unknown</td>\n",
              "      <td>In a Cabin</td>\n",
              "      <td>Adult</td>\n",
              "      <td>Married</td>\n",
              "      <td>Adult</td>\n",
              "      <td>31-40 years</td>\n",
              "      <td>Sibling/Spouse</td>\n",
              "      <td>£041 - 080</td>\n",
              "    </tr>\n",
              "    <tr>\n",
              "      <th>2</th>\n",
              "      <td>1</td>\n",
              "      <td>3rd class</td>\n",
              "      <td>Heikkinen, Miss. Laina</td>\n",
              "      <td>female</td>\n",
              "      <td>26.0</td>\n",
              "      <td>0</td>\n",
              "      <td>0</td>\n",
              "      <td>STON/O2. 3101282</td>\n",
              "      <td>7.9250</td>\n",
              "      <td>NaN</td>\n",
              "      <td>Southampton</td>\n",
              "      <td>Not in a Cabin</td>\n",
              "      <td>Adult</td>\n",
              "      <td>Single</td>\n",
              "      <td>Adult</td>\n",
              "      <td>19-30 years</td>\n",
              "      <td>Alone</td>\n",
              "      <td>£000 - 010</td>\n",
              "    </tr>\n",
              "    <tr>\n",
              "      <th>3</th>\n",
              "      <td>1</td>\n",
              "      <td>1st class</td>\n",
              "      <td>Futrelle, Mrs. Jacques Heath (Lily May Peel)</td>\n",
              "      <td>female</td>\n",
              "      <td>35.0</td>\n",
              "      <td>1</td>\n",
              "      <td>0</td>\n",
              "      <td>113803</td>\n",
              "      <td>53.1000</td>\n",
              "      <td>C123</td>\n",
              "      <td>Southampton</td>\n",
              "      <td>In a Cabin</td>\n",
              "      <td>Adult</td>\n",
              "      <td>Married</td>\n",
              "      <td>Adult</td>\n",
              "      <td>31-40 years</td>\n",
              "      <td>Sibling/Spouse</td>\n",
              "      <td>£041 - 080</td>\n",
              "    </tr>\n",
              "    <tr>\n",
              "      <th>4</th>\n",
              "      <td>0</td>\n",
              "      <td>3rd class</td>\n",
              "      <td>Allen, Mr. William Henry</td>\n",
              "      <td>male</td>\n",
              "      <td>35.0</td>\n",
              "      <td>0</td>\n",
              "      <td>0</td>\n",
              "      <td>373450</td>\n",
              "      <td>8.0500</td>\n",
              "      <td>NaN</td>\n",
              "      <td>Southampton</td>\n",
              "      <td>Not in a Cabin</td>\n",
              "      <td>Adult</td>\n",
              "      <td>Unknown</td>\n",
              "      <td>Adult</td>\n",
              "      <td>31-40 years</td>\n",
              "      <td>Alone</td>\n",
              "      <td>£000 - 010</td>\n",
              "    </tr>\n",
              "  </tbody>\n",
              "</table>\n",
              "</div>"
            ],
            "text/plain": [
              "   Survived     Pclass                                               Name  \\\n",
              "0         0  3rd class                            Braund, Mr. Owen Harris   \n",
              "1         1  1st class  Cumings, Mrs. John Bradley (Florence Briggs Th...   \n",
              "2         1  3rd class                             Heikkinen, Miss. Laina   \n",
              "3         1  1st class       Futrelle, Mrs. Jacques Heath (Lily May Peel)   \n",
              "4         0  3rd class                           Allen, Mr. William Henry   \n",
              "\n",
              "      Sex   Age  SibSp  Parch            Ticket     Fare Cabin     Embarked  \\\n",
              "0    male  22.0      1      0         A/5 21171   7.2500   NaN  Southampton   \n",
              "1  female  38.0      1      0          PC 17599  71.2833   C85      Unknown   \n",
              "2  female  26.0      0      0  STON/O2. 3101282   7.9250   NaN  Southampton   \n",
              "3  female  35.0      1      0            113803  53.1000  C123  Southampton   \n",
              "4    male  35.0      0      0            373450   8.0500   NaN  Southampton   \n",
              "\n",
              "         In_Cabin Adult_or_minor Marital_status Age_group   Age_ranges  \\\n",
              "0  Not in a Cabin          Adult        Unknown     Adult  19-30 years   \n",
              "1      In a Cabin          Adult        Married     Adult  31-40 years   \n",
              "2  Not in a Cabin          Adult         Single     Adult  19-30 years   \n",
              "3      In a Cabin          Adult        Married     Adult  31-40 years   \n",
              "4  Not in a Cabin          Adult        Unknown     Adult  31-40 years   \n",
              "\n",
              "  Travel_companion  Fare_range  \n",
              "0   Sibling/Spouse  £000 - 010  \n",
              "1   Sibling/Spouse  £041 - 080  \n",
              "2            Alone  £000 - 010  \n",
              "3   Sibling/Spouse  £041 - 080  \n",
              "4            Alone  £000 - 010  "
            ]
          },
          "execution_count": 38,
          "metadata": {},
          "output_type": "execute_result"
        }
      ],
      "source": [
        "df.head()"
      ]
    },
    {
      "cell_type": "code",
      "execution_count": 39,
      "metadata": {
        "colab": {
          "base_uri": "https://localhost:8080/",
          "height": 340
        },
        "id": "074T3GSjwQ-x",
        "outputId": "a9e7dc09-c780-4b62-b522-33b170e1e74c"
      },
      "outputs": [
        {
          "data": {
            "text/plain": [
              "Cabin               77.104377\n",
              "Pclass               0.000000\n",
              "Travel_companion     0.000000\n",
              "Age_ranges           0.000000\n",
              "Age_group            0.000000\n",
              "Marital_status       0.000000\n",
              "Adult_or_minor       0.000000\n",
              "In_Cabin             0.000000\n",
              "Embarked             0.000000\n",
              "Survived             0.000000\n",
              "Fare                 0.000000\n",
              "Ticket               0.000000\n",
              "Parch                0.000000\n",
              "SibSp                0.000000\n",
              "Age                  0.000000\n",
              "Sex                  0.000000\n",
              "Name                 0.000000\n",
              "Fare_range           0.000000\n",
              "dtype: float64"
            ]
          },
          "execution_count": 39,
          "metadata": {},
          "output_type": "execute_result"
        }
      ],
      "source": [
        "missing_values = (df.isnull().sum()/df.shape[0]  *100).sort_values(ascending = False)\n",
        "missing_values"
      ]
    },
    {
      "cell_type": "code",
      "execution_count": 40,
      "metadata": {
        "colab": {
          "base_uri": "https://localhost:8080/",
          "height": 102
        },
        "id": "cRwCDd7e8EXT",
        "outputId": "e7643d2e-1789-4da0-c791-d26d6c184658"
      },
      "outputs": [
        {
          "name": "stdout",
          "output_type": "stream",
          "text": [
            "total_ticket_holders: 891\n",
            "siblings_count: 466\n",
            "parents_children_count: 340\n",
            "total (siblings, parents and children count): 806\n",
            "grand total (ticket holders, siblings, parents, children count): 1697\n"
          ]
        }
      ],
      "source": [
        "def passenger_stats(dataset):\n",
        "    total_ticket_holders = dataset.shape[0]\n",
        "    siblings_count = dataset['SibSp'].sum()\n",
        "    parents_children_count = dataset['Parch'].sum()\n",
        "    \n",
        "    print(\"total_ticket_holders:\", total_ticket_holders)\n",
        "    print(\"siblings_count:\", siblings_count)\n",
        "    print(\"parents_children_count:\", parents_children_count)\n",
        "    print(\"total (siblings, parents and children count):\", siblings_count + parents_children_count)\n",
        "\n",
        "    grand_total = total_ticket_holders + siblings_count + parents_children_count\n",
        "    print(\"grand total (ticket holders, siblings, parents, children count):\", grand_total)\n",
        "    \n",
        "    return grand_total\n",
        "\n",
        "training_dataset_passengers_count = passenger_stats(df)"
      ]
    },
    {
      "cell_type": "markdown",
      "metadata": {
        "id": "I6nTUndxCGs0"
      },
      "source": [
        "Creating the test & train dataset again."
      ]
    },
    {
      "cell_type": "code",
      "execution_count": 41,
      "metadata": {
        "id": "BXE44VKD9AAl"
      },
      "outputs": [],
      "source": [
        "train = df[: 750]\n",
        "test = df[750:]"
      ]
    },
    {
      "cell_type": "code",
      "execution_count": 42,
      "metadata": {
        "colab": {
          "base_uri": "https://localhost:8080/",
          "height": 51
        },
        "id": "kMCVbsQY9X_z",
        "outputId": "9c68c92e-c3a1-4116-d100-672fea54ad3b"
      },
      "outputs": [
        {
          "name": "stdout",
          "output_type": "stream",
          "text": [
            "(750, 18)\n",
            "(141, 18)\n"
          ]
        }
      ],
      "source": [
        "print(train.shape)\n",
        "print(test.shape)"
      ]
    },
    {
      "cell_type": "code",
      "execution_count": 43,
      "metadata": {
        "colab": {
          "base_uri": "https://localhost:8080/",
          "height": 340
        },
        "id": "z2xhCh0s9gai",
        "outputId": "f2ef5ea0-9bad-434a-c456-aa46ecab51e0"
      },
      "outputs": [
        {
          "data": {
            "text/plain": [
              "Cabin               78.723404\n",
              "Pclass               0.000000\n",
              "Travel_companion     0.000000\n",
              "Age_ranges           0.000000\n",
              "Age_group            0.000000\n",
              "Marital_status       0.000000\n",
              "Adult_or_minor       0.000000\n",
              "In_Cabin             0.000000\n",
              "Embarked             0.000000\n",
              "Survived             0.000000\n",
              "Fare                 0.000000\n",
              "Ticket               0.000000\n",
              "Parch                0.000000\n",
              "SibSp                0.000000\n",
              "Age                  0.000000\n",
              "Sex                  0.000000\n",
              "Name                 0.000000\n",
              "Fare_range           0.000000\n",
              "dtype: float64"
            ]
          },
          "execution_count": 43,
          "metadata": {},
          "output_type": "execute_result"
        }
      ],
      "source": [
        "missing_values = (test.isnull().sum()/test.shape[0]  *100).sort_values(ascending = False)\n",
        "missing_values"
      ]
    },
    {
      "cell_type": "markdown",
      "metadata": {
        "id": "psAcdfQOCRQj"
      },
      "source": [
        "Remove the Survived Variable from the test dataset since it's empty ans the test dataset shouldn't contain the Target Variable."
      ]
    },
    {
      "cell_type": "code",
      "execution_count": 44,
      "metadata": {
        "colab": {
          "base_uri": "https://localhost:8080/",
          "height": 102
        },
        "id": "Gd9D7MUS9xVC",
        "outputId": "012ba8c9-e482-40af-d6e0-62d4e397b7db"
      },
      "outputs": [
        {
          "name": "stderr",
          "output_type": "stream",
          "text": [
            "c:\\Users\\Emy\\anaconda3\\lib\\site-packages\\pandas\\core\\frame.py:4906: SettingWithCopyWarning: \n",
            "A value is trying to be set on a copy of a slice from a DataFrame\n",
            "\n",
            "See the caveats in the documentation: https://pandas.pydata.org/pandas-docs/stable/user_guide/indexing.html#returning-a-view-versus-a-copy\n",
            "  return super().drop(\n"
          ]
        }
      ],
      "source": [
        "test.drop('Survived',axis = 1, inplace = True)"
      ]
    },
    {
      "cell_type": "markdown",
      "metadata": {
        "id": "v82NIW3h-jIL"
      },
      "source": [
        "Analysis"
      ]
    },
    {
      "cell_type": "markdown",
      "metadata": {
        "id": "Ma8_Yr96X5_Q"
      },
      "source": [
        "#Distribution of the dataset"
      ]
    },
    {
      "cell_type": "code",
      "execution_count": 45,
      "metadata": {
        "colab": {
          "base_uri": "https://localhost:8080/",
          "height": 335
        },
        "id": "cfjkuCak-iwM",
        "outputId": "eddbb38e-9e87-4d1a-8956-6b94a8d09e90"
      },
      "outputs": [
        {
          "name": "stderr",
          "output_type": "stream",
          "text": [
            "c:\\Users\\Emy\\anaconda3\\lib\\site-packages\\seaborn\\_decorators.py:36: FutureWarning: Pass the following variable as a keyword arg: x. From version 0.12, the only valid positional argument will be `data`, and passing other arguments without an explicit keyword will result in an error or misinterpretation.\n",
            "  warnings.warn(\n",
            "No handles with labels found to put in legend.\n"
          ]
        },
        {
          "data": {
            "text/plain": [
              "[Text(0.5, 0, 'Survival'), [Text(0, 0, 'Died'), Text(1, 0, 'Survived')]]"
            ]
          },
          "execution_count": 45,
          "metadata": {},
          "output_type": "execute_result"
        },
        {
          "data": {
            "image/png": "[encoded data removed]",
            "text/plain": [
              "<Figure size 432x288 with 1 Axes>"
            ]
          },
          "metadata": {
            "needs_background": "light"
          },
          "output_type": "display_data"
        }
      ],
      "source": [
        "g = sns.countplot(train['Survived'])\n",
        "plt.legend(loc='upper right')\n",
        "g.set(xlabel=\"Survival\", xticklabels=[\"Died\", \"Survived\"]) # \"0=Died\", \"1=Survived\""
      ]
    },
    {
      "cell_type": "markdown",
      "metadata": {
        "id": "v5H6QNLeXaIk"
      },
      "source": [
        "#Sex of the passenger associated with Survival "
      ]
    },
    {
      "cell_type": "code",
      "execution_count": 46,
      "metadata": {
        "colab": {
          "base_uri": "https://localhost:8080/",
          "height": 318
        },
        "id": "PSaSZkP9-zGd",
        "outputId": "e176f1ce-9087-41e5-c19d-39007723d93f"
      },
      "outputs": [
        {
          "data": {
            "text/plain": [
              "[Text(0.5, 0, 'Survival'), [Text(0, 0, 'Died'), Text(1, 0, 'Survived')]]"
            ]
          },
          "execution_count": 46,
          "metadata": {},
          "output_type": "execute_result"
        },
        {
          "data": {
            "image/png": "[encoded data removed]",
            "text/plain": [
              "<Figure size 432x288 with 1 Axes>"
            ]
          },
          "metadata": {
            "needs_background": "light"
          },
          "output_type": "display_data"
        }
      ],
      "source": [
        "g = sns.countplot(data=train,x='Survived', hue = train['Sex'])\n",
        "plt.legend(loc='upper right')\n",
        "g.set(xlabel=\"Survival\", xticklabels=[\"Died\", \"Survived\"])"
      ]
    },
    {
      "cell_type": "markdown",
      "metadata": {
        "id": "9OaJvl3aXOVU"
      },
      "source": [
        "#Passenger Class associated with survival"
      ]
    },
    {
      "cell_type": "code",
      "execution_count": 47,
      "metadata": {
        "colab": {
          "base_uri": "https://localhost:8080/"
        },
        "id": "OgPnDKikAH7l",
        "outputId": "907d58e7-9256-42e6-a6c8-37b121c4822a"
      },
      "outputs": [
        {
          "data": {
            "text/plain": [
              "[Text(0.5, 0, 'Survival'), [Text(0, 0, 'Died'), Text(1, 0, 'Survived')]]"
            ]
          },
          "execution_count": 47,
          "metadata": {},
          "output_type": "execute_result"
        },
        {
          "data": {
            "image/png": "[encoded data removed]",
            "text/plain": [
              "<Figure size 432x288 with 1 Axes>"
            ]
          },
          "metadata": {
            "needs_background": "light"
          },
          "output_type": "display_data"
        }
      ],
      "source": [
        "g = sns.countplot(x=train['Survived'], hue = train['Pclass'])\n",
        "plt.legend(loc='upper right')\n",
        "g.set(xlabel=\"Survival\", xticklabels=[\"Died\", \"Survived\"])"
      ]
    },
    {
      "cell_type": "code",
      "execution_count": 79,
      "metadata": {},
      "outputs": [
        {
          "data": {
            "text/plain": [
              "Sex     Pclass     Survived\n",
              "female  1st class  0             3\n",
              "                   1            73\n",
              "        2nd class  0             4\n",
              "                   1            62\n",
              "        3rd class  0            61\n",
              "                   1            63\n",
              "male    1st class  0            68\n",
              "                   1            41\n",
              "        2nd class  0            78\n",
              "                   1            14\n",
              "        3rd class  0           245\n",
              "                   1            38\n",
              "Name: Survived, dtype: int64"
            ]
          },
          "execution_count": 79,
          "metadata": {},
          "output_type": "execute_result"
        }
      ],
      "source": [
        "train.groupby(['Sex','Pclass','Survived'])['Survived'].count()\n"
      ]
    },
    {
      "cell_type": "code",
      "execution_count": 49,
      "metadata": {
        "colab": {
          "base_uri": "https://localhost:8080/"
        },
        "id": "yVB_3ZPOJ3-3",
        "outputId": "0b4a8a57-6db8-4a6a-e594-a48c7993b620"
      },
      "outputs": [
        {
          "data": {
            "text/plain": [
              "<seaborn.axisgrid.FacetGrid at 0x151456037c0>"
            ]
          },
          "execution_count": 49,
          "metadata": {},
          "output_type": "execute_result"
        },
        {
          "data": {
            "image/png": "[encoded data removed]",
            "text/plain": [
              "<Figure size 803.25x360 with 2 Axes>"
            ]
          },
          "metadata": {
            "needs_background": "light"
          },
          "output_type": "display_data"
        }
      ],
      "source": [
        "g = sns.catplot(x=\"Survived\", hue=\"Pclass\", col='Sex', data=train.sort_values(by='Pclass'), kind='count')\n",
        "g.set(xticklabels=['Died', 'Survived'], xlabel=\"Survival\")"
      ]
    },
    {
      "cell_type": "markdown",
      "metadata": {
        "id": "3EH3kqU2U_29"
      },
      "source": [
        "3rd Class male passengers forms the largest group who died. In all the three classes femely passengers survived the most."
      ]
    },
    {
      "cell_type": "markdown",
      "metadata": {
        "id": "PQlSzti1WykA"
      },
      "source": [
        "#Fares Paid associated with Survival"
      ]
    },
    {
      "cell_type": "code",
      "execution_count": 50,
      "metadata": {
        "colab": {
          "base_uri": "https://localhost:8080/",
          "height": 385
        },
        "id": "rd68EhYZLto1",
        "outputId": "e770fd9b-0928-4c36-cd22-32ac65f11e0f"
      },
      "outputs": [
        {
          "data": {
            "text/plain": [
              "<seaborn.axisgrid.FacetGrid at 0x151456036a0>"
            ]
          },
          "execution_count": 50,
          "metadata": {},
          "output_type": "execute_result"
        },
        {
          "data": {
            "image/png": "[encoded data removed]",
            "text/plain": [
              "<Figure size 443.25x360 with 1 Axes>"
            ]
          },
          "metadata": {
            "needs_background": "light"
          },
          "output_type": "display_data"
        }
      ],
      "source": [
        "g = sns.catplot(x=\"Survived\", y=\"Fare\", hue=\"Pclass\", data=train.sort_values(by='Pclass'), kind=\"bar\");\n",
        "g.set(xticklabels=['Died', 'Survived'], xlabel=\"Survival\", title=\"Sum of fares collected across the three Passenger Classes and Survival\")"
      ]
    },
    {
      "cell_type": "code",
      "execution_count": 51,
      "metadata": {
        "colab": {
          "base_uri": "https://localhost:8080/",
          "height": 335
        },
        "id": "r13VCFpbMyMp",
        "outputId": "0caca612-8499-467e-9630-b52fb86fd4d9"
      },
      "outputs": [
        {
          "name": "stderr",
          "output_type": "stream",
          "text": [
            "c:\\Users\\Emy\\anaconda3\\lib\\site-packages\\seaborn\\_decorators.py:36: FutureWarning: Pass the following variable as a keyword arg: x. From version 0.12, the only valid positional argument will be `data`, and passing other arguments without an explicit keyword will result in an error or misinterpretation.\n",
            "  warnings.warn(\n",
            "No handles with labels found to put in legend.\n"
          ]
        },
        {
          "data": {
            "text/plain": [
              "[Text(0.5, 0, 'Passenger Class')]"
            ]
          },
          "execution_count": 51,
          "metadata": {},
          "output_type": "execute_result"
        },
        {
          "data": {
            "image/png": "[encoded data removed]",
            "text/plain": [
              "<Figure size 432x288 with 1 Axes>"
            ]
          },
          "metadata": {
            "needs_background": "light"
          },
          "output_type": "display_data"
        }
      ],
      "source": [
        "g = sns.countplot(train['Pclass'])\n",
        "plt.legend(loc='upper right')\n",
        "g.set(xlabel=\"Passenger Class\")"
      ]
    },
    {
      "cell_type": "markdown",
      "metadata": {
        "id": "1oooCJVzNMvI"
      },
      "source": [
        "Though the 3rd Class passengers forms the largest group but it's the 1st Class passengers who survived the most. This shows Rescue services were provided to wealthy passengers.\n"
      ]
    },
    {
      "cell_type": "markdown",
      "metadata": {
        "id": "tdbC7vHhhrlH"
      },
      "source": [
        "#Passenger fare range with survival"
      ]
    },
    {
      "cell_type": "code",
      "execution_count": 52,
      "metadata": {
        "id": "5gL9-8wGY3Fm"
      },
      "outputs": [],
      "source": [
        "def fare_range_with_survival( passenger_class, title):\n",
        "    dataset = train.copy()\n",
        "    class_filter = dataset['Pclass'] == passenger_class\n",
        "    dataset = dataset[class_filter]\n",
        "\n",
        "    dataset[class_filter]\n",
        "    g = sns.catplot(y=\"Fare_range\", hue=\"Survived\", data=dataset.sort_values(by='Pclass'), kind=\"count\")\n",
        "    g.set(ylabel=\"Fare range\", title=title)\n",
        "\n",
        "    new_labels = ['Died', 'Survived']\n",
        "    for t, l in zip(g._legend.texts, new_labels):\n",
        "      t.set_text(l)\n",
        "    g.fig.set_figwidth(35)  "
      ]
    },
    {
      "cell_type": "code",
      "execution_count": 53,
      "metadata": {
        "colab": {
          "base_uri": "https://localhost:8080/",
          "height": 397
        },
        "id": "Qx6qz81pZB90",
        "outputId": "4009d6d5-70db-47ef-8794-3cc8f027c24b"
      },
      "outputs": [
        {
          "name": "stderr",
          "output_type": "stream",
          "text": [
            "C:\\Users\\Emy\\AppData\\Local\\Temp/ipykernel_2604/3444231547.py:6: UserWarning: Boolean Series key will be reindexed to match DataFrame index.\n",
            "  dataset[class_filter]\n"
          ]
        },
        {
          "data": {
            "image/png": "[encoded data removed]",
            "text/plain": [
              "<Figure size 2520x360 with 1 Axes>"
            ]
          },
          "metadata": {
            "needs_background": "light"
          },
          "output_type": "display_data"
        }
      ],
      "source": [
        "fare_range_with_survival('1st class', \"First class passengers and Fare ranges\")"
      ]
    },
    {
      "cell_type": "code",
      "execution_count": 54,
      "metadata": {
        "colab": {
          "base_uri": "https://localhost:8080/",
          "height": 357
        },
        "id": "sWzhW1c1Z2Bo",
        "outputId": "5ee3ded5-0099-4306-88a5-6c518e96ff52"
      },
      "outputs": [
        {
          "name": "stderr",
          "output_type": "stream",
          "text": [
            "C:\\Users\\Emy\\AppData\\Local\\Temp/ipykernel_2604/3444231547.py:6: UserWarning: Boolean Series key will be reindexed to match DataFrame index.\n",
            "  dataset[class_filter]\n"
          ]
        },
        {
          "data": {
            "image/png": "[encoded data removed]",
            "text/plain": [
              "<Figure size 2520x360 with 1 Axes>"
            ]
          },
          "metadata": {
            "needs_background": "light"
          },
          "output_type": "display_data"
        }
      ],
      "source": [
        "fare_range_with_survival('2nd class', \"Second class passengers and Fare ranges\")"
      ]
    },
    {
      "cell_type": "code",
      "execution_count": 55,
      "metadata": {
        "colab": {
          "base_uri": "https://localhost:8080/",
          "height": 357
        },
        "id": "Xb9CbasSZ7wl",
        "outputId": "98b677fd-814d-4097-90e5-c6ae830c90c6"
      },
      "outputs": [
        {
          "name": "stderr",
          "output_type": "stream",
          "text": [
            "C:\\Users\\Emy\\AppData\\Local\\Temp/ipykernel_2604/3444231547.py:6: UserWarning: Boolean Series key will be reindexed to match DataFrame index.\n",
            "  dataset[class_filter]\n"
          ]
        },
        {
          "data": {
            "image/png": "[encoded data removed]",
            "text/plain": [
              "<Figure size 2520x360 with 1 Axes>"
            ]
          },
          "metadata": {
            "needs_background": "light"
          },
          "output_type": "display_data"
        }
      ],
      "source": [
        "fare_range_with_survival('3rd class', \"Third class passengers and Fare ranges\")"
      ]
    },
    {
      "cell_type": "markdown",
      "metadata": {
        "id": "8KyV8te5jKe2"
      },
      "source": [
        "#Survival with age"
      ]
    },
    {
      "cell_type": "code",
      "execution_count": 56,
      "metadata": {
        "colab": {
          "base_uri": "https://localhost:8080/",
          "height": 314
        },
        "id": "s5BNyzM_jP4o",
        "outputId": "df913c08-36a3-4de2-c5d5-811612f65401"
      },
      "outputs": [
        {
          "data": {
            "image/png": "[encoded data removed]",
            "text/plain": [
              "<Figure size 1440x360 with 2 Axes>"
            ]
          },
          "metadata": {
            "needs_background": "light"
          },
          "output_type": "display_data"
        }
      ],
      "source": [
        "g = sns.catplot(col=\"Sex\", x=\"Survived\", hue=\"Age_group\", data=train.sort_values(by='Age'), kind='count')\n",
        "g.set(xlabel=\"Survival\", xticklabels=['Died', 'Survived'])\n",
        "g.fig.set_figwidth(20)"
      ]
    },
    {
      "cell_type": "code",
      "execution_count": 57,
      "metadata": {
        "colab": {
          "base_uri": "https://localhost:8080/",
          "height": 346
        },
        "id": "LLtLz3EDkQeG",
        "outputId": "d7bd2e6b-989d-453e-8a96-dcaa5d224ae1"
      },
      "outputs": [
        {
          "data": {
            "image/png": "[encoded data removed]",
            "text/plain": [
              "<Figure size 1152x360 with 1 Axes>"
            ]
          },
          "metadata": {
            "needs_background": "light"
          },
          "output_type": "display_data"
        }
      ],
      "source": [
        "g = sns.catplot(y=\"Age\", x=\"Sex\", hue=\"Survived\", data=train)\n",
        "new_labels = ['Died', 'Survived']\n",
        "for t, l in zip(g._legend.texts, new_labels): \n",
        "    t.set_text(l)\n",
        "g.fig.set_figwidth(16)"
      ]
    },
    {
      "cell_type": "markdown",
      "metadata": {
        "id": "KQASHOaTmGoO"
      },
      "source": [
        "#Survival with Travel Companion"
      ]
    },
    {
      "cell_type": "code",
      "execution_count": 58,
      "metadata": {
        "colab": {
          "base_uri": "https://localhost:8080/",
          "height": 294
        },
        "id": "nvHaEFXlmbIp",
        "outputId": "94657c77-0397-4ec1-fa76-0874eeae33b3"
      },
      "outputs": [
        {
          "data": {
            "text/plain": [
              "Text(0, 0.5, 'Sibling/spouse count')"
            ]
          },
          "execution_count": 58,
          "metadata": {},
          "output_type": "execute_result"
        },
        {
          "data": {
            "image/png": "[encoded data removed]",
            "text/plain": [
              "<Figure size 432x288 with 1 Axes>"
            ]
          },
          "metadata": {
            "needs_background": "light"
          },
          "output_type": "display_data"
        }
      ],
      "source": [
        "sibling_spouse_pivot_table = train.pivot_table(values = ['Survived'],index = 'SibSp')\n",
        "sibling_spouse_pivot_table\n",
        "sibling_spouse_pivot_table.plot(kind='barh')\n",
        "plt.ylabel('Sibling/spouse count')"
      ]
    },
    {
      "cell_type": "code",
      "execution_count": 59,
      "metadata": {
        "colab": {
          "base_uri": "https://localhost:8080/",
          "height": 297
        },
        "id": "S4AERSP5oFwu",
        "outputId": "81cff5ff-116b-45da-b5e3-671548dd0def"
      },
      "outputs": [
        {
          "data": {
            "text/plain": [
              "Text(0, 0.5, 'Parent/children count')"
            ]
          },
          "execution_count": 59,
          "metadata": {},
          "output_type": "execute_result"
        },
        {
          "data": {
            "image/png": "[encoded data removed]",
            "text/plain": [
              "<Figure size 432x288 with 1 Axes>"
            ]
          },
          "metadata": {
            "needs_background": "light"
          },
          "output_type": "display_data"
        }
      ],
      "source": [
        "parent_children_pivot_table = train.pivot_table(values = ['Survived'],index = 'SibSp')\n",
        "parent_children_pivot_table\n",
        "sibling_spouse_pivot_table.plot(kind='barh')\n",
        "plt.ylabel('Parent/children count')"
      ]
    },
    {
      "cell_type": "code",
      "execution_count": 60,
      "metadata": {
        "colab": {
          "base_uri": "https://localhost:8080/",
          "height": 294
        },
        "id": "oVPa9w9opU85",
        "outputId": "3f3742c4-29e5-4cee-e14f-8e0465123d31"
      },
      "outputs": [
        {
          "data": {
            "text/plain": [
              "Text(0, 0.5, 'Travel Companion')"
            ]
          },
          "execution_count": 60,
          "metadata": {},
          "output_type": "execute_result"
        },
        {
          "data": {
            "image/png": "[encoded data removed]",
            "text/plain": [
              "<Figure size 432x288 with 1 Axes>"
            ]
          },
          "metadata": {
            "needs_background": "light"
          },
          "output_type": "display_data"
        }
      ],
      "source": [
        "travel_companion_pivot_table = train.pivot_table(values = ['Survived'],index = 'Travel_companion')\n",
        "travel_companion_pivot_table\n",
        "travel_companion_pivot_table.plot(kind='barh')\n",
        "plt.ylabel('Travel Companion')"
      ]
    },
    {
      "cell_type": "markdown",
      "metadata": {
        "id": "OItc5F3SqVsQ"
      },
      "source": []
    },
    {
      "cell_type": "code",
      "execution_count": 61,
      "metadata": {
        "colab": {
          "base_uri": "https://localhost:8080/",
          "height": 294
        },
        "id": "LJcuQx8lqWan",
        "outputId": "ff35344d-bc70-429f-d5c2-e46409482396"
      },
      "outputs": [
        {
          "data": {
            "text/plain": [
              "Text(0, 0.5, 'Adult/ Minor')"
            ]
          },
          "execution_count": 61,
          "metadata": {},
          "output_type": "execute_result"
        },
        {
          "data": {
            "image/png": "[encoded data removed]",
            "text/plain": [
              "<Figure size 432x288 with 1 Axes>"
            ]
          },
          "metadata": {
            "needs_background": "light"
          },
          "output_type": "display_data"
        }
      ],
      "source": [
        "adult_or_minor_pivot_table = train.pivot_table(values=['Survived'], index=['Adult_or_minor', 'Sex'])\n",
        "adult_or_minor_pivot_table\n",
        "adult_or_minor_pivot_table.plot(kind='barh')\n",
        "plt.ylabel('Adult/ Minor')"
      ]
    },
    {
      "cell_type": "markdown",
      "metadata": {
        "id": "EdinshJIwYYS"
      },
      "source": [
        "#Embarked with survival"
      ]
    },
    {
      "cell_type": "code",
      "execution_count": 62,
      "metadata": {
        "colab": {
          "base_uri": "https://localhost:8080/",
          "height": 173
        },
        "id": "yY8eyhrVwec4",
        "outputId": "f0d252de-d838-480b-856d-7d558ed07846"
      },
      "outputs": [
        {
          "data": {
            "text/html": [
              "<div>\n",
              "<style scoped>\n",
              "    .dataframe tbody tr th:only-of-type {\n",
              "        vertical-align: middle;\n",
              "    }\n",
              "\n",
              "    .dataframe tbody tr th {\n",
              "        vertical-align: top;\n",
              "    }\n",
              "\n",
              "    .dataframe thead th {\n",
              "        text-align: right;\n",
              "    }\n",
              "</style>\n",
              "<table border=\"1\" class=\"dataframe\">\n",
              "  <thead>\n",
              "    <tr style=\"text-align: right;\">\n",
              "      <th></th>\n",
              "      <th>Survived</th>\n",
              "    </tr>\n",
              "    <tr>\n",
              "      <th>Embarked</th>\n",
              "      <th></th>\n",
              "    </tr>\n",
              "  </thead>\n",
              "  <tbody>\n",
              "    <tr>\n",
              "      <th>Queenstown</th>\n",
              "      <td>0.432836</td>\n",
              "    </tr>\n",
              "    <tr>\n",
              "      <th>Southampton</th>\n",
              "      <td>0.338889</td>\n",
              "    </tr>\n",
              "    <tr>\n",
              "      <th>Unknown</th>\n",
              "      <td>0.552448</td>\n",
              "    </tr>\n",
              "  </tbody>\n",
              "</table>\n",
              "</div>"
            ],
            "text/plain": [
              "             Survived\n",
              "Embarked             \n",
              "Queenstown   0.432836\n",
              "Southampton  0.338889\n",
              "Unknown      0.552448"
            ]
          },
          "execution_count": 62,
          "metadata": {},
          "output_type": "execute_result"
        }
      ],
      "source": [
        "embarked_pivot_table=train.pivot_table(values=['Survived'], index='Embarked')\n",
        "embarked_pivot_table"
      ]
    },
    {
      "cell_type": "markdown",
      "metadata": {
        "id": "o5TaBJl4w8lb"
      },
      "source": [
        "It looks like, Passengers who boarded the Titanic from Southampton were the least fornunate. We need to analyze more. Let's do it with Passenger Class."
      ]
    },
    {
      "cell_type": "code",
      "execution_count": 63,
      "metadata": {
        "colab": {
          "base_uri": "https://localhost:8080/",
          "height": 359
        },
        "id": "ve3jc1lhxVd6",
        "outputId": "862050f8-97b6-4b89-c552-16650dbea8a1"
      },
      "outputs": [
        {
          "data": {
            "text/html": [
              "<div>\n",
              "<style scoped>\n",
              "    .dataframe tbody tr th:only-of-type {\n",
              "        vertical-align: middle;\n",
              "    }\n",
              "\n",
              "    .dataframe tbody tr th {\n",
              "        vertical-align: top;\n",
              "    }\n",
              "\n",
              "    .dataframe thead th {\n",
              "        text-align: right;\n",
              "    }\n",
              "</style>\n",
              "<table border=\"1\" class=\"dataframe\">\n",
              "  <thead>\n",
              "    <tr style=\"text-align: right;\">\n",
              "      <th></th>\n",
              "      <th></th>\n",
              "      <th>Survived</th>\n",
              "    </tr>\n",
              "    <tr>\n",
              "      <th>Embarked</th>\n",
              "      <th>Pclass</th>\n",
              "      <th></th>\n",
              "    </tr>\n",
              "  </thead>\n",
              "  <tbody>\n",
              "    <tr>\n",
              "      <th rowspan=\"3\" valign=\"top\">Queenstown</th>\n",
              "      <th>1st class</th>\n",
              "      <td>0.500000</td>\n",
              "    </tr>\n",
              "    <tr>\n",
              "      <th>2nd class</th>\n",
              "      <td>0.666667</td>\n",
              "    </tr>\n",
              "    <tr>\n",
              "      <th>3rd class</th>\n",
              "      <td>0.419355</td>\n",
              "    </tr>\n",
              "    <tr>\n",
              "      <th rowspan=\"3\" valign=\"top\">Southampton</th>\n",
              "      <th>1st class</th>\n",
              "      <td>0.556604</td>\n",
              "    </tr>\n",
              "    <tr>\n",
              "      <th>2nd class</th>\n",
              "      <td>0.478873</td>\n",
              "    </tr>\n",
              "    <tr>\n",
              "      <th>3rd class</th>\n",
              "      <td>0.191781</td>\n",
              "    </tr>\n",
              "    <tr>\n",
              "      <th rowspan=\"3\" valign=\"top\">Unknown</th>\n",
              "      <th>1st class</th>\n",
              "      <td>0.701299</td>\n",
              "    </tr>\n",
              "    <tr>\n",
              "      <th>2nd class</th>\n",
              "      <td>0.461538</td>\n",
              "    </tr>\n",
              "    <tr>\n",
              "      <th>3rd class</th>\n",
              "      <td>0.358491</td>\n",
              "    </tr>\n",
              "  </tbody>\n",
              "</table>\n",
              "</div>"
            ],
            "text/plain": [
              "                       Survived\n",
              "Embarked    Pclass             \n",
              "Queenstown  1st class  0.500000\n",
              "            2nd class  0.666667\n",
              "            3rd class  0.419355\n",
              "Southampton 1st class  0.556604\n",
              "            2nd class  0.478873\n",
              "            3rd class  0.191781\n",
              "Unknown     1st class  0.701299\n",
              "            2nd class  0.461538\n",
              "            3rd class  0.358491"
            ]
          },
          "execution_count": 63,
          "metadata": {},
          "output_type": "execute_result"
        }
      ],
      "source": [
        "embarked_passenger_class_pivot_table = train.pivot_table(values=['Survived'], index=['Embarked', 'Pclass'])\n",
        "embarked_passenger_class_pivot_table"
      ]
    },
    {
      "cell_type": "markdown",
      "metadata": {
        "id": "tAgUEIk2yRg1"
      },
      "source": [
        "3rd Class passengers who boarded from Souththampon, were the least fortunate."
      ]
    },
    {
      "cell_type": "code",
      "execution_count": 64,
      "metadata": {
        "colab": {
          "base_uri": "https://localhost:8080/",
          "height": 363
        },
        "id": "Cz14dYteydIZ",
        "outputId": "296c4404-a405-4de1-c0e6-1bbc593fed71"
      },
      "outputs": [
        {
          "data": {
            "text/plain": [
              "Text(0, 0.5, 'Embarkeded/ Passenger Class')"
            ]
          },
          "execution_count": 64,
          "metadata": {},
          "output_type": "execute_result"
        },
        {
          "data": {
            "image/png": "[encoded data removed]",
            "text/plain": [
              "<Figure size 432x288 with 1 Axes>"
            ]
          },
          "metadata": {
            "needs_background": "light"
          },
          "output_type": "display_data"
        }
      ],
      "source": [
        "embarked_passenger_class_pivot_table.plot(kind = 'barh')\n",
        "plt.ylabel('Embarkeded/ Passenger Class')"
      ]
    },
    {
      "cell_type": "markdown",
      "metadata": {
        "id": "JMQDgukcUkVy"
      },
      "source": [
        "#Cabin & Passenger Class with Survival"
      ]
    },
    {
      "cell_type": "code",
      "execution_count": 65,
      "metadata": {
        "colab": {
          "base_uri": "https://localhost:8080/",
          "height": 363
        },
        "id": "CnwEsuVtUtLH",
        "outputId": "fa28d476-2cdd-4b32-adba-56ec10415e81"
      },
      "outputs": [
        {
          "data": {
            "text/plain": [
              "<seaborn.axisgrid.FacetGrid at 0x15145b4ad00>"
            ]
          },
          "execution_count": 65,
          "metadata": {},
          "output_type": "execute_result"
        },
        {
          "data": {
            "image/png": "[encoded data removed]",
            "text/plain": [
              "<Figure size 1152x360 with 2 Axes>"
            ]
          },
          "metadata": {
            "needs_background": "light"
          },
          "output_type": "display_data"
        }
      ],
      "source": [
        "g = sns.catplot(col=\"In_Cabin\", x='Pclass', hue=\"Survived\", kind=\"count\", data=train.sort_values(by='Pclass'));\n",
        "new_labels = ['Died', 'Survived']\n",
        "for t, l in zip(g._legend.texts, new_labels): \n",
        "    t.set_text(l)\n",
        "g.fig.set_figwidth(16)\n",
        "g.set(xlabel=\"Passenger Class\")"
      ]
    },
    {
      "cell_type": "markdown",
      "metadata": {
        "id": "XjY3ygfLU9rO"
      },
      "source": [
        "It looks like being in a cabin, somehow helped with Survival"
      ]
    },
    {
      "cell_type": "markdown",
      "metadata": {
        "id": "zfciaWumZehg"
      },
      "source": [
        "#Tickets"
      ]
    },
    {
      "cell_type": "code",
      "execution_count": 66,
      "metadata": {
        "colab": {
          "base_uri": "https://localhost:8080/",
          "height": 102
        },
        "id": "_01jW_L9ZhfZ",
        "outputId": "4f4cd954-8232-4cc0-926f-2dd0e0377add"
      },
      "outputs": [
        {
          "data": {
            "text/plain": [
              "count         750\n",
              "unique        591\n",
              "top       CA 2144\n",
              "freq            6\n",
              "Name: Ticket, dtype: object"
            ]
          },
          "execution_count": 66,
          "metadata": {},
          "output_type": "execute_result"
        }
      ],
      "source": [
        "train['Ticket'].describe()"
      ]
    },
    {
      "cell_type": "markdown",
      "metadata": {
        "id": "pjwCvQwbZ_wO"
      },
      "source": [
        "There are 681 unique tickets out of 891 passengers. It seems some passengers shared a single ticket."
      ]
    },
    {
      "cell_type": "code",
      "execution_count": 67,
      "metadata": {
        "colab": {
          "base_uri": "https://localhost:8080/",
          "height": 221
        },
        "id": "kDBN3hH9Zwk3",
        "outputId": "ca72c2a9-1b42-4d90-a549-92e0e1fecd79"
      },
      "outputs": [
        {
          "data": {
            "text/plain": [
              "CA 2144              6\n",
              "3101295              5\n",
              "1601                 5\n",
              "347088               5\n",
              "S.O.C. 14879         5\n",
              "                    ..\n",
              "250649               1\n",
              "347071               1\n",
              "2694                 1\n",
              "STON/O 2. 3101275    1\n",
              "335097               1\n",
              "Name: Ticket, Length: 591, dtype: int64"
            ]
          },
          "execution_count": 67,
          "metadata": {},
          "output_type": "execute_result"
        }
      ],
      "source": [
        "train['Ticket'].value_counts()"
      ]
    },
    {
      "cell_type": "markdown",
      "metadata": {
        "id": "kN4RabM4aNCf"
      },
      "source": [
        "The point of sharing a single ticket by many passengers is shown above."
      ]
    }
  ],
  "metadata": {
    "colab": {
      "collapsed_sections": [
        "9OaJvl3aXOVU"
      ],
      "name": "Titanic EDA.ipynb",
      "provenance": []
    },
    "interpreter": {
      "hash": "e498aee29e5313ac19032e6c7bf7ceec7d756b93f9923161fe678d81281426e5"
    },
    "kernelspec": {
      "display_name": "Python 3.9.7 ('base')",
      "language": "python",
      "name": "python3"
    },
    "language_info": {
      "codemirror_mode": {
        "name": "ipython",
        "version": 3
      },
      "file_extension": ".py",
      "mimetype": "text/x-python",
      "name": "python",
      "nbconvert_exporter": "python",
      "pygments_lexer": "ipython3",
      "version": "3.9.7"
    }
  },
  "nbformat": 4,
  "nbformat_minor": 0
}
