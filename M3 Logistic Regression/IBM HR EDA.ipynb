{
 "cells": [
  {
   "cell_type": "markdown",
   "id": "507aa9e4",
   "metadata": {},
   "source": [
    "---\n",
    "# 💼 Attrition in an Organization || Why Workers Quit?\n",
    "\n",
    "---\n",
    "\n",
    "Employees are the backbone of the organization. Organization's performance is heavily based on the quality of the employees. Challenges that an organization has to face due employee attrition are:\n",
    "\n",
    "> 1. Expensive in terms of both money and time to train new employees.\n",
    "> 1. Loss of experienced employees\n",
    "> 1. Impact in productivity\n",
    "> 1. Impact profit\n",
    "\n",
    "Before getting our hands dirty with the data, first step is to frame the business question. Having clarity on below questions is very crucial because the solution that is being developed will make sense only if we have well stated problem.\n",
    "\n",
    "------\n",
    "## 📌 Business questions to brainstorm:\n",
    "---\n",
    "> 1. What factors are contributing more to employee attrition?\n",
    "> 1. What type of measures should the company take in order to retain their employees?\n",
    "> 1. What business value does the model bring?\n",
    "> 1. Will the model save lots of money?\n",
    "> 1. Which business unit faces the attrition problem?"
   ]
  },
  {
   "cell_type": "markdown",
   "id": "88b51c14",
   "metadata": {},
   "source": [
    "\n",
    "### <b>Business Goal</b>\n",
    "In the age of the Great Resignation, employee retention strategies have become a critical area of focus for many organizations. There are often a variety of reasons why employees leave an organization that vary from industry to industry. In this case study, I will examine some of the commonalities between former employees and identify key drivers of attrition to assist the HR Department strengthen their retention strategies and proactively reduce their attrition rates.  \n",
    "\n",
    "### <b>Data Overview</b>\n",
    "In this notebook, I will analyze IBM's on HR Analytics. The data consists of nearly 1,500 current and former employees with information related to their job satisfaction, work life balance, tenure, experience, salary, and demographic data. Below is a brief overview and summary statistics of the data.\n",
    "\n",
    "https://www.kaggle.com/datasets/pavansubhasht/ibm-hr-analytics-attrition-dataset"
   ]
  },
  {
   "cell_type": "markdown",
   "id": "09b492f7",
   "metadata": {
    "execution": {
     "iopub.execute_input": "2022-02-17T21:04:31.755854Z",
     "iopub.status.busy": "2022-02-17T21:04:31.754979Z",
     "iopub.status.idle": "2022-02-17T21:04:31.759594Z",
     "shell.execute_reply": "2022-02-17T21:04:31.758648Z",
     "shell.execute_reply.started": "2022-02-17T21:04:31.755812Z"
    },
    "papermill": {
     "duration": 0.07629,
     "end_time": "2022-02-18T12:22:04.548583",
     "exception": false,
     "start_time": "2022-02-18T12:22:04.472293",
     "status": "completed"
    },
    "tags": []
   },
   "source": [
    "# Importing libraries"
   ]
  },
  {
   "cell_type": "code",
   "execution_count": null,
   "id": "7be592d9",
   "metadata": {
    "_cell_guid": "b1076dfc-b9ad-4769-8c92-a6c4dae69d19",
    "_uuid": "8f2839f25d086af736a60e9eeb907d3b93b6e0e5",
    "execution": {
     "iopub.execute_input": "2022-02-18T12:22:04.704797Z",
     "iopub.status.busy": "2022-02-18T12:22:04.704108Z",
     "iopub.status.idle": "2022-02-18T12:22:06.797412Z",
     "shell.execute_reply": "2022-02-18T12:22:06.796805Z",
     "shell.execute_reply.started": "2022-02-18T12:16:55.950639Z"
    },
    "papermill": {
     "duration": 2.172947,
     "end_time": "2022-02-18T12:22:06.797578",
     "exception": false,
     "start_time": "2022-02-18T12:22:04.624631",
     "status": "completed"
    },
    "tags": []
   },
   "outputs": [],
   "source": [
    "import numpy as np\n",
    "import pandas as pd \n",
    "import seaborn as sns\n",
    "import matplotlib.pyplot as plt\n",
    "import plotly.express as px\n",
    "\n",
    "from sklearn.model_selection import train_test_split, cross_validate\n",
    "from sklearn.preprocessing import LabelEncoder,MinMaxScaler,StandardScaler\n",
    "from sklearn.linear_model import LogisticRegression"
   ]
  },
  {
   "cell_type": "markdown",
   "id": "77f20ccf",
   "metadata": {
    "papermill": {
     "duration": 0.077086,
     "end_time": "2022-02-18T12:22:07.270254",
     "exception": false,
     "start_time": "2022-02-18T12:22:07.193168",
     "status": "completed"
    },
    "tags": []
   },
   "source": [
    "# Load data"
   ]
  },
  {
   "cell_type": "code",
   "execution_count": null,
   "id": "8f30b29c",
   "metadata": {
    "execution": {
     "iopub.execute_input": "2022-02-18T12:22:07.427510Z",
     "iopub.status.busy": "2022-02-18T12:22:07.426801Z",
     "iopub.status.idle": "2022-02-18T12:22:07.487162Z",
     "shell.execute_reply": "2022-02-18T12:22:07.486287Z",
     "shell.execute_reply.started": "2022-02-18T12:16:55.97821Z"
    },
    "papermill": {
     "duration": 0.139532,
     "end_time": "2022-02-18T12:22:07.487323",
     "exception": false,
     "start_time": "2022-02-18T12:22:07.347791",
     "status": "completed"
    },
    "tags": []
   },
   "outputs": [],
   "source": [
    "df = pd.read_csv(\"WA_Fn-UseC_-HR-Employee-Attrition.csv\")\n",
    "df.head()"
   ]
  },
  {
   "cell_type": "markdown",
   "id": "9054908b",
   "metadata": {},
   "source": [
    "---\n",
    "# 📊 Exploratory Data Analysis\n",
    "\n",
    "- Find patterns in data through data visualization. Reveal hidden secrets of the data through graphs, analysis and charts.\n",
    "    - Univariate analysis\n",
    "        > - Continous variables : Histograms, boxplots. This gives us understanding about the central tendency and spread\n",
    "        > - Categorical variable : Bar chart showing frequency in each category\n",
    "    - Bivariate analysis\n",
    "        > - Continous & Continous : Scatter plots to know how continous variables interact with each other\n",
    "        > - Categorical & categorical : Stacked column chart to show how the frequencies are spread between two categorical variables\n",
    "        > - Categorical & Continous : Boxplots charts\n",
    "- Detect outliers"
   ]
  },
  {
   "cell_type": "code",
   "execution_count": null,
   "id": "57d2a87c",
   "metadata": {},
   "outputs": [],
   "source": [
    "df.columns"
   ]
  },
  {
   "cell_type": "markdown",
   "id": "3a369d57",
   "metadata": {
    "papermill": {
     "duration": 0.077292,
     "end_time": "2022-02-18T12:22:07.642239",
     "exception": false,
     "start_time": "2022-02-18T12:22:07.564947",
     "status": "completed"
    },
    "tags": []
   },
   "source": [
    "# First look"
   ]
  },
  {
   "cell_type": "code",
   "execution_count": null,
   "id": "9cfbdf6b",
   "metadata": {
    "execution": {
     "iopub.execute_input": "2022-02-18T12:22:07.806596Z",
     "iopub.status.busy": "2022-02-18T12:22:07.805894Z",
     "iopub.status.idle": "2022-02-18T12:22:07.827204Z",
     "shell.execute_reply": "2022-02-18T12:22:07.826501Z",
     "shell.execute_reply.started": "2022-02-18T12:16:56.034681Z"
    },
    "papermill": {
     "duration": 0.107812,
     "end_time": "2022-02-18T12:22:07.827360",
     "exception": false,
     "start_time": "2022-02-18T12:22:07.719548",
     "status": "completed"
    },
    "tags": []
   },
   "outputs": [],
   "source": [
    "df.info()"
   ]
  },
  {
   "cell_type": "code",
   "execution_count": null,
   "id": "14efccce",
   "metadata": {},
   "outputs": [],
   "source": [
    "df.shape"
   ]
  },
  {
   "cell_type": "code",
   "execution_count": null,
   "id": "e3e6bcaf",
   "metadata": {
    "execution": {
     "iopub.execute_input": "2022-02-18T12:22:07.990303Z",
     "iopub.status.busy": "2022-02-18T12:22:07.989556Z",
     "iopub.status.idle": "2022-02-18T12:22:07.995202Z",
     "shell.execute_reply": "2022-02-18T12:22:07.994473Z",
     "shell.execute_reply.started": "2022-02-18T12:16:56.057219Z"
    },
    "papermill": {
     "duration": 0.089972,
     "end_time": "2022-02-18T12:22:07.995360",
     "exception": false,
     "start_time": "2022-02-18T12:22:07.905388",
     "status": "completed"
    },
    "tags": []
   },
   "outputs": [],
   "source": [
    "df.dtypes"
   ]
  },
  {
   "cell_type": "code",
   "execution_count": null,
   "id": "dd6b974e",
   "metadata": {},
   "outputs": [],
   "source": [
    "for column in df.columns:\n",
    "    print(f\"{column}: Number of unique values {df[column].nunique()}\")\n",
    "    print(\"==========================================================\")"
   ]
  },
  {
   "cell_type": "code",
   "execution_count": null,
   "id": "25072010",
   "metadata": {},
   "outputs": [],
   "source": [
    "for column in df.columns:\n",
    "    if df[column].dtypes != object and df[column].nunique() <= 10:\n",
    "        print(f\"{column} : {df[column].unique()}\")\n",
    "        print(\"====================================\")"
   ]
  },
  {
   "cell_type": "code",
   "execution_count": null,
   "id": "1f7fc043",
   "metadata": {},
   "outputs": [],
   "source": [
    "for column in df.columns:\n",
    "    if df[column].dtypes != object and df[column].nunique() > 10:\n",
    "        print(f\"{column} : Minimum: {df[column].min()}, Maximum: {df[column].max()}\")\n",
    "        print(\"====================================\")"
   ]
  },
  {
   "cell_type": "markdown",
   "id": "68fa4d77",
   "metadata": {},
   "source": [
    "We notice that '`EmployeeCount`', '`Over18`', '`StandardHours`' have only one unique values and '`EmployeeNumber`' has `1470` unique values.\n",
    "This features aren't useful for us, So we are going to drop those columns."
   ]
  },
  {
   "cell_type": "code",
   "execution_count": null,
   "id": "509d7c07",
   "metadata": {},
   "outputs": [],
   "source": [
    "df.drop(['EmployeeCount', 'EmployeeNumber', 'Over18', 'StandardHours'], axis=\"columns\", inplace=True)"
   ]
  },
  {
   "cell_type": "code",
   "execution_count": null,
   "id": "216363cc",
   "metadata": {},
   "outputs": [],
   "source": [
    "for column in df.columns:\n",
    "    if df[column].dtype == object:\n",
    "        print(f\"{column} : {df[column].unique()}\")\n",
    "        print(df[column].value_counts())\n",
    "        print(\"====================================\")"
   ]
  },
  {
   "cell_type": "code",
   "execution_count": null,
   "id": "3ece9d50",
   "metadata": {
    "execution": {
     "iopub.execute_input": "2022-02-18T12:22:08.157376Z",
     "iopub.status.busy": "2022-02-18T12:22:08.156636Z",
     "iopub.status.idle": "2022-02-18T12:22:08.166468Z",
     "shell.execute_reply": "2022-02-18T12:22:08.167428Z",
     "shell.execute_reply.started": "2022-02-18T12:16:56.074051Z"
    },
    "papermill": {
     "duration": 0.093142,
     "end_time": "2022-02-18T12:22:08.167632",
     "exception": false,
     "start_time": "2022-02-18T12:22:08.074490",
     "status": "completed"
    },
    "tags": []
   },
   "outputs": [],
   "source": [
    "df.isna().sum()"
   ]
  },
  {
   "cell_type": "code",
   "execution_count": null,
   "id": "eb59d779",
   "metadata": {
    "execution": {
     "iopub.execute_input": "2022-02-18T12:22:08.330451Z",
     "iopub.status.busy": "2022-02-18T12:22:08.329757Z",
     "iopub.status.idle": "2022-02-18T12:22:08.343529Z",
     "shell.execute_reply": "2022-02-18T12:22:08.344227Z",
     "shell.execute_reply.started": "2022-02-18T12:16:56.092209Z"
    },
    "papermill": {
     "duration": 0.097973,
     "end_time": "2022-02-18T12:22:08.344418",
     "exception": false,
     "start_time": "2022-02-18T12:22:08.246445",
     "status": "completed"
    },
    "tags": []
   },
   "outputs": [],
   "source": [
    "df.duplicated().sum()"
   ]
  },
  {
   "cell_type": "code",
   "execution_count": null,
   "id": "59c0d2db",
   "metadata": {
    "execution": {
     "iopub.execute_input": "2022-02-18T12:22:08.508820Z",
     "iopub.status.busy": "2022-02-18T12:22:08.508158Z",
     "iopub.status.idle": "2022-02-18T12:22:08.512890Z",
     "shell.execute_reply": "2022-02-18T12:22:08.513559Z",
     "shell.execute_reply.started": "2022-02-18T12:16:56.108512Z"
    },
    "papermill": {
     "duration": 0.088312,
     "end_time": "2022-02-18T12:22:08.513738",
     "exception": false,
     "start_time": "2022-02-18T12:22:08.425426",
     "status": "completed"
    },
    "tags": []
   },
   "outputs": [],
   "source": [
    "df.shape"
   ]
  },
  {
   "cell_type": "code",
   "execution_count": null,
   "id": "b5a901f7",
   "metadata": {
    "execution": {
     "iopub.execute_input": "2022-02-18T12:22:08.677913Z",
     "iopub.status.busy": "2022-02-18T12:22:08.677229Z",
     "iopub.status.idle": "2022-02-18T12:22:08.686381Z",
     "shell.execute_reply": "2022-02-18T12:22:08.686954Z",
     "shell.execute_reply.started": "2022-02-18T12:16:56.119512Z"
    },
    "papermill": {
     "duration": 0.092799,
     "end_time": "2022-02-18T12:22:08.687159",
     "exception": false,
     "start_time": "2022-02-18T12:22:08.594360",
     "status": "completed"
    },
    "tags": []
   },
   "outputs": [],
   "source": [
    "numeric_columns = list(df.select_dtypes(include=np.number).columns)\n",
    "categorical_columns = list(df.select_dtypes(include=\"object\").columns)"
   ]
  },
  {
   "cell_type": "code",
   "execution_count": null,
   "id": "11913a0f",
   "metadata": {
    "execution": {
     "iopub.execute_input": "2022-02-18T12:22:08.852086Z",
     "iopub.status.busy": "2022-02-18T12:22:08.851389Z",
     "iopub.status.idle": "2022-02-18T12:22:08.950427Z",
     "shell.execute_reply": "2022-02-18T12:22:08.950993Z",
     "shell.execute_reply.started": "2022-02-18T12:16:56.135711Z"
    },
    "papermill": {
     "duration": 0.182748,
     "end_time": "2022-02-18T12:22:08.951194",
     "exception": false,
     "start_time": "2022-02-18T12:22:08.768446",
     "status": "completed"
    },
    "tags": []
   },
   "outputs": [],
   "source": [
    "df[numeric_columns].describe()"
   ]
  },
  {
   "cell_type": "code",
   "execution_count": null,
   "id": "16cbc9c8",
   "metadata": {
    "execution": {
     "iopub.execute_input": "2022-02-18T12:22:09.115489Z",
     "iopub.status.busy": "2022-02-18T12:22:09.114800Z",
     "iopub.status.idle": "2022-02-18T12:22:09.148342Z",
     "shell.execute_reply": "2022-02-18T12:22:09.148979Z",
     "shell.execute_reply.started": "2022-02-18T12:16:56.230863Z"
    },
    "papermill": {
     "duration": 0.117486,
     "end_time": "2022-02-18T12:22:09.149174",
     "exception": false,
     "start_time": "2022-02-18T12:22:09.031688",
     "status": "completed"
    },
    "tags": []
   },
   "outputs": [],
   "source": [
    "df[categorical_columns].describe()"
   ]
  },
  {
   "cell_type": "code",
   "execution_count": null,
   "id": "9d27492e",
   "metadata": {},
   "outputs": [],
   "source": [
    "df['Attrition'].value_counts()\n",
    "#df['Attrition'].value_counts(normalize=True)*100"
   ]
  },
  {
   "cell_type": "markdown",
   "id": "dc3d54b2",
   "metadata": {},
   "source": [
    "Overall, around 16% of employees left the company."
   ]
  },
  {
   "cell_type": "code",
   "execution_count": null,
   "id": "1d484ae2",
   "metadata": {},
   "outputs": [],
   "source": [
    "plot_df2=df[df.Attrition=='Yes']\n",
    "plot_df2['Department'].value_counts(normalize=True)"
   ]
  },
  {
   "cell_type": "markdown",
   "id": "1085a6e3",
   "metadata": {},
   "source": [
    "Among former employees, over half worked in Research & Development, while only 5% were from Human Resources. "
   ]
  },
  {
   "cell_type": "code",
   "execution_count": null,
   "id": "fe5f2ade",
   "metadata": {},
   "outputs": [],
   "source": [
    "df.groupby(['Gender','Department'])['Attrition'].value_counts()\n",
    "#df.groupby(['Gender','Department'])['Attrition'].value_counts(normalize=True)"
   ]
  },
  {
   "cell_type": "code",
   "execution_count": null,
   "id": "672f7902",
   "metadata": {},
   "outputs": [],
   "source": [
    "df.groupby(['Gender','Department'])['Department'].value_counts()"
   ]
  },
  {
   "cell_type": "markdown",
   "id": "2b4495c0",
   "metadata": {},
   "source": [
    "Women in Human Resources experienced the highest amount of turnover, with nearly 1 out of every 3 women in HR leaving the company. For men, the highest proportion of turnover occurred in the Sales department."
   ]
  },
  {
   "cell_type": "code",
   "execution_count": null,
   "id": "76b240f6",
   "metadata": {},
   "outputs": [],
   "source": [
    "df.groupby(['WorkLifeBalance','Gender'])['Attrition'].value_counts(normalize=True)*100"
   ]
  },
  {
   "cell_type": "markdown",
   "id": "4f8b9117",
   "metadata": {},
   "source": [
    "Among women with the highest rated work life balance, 1 out of 4 left the company, the highest proportion among the ratings for women. For men, the highest proportion occurred in those with the lowest work life balance. "
   ]
  },
  {
   "cell_type": "code",
   "execution_count": null,
   "id": "be7a020f",
   "metadata": {},
   "outputs": [],
   "source": [
    "df.groupby(['Attrition'])['JobSatisfaction'].value_counts(normalize=True)"
   ]
  },
  {
   "cell_type": "code",
   "execution_count": null,
   "id": "b52bba17",
   "metadata": {},
   "outputs": [],
   "source": [
    "df.groupby(['Attrition','Gender'])['JobSatisfaction'].value_counts(normalize=True)"
   ]
  },
  {
   "cell_type": "code",
   "execution_count": null,
   "id": "f5383eca",
   "metadata": {},
   "outputs": [],
   "source": [
    "df.groupby(['Department', 'Gender'])['MonthlyIncome'].mean()"
   ]
  },
  {
   "cell_type": "code",
   "execution_count": null,
   "id": "c97c3d8e",
   "metadata": {},
   "outputs": [],
   "source": [
    "df.groupby(['Department', 'Attrition', 'Gender'])['MonthlyIncome'].median()\n"
   ]
  },
  {
   "cell_type": "code",
   "execution_count": null,
   "id": "bf7e308b",
   "metadata": {},
   "outputs": [],
   "source": [
    "df.groupby('JobRole')['MonthlyIncome'].mean().sort_values()"
   ]
  },
  {
   "cell_type": "code",
   "execution_count": null,
   "id": "aa6ab741",
   "metadata": {},
   "outputs": [],
   "source": [
    "df['JobLevel']=pd.Categorical(df['JobLevel']).rename_categories(  ['Entry level', 'Mid level', 'Senior', 'Lead', 'Executive'])"
   ]
  },
  {
   "cell_type": "code",
   "execution_count": null,
   "id": "b7c46c13",
   "metadata": {},
   "outputs": [],
   "source": [
    "df['JobLevel']"
   ]
  },
  {
   "cell_type": "markdown",
   "id": "a368cf4b",
   "metadata": {},
   "source": [
    "Based on the scatterplot above, monthly income is positively correlated with total number of years worked and there is strong association between an employee's earnings and their job level."
   ]
  },
  {
   "cell_type": "markdown",
   "id": "d5b9863e",
   "metadata": {},
   "source": [
    "---\n",
    "## 📉 Data Visualisation"
   ]
  },
  {
   "cell_type": "code",
   "execution_count": null,
   "id": "ed03a550",
   "metadata": {},
   "outputs": [],
   "source": [
    "df.columns"
   ]
  },
  {
   "cell_type": "code",
   "execution_count": null,
   "id": "e6cc18e8",
   "metadata": {},
   "outputs": [],
   "source": [
    "def plot_histogram(df,col):\n",
    "    sns.countplot(data=df, x=col, hue='Attrition')\n",
    "    plt.show()\n",
    "\n",
    "columns=['Education','TrainingTimesLastYear','StockOptionLevel','PercentSalaryHike','NumCompaniesWorked','JobSatisfaction','JobLevel',\n",
    "'JobInvolvement','EnvironmentSatisfaction','RelationshipSatisfaction','DistanceFromHome','Age','MonthlyIncome','YearsAtCompany','TotalWorkingYears']\n",
    "\n",
    "\n",
    "for col in columns:\n",
    "    plot_histogram(df, col)"
   ]
  },
  {
   "cell_type": "code",
   "execution_count": null,
   "id": "9c73594d",
   "metadata": {},
   "outputs": [],
   "source": [
    "def plot_histogram(df,col,bycol):\n",
    "    sns.displot(df, x=col)\n",
    "    plt.show()\n",
    "\n",
    "columns=['Education','TrainingTimesLastYear','StockOptionLevel','PercentSalaryHike','NumCompaniesWorked','JobSatisfaction','JobLevel',\n",
    "'JobInvolvement','EnvironmentSatisfaction','RelationshipSatisfaction','DistanceFromHome','Age','MonthlyIncome','YearsAtCompany','TotalWorkingYears']\n",
    "\n",
    "\n",
    "for col in columns:\n",
    "    plot_histogram(df, col, \"Attrition\")"
   ]
  },
  {
   "cell_type": "code",
   "execution_count": null,
   "id": "3ca14f50",
   "metadata": {},
   "outputs": [],
   "source": [
    "def plot_histogram(df,col,bycol):\n",
    "    sns.displot(df, x=col, hue=\"Attrition\",kind=\"kde\")\n",
    "    plt.show()\n",
    "\n",
    "columns=['Education','TrainingTimesLastYear','StockOptionLevel','PercentSalaryHike','NumCompaniesWorked','JobSatisfaction','JobLevel',\n",
    "'JobInvolvement','EnvironmentSatisfaction','RelationshipSatisfaction','DistanceFromHome','Age','MonthlyIncome','YearsAtCompany','TotalWorkingYears']\n",
    "\n",
    "for col in columns:\n",
    "    plot_histogram(df, col, \"Attrition\")"
   ]
  },
  {
   "cell_type": "markdown",
   "id": "4f6fa298",
   "metadata": {},
   "source": [
    "## 📌 Note\n",
    "\n",
    "It seems that `EnvironmentSatisfaction`, `JobSatisfaction`, `PerformanceRating`, and `RelationshipSatisfaction` features don't have big impact on the detrmination of `Attrition` of employees."
   ]
  },
  {
   "cell_type": "markdown",
   "id": "1d9324a4",
   "metadata": {},
   "source": [
    "***\n",
    "\n",
    "## 📝 **Conclusions:**\n",
    "\n",
    "***\n",
    "- The workers with low `JobLevel`, `MonthlyIncome`, `YearAtCompany`, and `TotalWorkingYears` are more likely to quit there jobs.\n",
    "- `BusinessTravel` : The workers who travel alot are more likely to quit then other employees.\n",
    "\n",
    "- `Department` : The worker in `Research & Development` are more likely to stay then the workers on other departement.\n",
    "\n",
    "- `EducationField` : The workers with `Human Resources` and `Technical Degree` are more likely to quit then employees from other fields of educations.\n",
    "\n",
    "- `Gender` : The `Male` are more likely to quit.\n",
    "\n",
    "- `JobRole` : The workers in `Laboratory Technician`, `Sales Representative`, and `Human Resources` are more likely to quit the workers in other positions.\n",
    "\n",
    "- `MaritalStatus` : The workers who have `Single` marital status are more likely to quit the `Married`, and `Divorced`.\n",
    "\n",
    "- `OverTime` : The workers who work more hours are likely to quit then others.\n",
    "\n",
    "*** "
   ]
  },
  {
   "cell_type": "code",
   "execution_count": null,
   "id": "6bc42ce9",
   "metadata": {},
   "outputs": [],
   "source": [
    "df.columns"
   ]
  },
  {
   "cell_type": "code",
   "execution_count": null,
   "id": "17df5e7b",
   "metadata": {},
   "outputs": [],
   "source": [
    "plt.figure(figsize=(30, 30))\n",
    "sns.heatmap(df.corr(), annot=True, cmap=\"RdYlGn\", annot_kws={\"size\":15})"
   ]
  },
  {
   "cell_type": "markdown",
   "id": "28f17c3c",
   "metadata": {},
   "source": [
    "## 📝 **Analysis of correlation results (sample analysis):**\n",
    "- Monthly income is highly correlated with Job level.\n",
    "- Job level is highly correlated with total working hours.\n",
    "- Monthly income is highly correlated with total working hours.\n",
    "- Age is also positively correlated with the Total working hours.\n",
    "- Marital status and stock option level are negatively correlated"
   ]
  },
  {
   "cell_type": "markdown",
   "id": "712d0535",
   "metadata": {},
   "source": [
    "Confirming our findings in the scatterplot above, `MonthlyIncome` has a strong positive correlation to `TotalWorkingYears` of 0.77. Additionally, `YearsAtCompany` has a strong positive association with `YearsWithCurrManager` (correlation = 0.77), as well as with `YearsInCurrentRole` (correlation = 0.76). There are no variables with a correlation above 0.8, indicating a potential collinearity issue."
   ]
  },
  {
   "cell_type": "code",
   "execution_count": null,
   "id": "f4d95153",
   "metadata": {},
   "outputs": [],
   "source": [
    "df.skew().sort_values(ascending=False)"
   ]
  },
  {
   "cell_type": "code",
   "execution_count": null,
   "id": "5a6c15ec",
   "metadata": {
    "execution": {
     "iopub.execute_input": "2022-02-18T12:22:09.485461Z",
     "iopub.status.busy": "2022-02-18T12:22:09.480245Z",
     "iopub.status.idle": "2022-02-18T12:22:11.228772Z",
     "shell.execute_reply": "2022-02-18T12:22:11.229346Z",
     "shell.execute_reply.started": "2022-02-18T12:16:56.27466Z"
    },
    "papermill": {
     "duration": 1.834395,
     "end_time": "2022-02-18T12:22:11.229538",
     "exception": false,
     "start_time": "2022-02-18T12:22:09.395143",
     "status": "completed"
    },
    "tags": []
   },
   "outputs": [],
   "source": [
    "for i in range(len(categorical_columns)):\n",
    "    sns.countplot(data = df, x = categorical_columns[i], palette=\"rocket\")\n",
    "    plt.show()\n"
   ]
  },
  {
   "cell_type": "markdown",
   "id": "af7b476e",
   "metadata": {
    "papermill": {
     "duration": 0.084514,
     "end_time": "2022-02-18T12:22:11.403557",
     "exception": false,
     "start_time": "2022-02-18T12:22:11.319043",
     "status": "completed"
    },
    "tags": []
   },
   "source": [
    "* ``Over18`` only have one Value (No Wonder :) )\n",
    "* `Attrition` is heavily unbalanced\n",
    "* Most of the employees travel rarely\n",
    "* Most of the employees work overtimes\n",
    "* There are more females than males"
   ]
  },
  {
   "cell_type": "markdown",
   "id": "490573dc",
   "metadata": {
    "papermill": {
     "duration": 0.096747,
     "end_time": "2022-02-18T12:22:19.906628",
     "exception": false,
     "start_time": "2022-02-18T12:22:19.809881",
     "status": "completed"
    },
    "tags": []
   },
   "source": [
    "* There are employees which work for over 10 years without a promotion which is quite strange\n",
    "* The performance rating of the employees isn't the best with ~ 3.0 as a median"
   ]
  },
  {
   "cell_type": "markdown",
   "id": "85eb1f2f",
   "metadata": {
    "papermill": {
     "duration": 0.090284,
     "end_time": "2022-02-18T12:22:20.105867",
     "exception": false,
     "start_time": "2022-02-18T12:22:20.015583",
     "status": "completed"
    },
    "tags": []
   },
   "source": [
    "# Bivariate plots"
   ]
  },
  {
   "cell_type": "markdown",
   "id": "5e18ab64",
   "metadata": {
    "papermill": {
     "duration": 0.093292,
     "end_time": "2022-02-18T12:22:21.525684",
     "exception": false,
     "start_time": "2022-02-18T12:22:21.432392",
     "status": "completed"
    },
    "tags": []
   },
   "source": [
    "There are some obvious correlations among the numerical columns:\n",
    "\n",
    "* High correlation between Age and JobLevel, MonthlyIncome and TotalWorkingYears\n",
    "* High correlation between JobLevel and MonthlyIncome\n",
    "* High correlation between TotalWorkingYears and YearsSinceLastPromotion -> The longer you are working, the higher is the probability that you reached your \"limit\" in terms of promotion"
   ]
  },
  {
   "cell_type": "markdown",
   "id": "80d8f3c6",
   "metadata": {
    "papermill": {
     "duration": 0.097079,
     "end_time": "2022-02-18T12:22:24.254213",
     "exception": false,
     "start_time": "2022-02-18T12:22:24.157134",
     "status": "completed"
    },
    "tags": []
   },
   "source": [
    "* Nearly half of the Sales Representatives went from the company away\n",
    "* Most of the people were traveling rarely and Sales is the department with the highest attrition (but also with the most employees overall)"
   ]
  },
  {
   "cell_type": "code",
   "execution_count": null,
   "id": "afcc91c1",
   "metadata": {
    "execution": {
     "iopub.execute_input": "2022-02-18T12:22:24.454314Z",
     "iopub.status.busy": "2022-02-18T12:22:24.453522Z",
     "iopub.status.idle": "2022-02-18T12:22:24.462404Z",
     "shell.execute_reply": "2022-02-18T12:22:24.462951Z",
     "shell.execute_reply.started": "2022-02-18T12:17:07.998796Z"
    },
    "papermill": {
     "duration": 0.111107,
     "end_time": "2022-02-18T12:22:24.463142",
     "exception": false,
     "start_time": "2022-02-18T12:22:24.352035",
     "status": "completed"
    },
    "tags": []
   },
   "outputs": [],
   "source": [
    "df.groupby(\"Gender\")[\"YearsSinceLastPromotion\"].mean()"
   ]
  },
  {
   "cell_type": "code",
   "execution_count": null,
   "id": "4c5efb68",
   "metadata": {
    "execution": {
     "iopub.execute_input": "2022-02-18T12:22:24.668392Z",
     "iopub.status.busy": "2022-02-18T12:22:24.667661Z",
     "iopub.status.idle": "2022-02-18T12:22:24.672065Z",
     "shell.execute_reply": "2022-02-18T12:22:24.672641Z",
     "shell.execute_reply.started": "2022-02-18T12:17:08.010316Z"
    },
    "papermill": {
     "duration": 0.111687,
     "end_time": "2022-02-18T12:22:24.672873",
     "exception": false,
     "start_time": "2022-02-18T12:22:24.561186",
     "status": "completed"
    },
    "tags": []
   },
   "outputs": [],
   "source": [
    "df.groupby(\"Gender\")[\"PerformanceRating\"].mean()"
   ]
  },
  {
   "cell_type": "markdown",
   "id": "0e013cbd",
   "metadata": {
    "papermill": {
     "duration": 0.098303,
     "end_time": "2022-02-18T12:22:24.869102",
     "exception": false,
     "start_time": "2022-02-18T12:22:24.770799",
     "status": "completed"
    },
    "tags": []
   },
   "source": [
    "Females are waiting a bit longer for a promotion than men, although having a better performance rating"
   ]
  },
  {
   "cell_type": "markdown",
   "id": "d6a55d08",
   "metadata": {
    "papermill": {
     "duration": 0.097607,
     "end_time": "2022-02-18T12:22:25.065412",
     "exception": false,
     "start_time": "2022-02-18T12:22:24.967805",
     "status": "completed"
    },
    "tags": []
   },
   "source": [
    "# Data Preprocessing"
   ]
  },
  {
   "cell_type": "markdown",
   "id": "3231823a",
   "metadata": {},
   "source": [
    "---\n",
    "# 🔨 Data Processing"
   ]
  },
  {
   "cell_type": "markdown",
   "id": "31cece66",
   "metadata": {
    "papermill": {
     "duration": 0.101119,
     "end_time": "2022-02-18T12:22:25.265265",
     "exception": false,
     "start_time": "2022-02-18T12:22:25.164146",
     "status": "completed"
    },
    "tags": []
   },
   "source": [
    "## Drop unnecessary columns"
   ]
  },
  {
   "cell_type": "markdown",
   "id": "1aae23f5",
   "metadata": {
    "papermill": {
     "duration": 0.097898,
     "end_time": "2022-02-18T12:22:25.461768",
     "exception": false,
     "start_time": "2022-02-18T12:22:25.363870",
     "status": "completed"
    },
    "tags": []
   },
   "source": [
    "Those columns have only one value"
   ]
  },
  {
   "cell_type": "code",
   "execution_count": null,
   "id": "dd9f7520",
   "metadata": {
    "execution": {
     "iopub.execute_input": "2022-02-18T12:22:25.865695Z",
     "iopub.status.busy": "2022-02-18T12:22:25.863389Z",
     "iopub.status.idle": "2022-02-18T12:22:25.869261Z",
     "shell.execute_reply": "2022-02-18T12:22:25.869860Z",
     "shell.execute_reply.started": "2022-02-18T12:17:08.038565Z"
    },
    "papermill": {
     "duration": 0.107101,
     "end_time": "2022-02-18T12:22:25.870065",
     "exception": false,
     "start_time": "2022-02-18T12:22:25.762964",
     "status": "completed"
    },
    "tags": []
   },
   "outputs": [],
   "source": [
    "X = df.loc[:, df.columns != \"Attrition\"].copy()\n",
    "#X=df.loc[:, df.columns != 'Attrition']\n",
    "y = df.loc[:, \"Attrition\"].copy()"
   ]
  },
  {
   "cell_type": "markdown",
   "id": "f2e802eb",
   "metadata": {
    "execution": {
     "iopub.execute_input": "2022-02-18T09:51:40.782285Z",
     "iopub.status.busy": "2022-02-18T09:51:40.781171Z",
     "iopub.status.idle": "2022-02-18T09:51:40.785971Z",
     "shell.execute_reply": "2022-02-18T09:51:40.785268Z",
     "shell.execute_reply.started": "2022-02-18T09:51:40.782212Z"
    },
    "papermill": {
     "duration": 0.095989,
     "end_time": "2022-02-18T12:22:26.064466",
     "exception": false,
     "start_time": "2022-02-18T12:22:25.968477",
     "status": "completed"
    },
    "tags": []
   },
   "source": [
    "## Label Encoding for Target `Attrition`"
   ]
  },
  {
   "cell_type": "code",
   "execution_count": null,
   "id": "8dbd9c0f",
   "metadata": {
    "execution": {
     "iopub.execute_input": "2022-02-18T12:22:26.270744Z",
     "iopub.status.busy": "2022-02-18T12:22:26.269623Z",
     "iopub.status.idle": "2022-02-18T12:22:26.272570Z",
     "shell.execute_reply": "2022-02-18T12:22:26.273230Z",
     "shell.execute_reply.started": "2022-02-18T12:17:08.053332Z"
    },
    "papermill": {
     "duration": 0.112669,
     "end_time": "2022-02-18T12:22:26.273423",
     "exception": false,
     "start_time": "2022-02-18T12:22:26.160754",
     "status": "completed"
    },
    "tags": []
   },
   "outputs": [],
   "source": [
    "label_encoder = LabelEncoder()\n",
    "y = label_encoder.fit_transform(y)\n",
    "y = pd.DataFrame(y, index=df.index, columns=[\"Attrition\"])"
   ]
  },
  {
   "cell_type": "code",
   "execution_count": null,
   "id": "8baae070",
   "metadata": {},
   "outputs": [],
   "source": [
    "y"
   ]
  },
  {
   "cell_type": "code",
   "execution_count": null,
   "id": "76739185",
   "metadata": {},
   "outputs": [],
   "source": [
    "#y=df['Attrition'].apply(lambda x: 1 if x=='Yes' else 0)"
   ]
  },
  {
   "cell_type": "code",
   "execution_count": null,
   "id": "83ea640b",
   "metadata": {
    "execution": {
     "iopub.execute_input": "2022-02-18T12:22:26.905860Z",
     "iopub.status.busy": "2022-02-18T12:22:26.904748Z",
     "iopub.status.idle": "2022-02-18T12:22:26.910872Z",
     "shell.execute_reply": "2022-02-18T12:22:26.911507Z",
     "shell.execute_reply.started": "2022-02-18T12:17:08.098232Z"
    },
    "papermill": {
     "duration": 0.108248,
     "end_time": "2022-02-18T12:22:26.911708",
     "exception": false,
     "start_time": "2022-02-18T12:22:26.803460",
     "status": "completed"
    },
    "tags": []
   },
   "outputs": [],
   "source": [
    "categorical_cols_features = list(X.select_dtypes(include=\"object\").columns)"
   ]
  },
  {
   "cell_type": "code",
   "execution_count": null,
   "id": "953a52b5",
   "metadata": {},
   "outputs": [],
   "source": [
    "categorical_cols_features"
   ]
  },
  {
   "cell_type": "markdown",
   "id": "120dfcb4",
   "metadata": {},
   "source": [
    "## <b><span style='color:#68A19B'>I.</span>  Encode Categorical Columns</b>"
   ]
  },
  {
   "cell_type": "code",
   "execution_count": null,
   "id": "2395ffce",
   "metadata": {},
   "outputs": [],
   "source": [
    "\n",
    "X=pd.get_dummies(X, drop_first=True)\n",
    "#X.columns=X.columns.str.replace(' ', '')\n",
    "X.head()\n"
   ]
  },
  {
   "cell_type": "markdown",
   "id": "3c162062",
   "metadata": {},
   "source": [
    "## <b><span style='color:#68A19B'>II.</span> Create Training and Test Sets</b>"
   ]
  },
  {
   "cell_type": "code",
   "execution_count": null,
   "id": "c033efa3",
   "metadata": {},
   "outputs": [],
   "source": [
    "X_train, X_test, y_train, y_test = train_test_split(X, y, random_state = 42)"
   ]
  },
  {
   "cell_type": "code",
   "execution_count": null,
   "id": "e234a9fd",
   "metadata": {},
   "outputs": [],
   "source": [
    "print(\"Train Shape:\", X_train.shape, y_train.shape)\n",
    "print(\"Test set Shape:\", X_test.shape, y_test.shape)"
   ]
  },
  {
   "cell_type": "code",
   "execution_count": null,
   "id": "c6ea274d",
   "metadata": {},
   "outputs": [],
   "source": [
    "y_train.value_counts()"
   ]
  },
  {
   "cell_type": "code",
   "execution_count": null,
   "id": "7499f31d",
   "metadata": {},
   "outputs": [],
   "source": [
    "y_test.value_counts()"
   ]
  },
  {
   "cell_type": "markdown",
   "id": "5b9c2308",
   "metadata": {},
   "source": [
    "## <b><span style='color:#68A19B'>III.</span> Scale Features</b>"
   ]
  },
  {
   "cell_type": "code",
   "execution_count": null,
   "id": "61589aa6",
   "metadata": {},
   "outputs": [],
   "source": [
    "scaler = StandardScaler()\n",
    "X_train = pd.DataFrame(scaler.fit_transform(X_train), columns=X_train.columns)\n",
    "X_test=pd.DataFrame(scaler.transform(X_test), columns=X_test.columns)\n",
    "X_train.head()"
   ]
  },
  {
   "cell_type": "code",
   "execution_count": null,
   "id": "daa851fe",
   "metadata": {},
   "outputs": [],
   "source": []
  },
  {
   "cell_type": "code",
   "execution_count": null,
   "id": "52771a67",
   "metadata": {},
   "outputs": [],
   "source": []
  },
  {
   "cell_type": "markdown",
   "id": "5338afc7",
   "metadata": {},
   "source": [
    "# 🤖 Applying machine learning algorithms"
   ]
  },
  {
   "cell_type": "markdown",
   "id": "f1492af5",
   "metadata": {},
   "source": [
    "## ✔️ Logistic Regression"
   ]
  },
  {
   "cell_type": "code",
   "execution_count": 247,
   "id": "3d247f31",
   "metadata": {},
   "outputs": [
    {
     "name": "stderr",
     "output_type": "stream",
     "text": [
      "c:\\Users\\Emy\\anaconda3\\lib\\site-packages\\sklearn\\utils\\validation.py:63: DataConversionWarning:\n",
      "\n",
      "A column-vector y was passed when a 1d array was expected. Please change the shape of y to (n_samples, ), for example using ravel().\n",
      "\n",
      "c:\\Users\\Emy\\anaconda3\\lib\\site-packages\\sklearn\\linear_model\\_logistic.py:763: ConvergenceWarning:\n",
      "\n",
      "lbfgs failed to converge (status=1):\n",
      "STOP: TOTAL NO. of ITERATIONS REACHED LIMIT.\n",
      "\n",
      "Increase the number of iterations (max_iter) or scale the data as shown in:\n",
      "    https://scikit-learn.org/stable/modules/preprocessing.html\n",
      "Please also refer to the documentation for alternative solver options:\n",
      "    https://scikit-learn.org/stable/modules/linear_model.html#logistic-regression\n",
      "\n"
     ]
    }
   ],
   "source": [
    "from sklearn.linear_model import LogisticRegression\n",
    "\n",
    "lr_clf = LogisticRegression()\n",
    "lr_clf.fit(X_train, y_train)\n",
    "y_pred=lr_clf.predict(X_test)"
   ]
  },
  {
   "cell_type": "code",
   "execution_count": 248,
   "id": "e11fbd21",
   "metadata": {},
   "outputs": [
    {
     "data": {
      "text/plain": [
       "array(['No', 'No', 'No', 'No', 'No', 'No', 'No', 'No', 'No', 'No', 'No',\n",
       "       'No', 'No', 'No', 'No', 'No', 'No', 'No', 'No', 'No', 'No', 'No',\n",
       "       'No', 'No', 'No', 'No', 'No', 'No', 'No', 'No', 'No', 'No', 'No',\n",
       "       'No', 'No', 'No', 'No', 'No', 'No', 'No', 'No', 'No', 'No', 'No',\n",
       "       'No', 'No', 'No', 'No', 'No', 'No', 'No', 'No', 'No', 'No', 'No',\n",
       "       'No', 'No', 'No', 'No', 'No', 'No', 'No', 'No', 'No', 'No', 'No',\n",
       "       'No', 'No', 'No', 'No', 'No', 'No', 'No', 'No', 'No', 'No', 'No',\n",
       "       'No', 'No', 'No', 'No', 'No', 'No', 'No', 'No', 'No', 'No', 'No',\n",
       "       'No', 'No', 'No', 'No', 'No', 'No', 'No', 'No', 'No', 'No', 'No',\n",
       "       'No', 'No', 'No', 'No', 'No', 'No', 'No', 'No', 'No', 'No', 'No',\n",
       "       'No', 'No', 'No', 'No', 'No', 'No', 'No', 'No', 'No', 'No', 'No',\n",
       "       'No', 'No', 'No', 'No', 'No', 'No', 'No', 'No', 'No', 'No', 'No',\n",
       "       'No', 'No', 'No', 'No', 'No', 'No', 'No', 'No', 'No', 'No', 'No',\n",
       "       'No', 'No', 'No', 'No', 'No', 'No', 'No', 'No', 'No', 'No', 'No',\n",
       "       'No', 'No', 'No', 'No', 'No', 'No', 'No', 'No', 'No', 'No', 'No',\n",
       "       'No', 'No', 'No', 'No', 'No', 'No', 'No', 'No', 'No', 'No', 'No',\n",
       "       'No', 'No', 'No', 'No', 'No', 'No', 'No', 'No', 'No', 'No', 'No',\n",
       "       'No', 'No', 'No', 'No', 'No', 'No', 'No', 'No', 'No', 'No', 'No',\n",
       "       'No', 'No', 'No', 'No', 'No', 'No', 'No', 'No', 'No', 'No', 'No',\n",
       "       'No', 'No', 'No', 'No', 'No', 'No', 'No', 'No', 'No', 'No', 'No',\n",
       "       'No', 'No', 'No', 'Yes', 'No', 'No', 'No', 'No', 'No', 'No', 'No',\n",
       "       'No', 'No', 'No', 'No', 'No', 'No', 'No', 'No', 'No', 'No', 'No',\n",
       "       'No', 'No', 'No', 'No', 'No', 'No', 'No', 'No', 'No', 'No', 'No',\n",
       "       'No', 'No', 'No', 'No', 'No', 'No', 'No', 'No', 'No', 'No', 'No',\n",
       "       'No', 'No', 'No', 'No', 'No', 'No', 'No', 'No', 'No', 'No', 'No',\n",
       "       'No', 'No', 'No', 'No', 'No', 'No', 'No', 'No', 'No', 'No', 'No',\n",
       "       'No', 'No', 'No', 'No', 'No', 'No', 'No', 'No', 'No', 'No', 'No',\n",
       "       'No', 'No', 'No', 'No', 'No', 'No', 'No', 'No', 'No', 'No', 'No',\n",
       "       'No', 'No', 'No', 'No', 'No', 'No', 'No', 'No', 'No', 'No', 'No',\n",
       "       'No', 'No', 'No', 'No', 'No', 'No', 'No', 'No', 'No', 'No', 'No',\n",
       "       'No', 'No', 'No', 'No', 'No', 'No', 'No', 'No', 'No', 'No', 'No',\n",
       "       'No', 'No', 'No', 'No', 'No', 'No', 'No', 'No', 'No', 'No', 'No',\n",
       "       'No', 'No', 'No', 'No', 'No', 'No', 'No', 'No', 'No', 'No', 'No',\n",
       "       'No', 'No', 'No', 'No', 'No'], dtype=object)"
      ]
     },
     "execution_count": 248,
     "metadata": {},
     "output_type": "execute_result"
    }
   ],
   "source": [
    "y_pred_label=label_encoder.inverse_transform(y_pred)\n",
    "y_pred_label"
   ]
  },
  {
   "cell_type": "code",
   "execution_count": 249,
   "id": "e19cefdd",
   "metadata": {},
   "outputs": [
    {
     "data": {
      "text/plain": [
       "array([[309,   0],\n",
       "       [ 58,   1]], dtype=int64)"
      ]
     },
     "execution_count": 249,
     "metadata": {},
     "output_type": "execute_result"
    }
   ],
   "source": [
    "from sklearn import metrics\n",
    "metrics.confusion_matrix(y_test, y_pred)"
   ]
  },
  {
   "cell_type": "code",
   "execution_count": 250,
   "id": "cf572f2d",
   "metadata": {},
   "outputs": [
    {
     "data": {
      "text/plain": [
       "<AxesSubplot:>"
      ]
     },
     "execution_count": 250,
     "metadata": {},
     "output_type": "execute_result"
    },
    {
     "data": {
      "image/png": "[encoded data removed]",
      "text/plain": [
       "<Figure size 432x288 with 2 Axes>"
      ]
     },
     "metadata": {
      "needs_background": "light"
     },
     "output_type": "display_data"
    }
   ],
   "source": [
    "sns.heatmap(metrics.confusion_matrix(y_test, y_pred),annot=True)\n"
   ]
  },
  {
   "cell_type": "code",
   "execution_count": 251,
   "id": "e877eaa5",
   "metadata": {},
   "outputs": [
    {
     "name": "stdout",
     "output_type": "stream",
     "text": [
      "Accuracy: 84.24%\n"
     ]
    }
   ],
   "source": [
    "accuracy = metrics.accuracy_score(y_test, y_pred)\n",
    "print(\"Accuracy: %.2f%%\" % (accuracy * 100.0))"
   ]
  },
  {
   "cell_type": "code",
   "execution_count": 252,
   "id": "cc04cc4c",
   "metadata": {},
   "outputs": [
    {
     "name": "stdout",
     "output_type": "stream",
     "text": [
      "              precision    recall  f1-score   support\n",
      "\n",
      "           0       0.84      1.00      0.91       309\n",
      "           1       1.00      0.02      0.03        59\n",
      "\n",
      "    accuracy                           0.84       368\n",
      "   macro avg       0.92      0.51      0.47       368\n",
      "weighted avg       0.87      0.84      0.77       368\n",
      "\n"
     ]
    }
   ],
   "source": [
    "from sklearn.metrics import classification_report\n",
    "print(classification_report(y_true=y_test, y_pred=y_pred))"
   ]
  }
 ],
 "metadata": {
  "interpreter": {
   "hash": "e498aee29e5313ac19032e6c7bf7ceec7d756b93f9923161fe678d81281426e5"
  },
  "kernelspec": {
   "display_name": "Python 3.9.7 ('base')",
   "language": "python",
   "name": "python3"
  },
  "language_info": {
   "codemirror_mode": {
    "name": "ipython",
    "version": 3
   },
   "file_extension": ".py",
   "mimetype": "text/x-python",
   "name": "python",
   "nbconvert_exporter": "python",
   "pygments_lexer": "ipython3",
   "version": "3.9.7"
  },
  "papermill": {
   "default_parameters": {},
   "duration": 55.87742,
   "end_time": "2022-02-18T12:22:37.029414",
   "environment_variables": {},
   "exception": null,
   "input_path": "__notebook__.ipynb",
   "output_path": "__notebook__.ipynb",
   "parameters": {},
   "start_time": "2022-02-18T12:21:41.151994",
   "version": "2.3.3"
  }
 },
 "nbformat": 4,
 "nbformat_minor": 5
}
