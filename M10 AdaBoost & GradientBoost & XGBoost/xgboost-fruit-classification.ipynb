{
 "cells": [
  {
   "cell_type": "code",
   "execution_count": 17,
   "id": "d296d3be",
   "metadata": {
    "_cell_guid": "b1076dfc-b9ad-4769-8c92-a6c4dae69d19",
    "_uuid": "8f2839f25d086af736a60e9eeb907d3b93b6e0e5",
    "execution": {
     "iopub.execute_input": "2022-05-17T15:51:55.477853Z",
     "iopub.status.busy": "2022-05-17T15:51:55.477407Z",
     "iopub.status.idle": "2022-05-17T15:51:55.500315Z",
     "shell.execute_reply": "2022-05-17T15:51:55.499393Z"
    },
    "papermill": {
     "duration": 0.045174,
     "end_time": "2022-05-17T15:51:55.502767",
     "exception": false,
     "start_time": "2022-05-17T15:51:55.457593",
     "status": "completed"
    },
    "tags": []
   },
   "outputs": [],
   "source": [
    "import numpy as np # linear algebra\n",
    "import pandas as pd # data processing, CSV file I/O (e.g. pd.read_csv)"
   ]
  },
  {
   "cell_type": "code",
   "execution_count": 18,
   "id": "d9b692a4",
   "metadata": {
    "execution": {
     "iopub.execute_input": "2022-05-17T15:51:55.540131Z",
     "iopub.status.busy": "2022-05-17T15:51:55.539826Z",
     "iopub.status.idle": "2022-05-17T15:52:03.062890Z",
     "shell.execute_reply": "2022-05-17T15:52:03.062003Z"
    },
    "papermill": {
     "duration": 7.543547,
     "end_time": "2022-05-17T15:52:03.065316",
     "exception": false,
     "start_time": "2022-05-17T15:51:55.521769",
     "status": "completed"
    },
    "tags": []
   },
   "outputs": [],
   "source": [
    "import seaborn as sns\n",
    "import tensorflow as tf\n",
    "import pandas as pd\n",
    "import xgboost as xgb\n",
    "from sklearn.ensemble import AdaBoostClassifier,GradientBoostingClassifier\n",
    "\n",
    "from sklearn.metrics import confusion_matrix\n",
    "from sklearn.preprocessing import LabelEncoder\n",
    "from sklearn.model_selection import train_test_split\n",
    "from sklearn.metrics import accuracy_score, f1_score, recall_score"
   ]
  },
  {
   "cell_type": "markdown",
   "id": "ae98c9a9",
   "metadata": {
    "papermill": {
     "duration": 0.021749,
     "end_time": "2022-05-17T15:52:16.341590",
     "exception": false,
     "start_time": "2022-05-17T15:52:16.319841",
     "status": "completed"
    },
    "tags": []
   },
   "source": [
    "A bit of a good practice is to put the variables here, after importing the libraries. This way it will bea easier to find where to modify the values for our model. "
   ]
  },
  {
   "cell_type": "code",
   "execution_count": 19,
   "id": "1289b945",
   "metadata": {
    "execution": {
     "iopub.execute_input": "2022-05-17T15:52:16.384419Z",
     "iopub.status.busy": "2022-05-17T15:52:16.383713Z",
     "iopub.status.idle": "2022-05-17T15:52:16.388420Z",
     "shell.execute_reply": "2022-05-17T15:52:16.387872Z"
    },
    "papermill": {
     "duration": 0.028053,
     "end_time": "2022-05-17T15:52:16.389982",
     "exception": false,
     "start_time": "2022-05-17T15:52:16.361929",
     "status": "completed"
    },
    "tags": []
   },
   "outputs": [],
   "source": [
    "DATA_PATH = 'Date_Fruit_Datasets/Date_Fruit_Datasets.xlsx'"
   ]
  },
  {
   "cell_type": "markdown",
   "id": "e3a8f44f",
   "metadata": {
    "papermill": {
     "duration": 0.022869,
     "end_time": "2022-05-17T15:52:16.434736",
     "exception": false,
     "start_time": "2022-05-17T15:52:16.411867",
     "status": "completed"
    },
    "tags": []
   },
   "source": [
    "# Load the data\n",
    "\n",
    "Load the dataset found in DATA_PATH using pandas. Then gather a bit of info about the dataset and its classes."
   ]
  },
  {
   "cell_type": "code",
   "execution_count": 20,
   "id": "520925c5",
   "metadata": {
    "execution": {
     "iopub.execute_input": "2022-05-17T15:52:16.477981Z",
     "iopub.status.busy": "2022-05-17T15:52:16.477305Z",
     "iopub.status.idle": "2022-05-17T15:52:17.110648Z",
     "shell.execute_reply": "2022-05-17T15:52:17.109561Z"
    },
    "papermill": {
     "duration": 0.657522,
     "end_time": "2022-05-17T15:52:17.113311",
     "exception": false,
     "start_time": "2022-05-17T15:52:16.455789",
     "status": "completed"
    },
    "tags": []
   },
   "outputs": [
    {
     "data": {
      "text/html": [
       "<div>\n",
       "<style scoped>\n",
       "    .dataframe tbody tr th:only-of-type {\n",
       "        vertical-align: middle;\n",
       "    }\n",
       "\n",
       "    .dataframe tbody tr th {\n",
       "        vertical-align: top;\n",
       "    }\n",
       "\n",
       "    .dataframe thead th {\n",
       "        text-align: right;\n",
       "    }\n",
       "</style>\n",
       "<table border=\"1\" class=\"dataframe\">\n",
       "  <thead>\n",
       "    <tr style=\"text-align: right;\">\n",
       "      <th></th>\n",
       "      <th>AREA</th>\n",
       "      <th>PERIMETER</th>\n",
       "      <th>MAJOR_AXIS</th>\n",
       "      <th>MINOR_AXIS</th>\n",
       "      <th>ECCENTRICITY</th>\n",
       "      <th>EQDIASQ</th>\n",
       "      <th>SOLIDITY</th>\n",
       "      <th>CONVEX_AREA</th>\n",
       "      <th>EXTENT</th>\n",
       "      <th>ASPECT_RATIO</th>\n",
       "      <th>...</th>\n",
       "      <th>KurtosisRR</th>\n",
       "      <th>KurtosisRG</th>\n",
       "      <th>KurtosisRB</th>\n",
       "      <th>EntropyRR</th>\n",
       "      <th>EntropyRG</th>\n",
       "      <th>EntropyRB</th>\n",
       "      <th>ALLdaub4RR</th>\n",
       "      <th>ALLdaub4RG</th>\n",
       "      <th>ALLdaub4RB</th>\n",
       "      <th>Class</th>\n",
       "    </tr>\n",
       "  </thead>\n",
       "  <tbody>\n",
       "    <tr>\n",
       "      <th>0</th>\n",
       "      <td>422163</td>\n",
       "      <td>2378.9080</td>\n",
       "      <td>837.8484</td>\n",
       "      <td>645.6693</td>\n",
       "      <td>0.6373</td>\n",
       "      <td>733.1539</td>\n",
       "      <td>0.9947</td>\n",
       "      <td>424428</td>\n",
       "      <td>0.7831</td>\n",
       "      <td>1.2976</td>\n",
       "      <td>...</td>\n",
       "      <td>3.2370</td>\n",
       "      <td>2.9574</td>\n",
       "      <td>4.2287</td>\n",
       "      <td>-59191263232</td>\n",
       "      <td>-50714214400</td>\n",
       "      <td>-39922372608</td>\n",
       "      <td>58.7255</td>\n",
       "      <td>54.9554</td>\n",
       "      <td>47.8400</td>\n",
       "      <td>BERHI</td>\n",
       "    </tr>\n",
       "    <tr>\n",
       "      <th>1</th>\n",
       "      <td>338136</td>\n",
       "      <td>2085.1440</td>\n",
       "      <td>723.8198</td>\n",
       "      <td>595.2073</td>\n",
       "      <td>0.5690</td>\n",
       "      <td>656.1464</td>\n",
       "      <td>0.9974</td>\n",
       "      <td>339014</td>\n",
       "      <td>0.7795</td>\n",
       "      <td>1.2161</td>\n",
       "      <td>...</td>\n",
       "      <td>2.6228</td>\n",
       "      <td>2.6350</td>\n",
       "      <td>3.1704</td>\n",
       "      <td>-34233065472</td>\n",
       "      <td>-37462601728</td>\n",
       "      <td>-31477794816</td>\n",
       "      <td>50.0259</td>\n",
       "      <td>52.8168</td>\n",
       "      <td>47.8315</td>\n",
       "      <td>BERHI</td>\n",
       "    </tr>\n",
       "    <tr>\n",
       "      <th>2</th>\n",
       "      <td>526843</td>\n",
       "      <td>2647.3940</td>\n",
       "      <td>940.7379</td>\n",
       "      <td>715.3638</td>\n",
       "      <td>0.6494</td>\n",
       "      <td>819.0222</td>\n",
       "      <td>0.9962</td>\n",
       "      <td>528876</td>\n",
       "      <td>0.7657</td>\n",
       "      <td>1.3150</td>\n",
       "      <td>...</td>\n",
       "      <td>3.7516</td>\n",
       "      <td>3.8611</td>\n",
       "      <td>4.7192</td>\n",
       "      <td>-93948354560</td>\n",
       "      <td>-74738221056</td>\n",
       "      <td>-60311207936</td>\n",
       "      <td>65.4772</td>\n",
       "      <td>59.2860</td>\n",
       "      <td>51.9378</td>\n",
       "      <td>BERHI</td>\n",
       "    </tr>\n",
       "    <tr>\n",
       "      <th>3</th>\n",
       "      <td>416063</td>\n",
       "      <td>2351.2100</td>\n",
       "      <td>827.9804</td>\n",
       "      <td>645.2988</td>\n",
       "      <td>0.6266</td>\n",
       "      <td>727.8378</td>\n",
       "      <td>0.9948</td>\n",
       "      <td>418255</td>\n",
       "      <td>0.7759</td>\n",
       "      <td>1.2831</td>\n",
       "      <td>...</td>\n",
       "      <td>5.0401</td>\n",
       "      <td>8.6136</td>\n",
       "      <td>8.2618</td>\n",
       "      <td>-32074307584</td>\n",
       "      <td>-32060925952</td>\n",
       "      <td>-29575010304</td>\n",
       "      <td>43.3900</td>\n",
       "      <td>44.1259</td>\n",
       "      <td>41.1882</td>\n",
       "      <td>BERHI</td>\n",
       "    </tr>\n",
       "    <tr>\n",
       "      <th>4</th>\n",
       "      <td>347562</td>\n",
       "      <td>2160.3540</td>\n",
       "      <td>763.9877</td>\n",
       "      <td>582.8359</td>\n",
       "      <td>0.6465</td>\n",
       "      <td>665.2291</td>\n",
       "      <td>0.9908</td>\n",
       "      <td>350797</td>\n",
       "      <td>0.7569</td>\n",
       "      <td>1.3108</td>\n",
       "      <td>...</td>\n",
       "      <td>2.7016</td>\n",
       "      <td>2.9761</td>\n",
       "      <td>4.4146</td>\n",
       "      <td>-39980974080</td>\n",
       "      <td>-35980042240</td>\n",
       "      <td>-25593278464</td>\n",
       "      <td>52.7743</td>\n",
       "      <td>50.9080</td>\n",
       "      <td>42.6666</td>\n",
       "      <td>BERHI</td>\n",
       "    </tr>\n",
       "    <tr>\n",
       "      <th>...</th>\n",
       "      <td>...</td>\n",
       "      <td>...</td>\n",
       "      <td>...</td>\n",
       "      <td>...</td>\n",
       "      <td>...</td>\n",
       "      <td>...</td>\n",
       "      <td>...</td>\n",
       "      <td>...</td>\n",
       "      <td>...</td>\n",
       "      <td>...</td>\n",
       "      <td>...</td>\n",
       "      <td>...</td>\n",
       "      <td>...</td>\n",
       "      <td>...</td>\n",
       "      <td>...</td>\n",
       "      <td>...</td>\n",
       "      <td>...</td>\n",
       "      <td>...</td>\n",
       "      <td>...</td>\n",
       "      <td>...</td>\n",
       "      <td>...</td>\n",
       "    </tr>\n",
       "    <tr>\n",
       "      <th>893</th>\n",
       "      <td>255403</td>\n",
       "      <td>1925.3650</td>\n",
       "      <td>691.8453</td>\n",
       "      <td>477.1796</td>\n",
       "      <td>0.7241</td>\n",
       "      <td>570.2536</td>\n",
       "      <td>0.9785</td>\n",
       "      <td>261028</td>\n",
       "      <td>0.7269</td>\n",
       "      <td>1.4499</td>\n",
       "      <td>...</td>\n",
       "      <td>2.2423</td>\n",
       "      <td>2.3704</td>\n",
       "      <td>2.7202</td>\n",
       "      <td>-25296416768</td>\n",
       "      <td>-19168882688</td>\n",
       "      <td>-18473392128</td>\n",
       "      <td>49.0869</td>\n",
       "      <td>43.0422</td>\n",
       "      <td>42.4153</td>\n",
       "      <td>SOGAY</td>\n",
       "    </tr>\n",
       "    <tr>\n",
       "      <th>894</th>\n",
       "      <td>365924</td>\n",
       "      <td>2664.8230</td>\n",
       "      <td>855.4633</td>\n",
       "      <td>551.5447</td>\n",
       "      <td>0.7644</td>\n",
       "      <td>682.5752</td>\n",
       "      <td>0.9466</td>\n",
       "      <td>386566</td>\n",
       "      <td>0.6695</td>\n",
       "      <td>1.5510</td>\n",
       "      <td>...</td>\n",
       "      <td>3.4109</td>\n",
       "      <td>3.5805</td>\n",
       "      <td>3.9910</td>\n",
       "      <td>-31605219328</td>\n",
       "      <td>-21945366528</td>\n",
       "      <td>-19277905920</td>\n",
       "      <td>46.8086</td>\n",
       "      <td>39.1046</td>\n",
       "      <td>36.5502</td>\n",
       "      <td>SOGAY</td>\n",
       "    </tr>\n",
       "    <tr>\n",
       "      <th>895</th>\n",
       "      <td>254330</td>\n",
       "      <td>1926.7360</td>\n",
       "      <td>747.4943</td>\n",
       "      <td>435.6219</td>\n",
       "      <td>0.8126</td>\n",
       "      <td>569.0545</td>\n",
       "      <td>0.9925</td>\n",
       "      <td>256255</td>\n",
       "      <td>0.7240</td>\n",
       "      <td>1.7159</td>\n",
       "      <td>...</td>\n",
       "      <td>2.2759</td>\n",
       "      <td>2.5090</td>\n",
       "      <td>2.6951</td>\n",
       "      <td>-22242772992</td>\n",
       "      <td>-19594921984</td>\n",
       "      <td>-17592152064</td>\n",
       "      <td>44.1325</td>\n",
       "      <td>40.7986</td>\n",
       "      <td>40.9769</td>\n",
       "      <td>SOGAY</td>\n",
       "    </tr>\n",
       "    <tr>\n",
       "      <th>896</th>\n",
       "      <td>238955</td>\n",
       "      <td>1906.2679</td>\n",
       "      <td>716.6485</td>\n",
       "      <td>441.8297</td>\n",
       "      <td>0.7873</td>\n",
       "      <td>551.5859</td>\n",
       "      <td>0.9604</td>\n",
       "      <td>248795</td>\n",
       "      <td>0.6954</td>\n",
       "      <td>1.6220</td>\n",
       "      <td>...</td>\n",
       "      <td>2.6769</td>\n",
       "      <td>2.6874</td>\n",
       "      <td>2.7991</td>\n",
       "      <td>-26048595968</td>\n",
       "      <td>-21299822592</td>\n",
       "      <td>-19809978368</td>\n",
       "      <td>51.2267</td>\n",
       "      <td>45.7162</td>\n",
       "      <td>45.6260</td>\n",
       "      <td>SOGAY</td>\n",
       "    </tr>\n",
       "    <tr>\n",
       "      <th>897</th>\n",
       "      <td>343792</td>\n",
       "      <td>2289.2720</td>\n",
       "      <td>823.8438</td>\n",
       "      <td>534.7757</td>\n",
       "      <td>0.7607</td>\n",
       "      <td>661.6113</td>\n",
       "      <td>0.9781</td>\n",
       "      <td>351472</td>\n",
       "      <td>0.6941</td>\n",
       "      <td>1.5405</td>\n",
       "      <td>...</td>\n",
       "      <td>2.5138</td>\n",
       "      <td>3.0369</td>\n",
       "      <td>3.0865</td>\n",
       "      <td>-31983476736</td>\n",
       "      <td>-20482514944</td>\n",
       "      <td>-21219354624</td>\n",
       "      <td>47.3454</td>\n",
       "      <td>38.6966</td>\n",
       "      <td>39.6738</td>\n",
       "      <td>SOGAY</td>\n",
       "    </tr>\n",
       "  </tbody>\n",
       "</table>\n",
       "<p>898 rows × 35 columns</p>\n",
       "</div>"
      ],
      "text/plain": [
       "       AREA  PERIMETER  MAJOR_AXIS  MINOR_AXIS  ECCENTRICITY   EQDIASQ  \\\n",
       "0    422163  2378.9080    837.8484    645.6693        0.6373  733.1539   \n",
       "1    338136  2085.1440    723.8198    595.2073        0.5690  656.1464   \n",
       "2    526843  2647.3940    940.7379    715.3638        0.6494  819.0222   \n",
       "3    416063  2351.2100    827.9804    645.2988        0.6266  727.8378   \n",
       "4    347562  2160.3540    763.9877    582.8359        0.6465  665.2291   \n",
       "..      ...        ...         ...         ...           ...       ...   \n",
       "893  255403  1925.3650    691.8453    477.1796        0.7241  570.2536   \n",
       "894  365924  2664.8230    855.4633    551.5447        0.7644  682.5752   \n",
       "895  254330  1926.7360    747.4943    435.6219        0.8126  569.0545   \n",
       "896  238955  1906.2679    716.6485    441.8297        0.7873  551.5859   \n",
       "897  343792  2289.2720    823.8438    534.7757        0.7607  661.6113   \n",
       "\n",
       "     SOLIDITY  CONVEX_AREA  EXTENT  ASPECT_RATIO  ...  KurtosisRR  KurtosisRG  \\\n",
       "0      0.9947       424428  0.7831        1.2976  ...      3.2370      2.9574   \n",
       "1      0.9974       339014  0.7795        1.2161  ...      2.6228      2.6350   \n",
       "2      0.9962       528876  0.7657        1.3150  ...      3.7516      3.8611   \n",
       "3      0.9948       418255  0.7759        1.2831  ...      5.0401      8.6136   \n",
       "4      0.9908       350797  0.7569        1.3108  ...      2.7016      2.9761   \n",
       "..        ...          ...     ...           ...  ...         ...         ...   \n",
       "893    0.9785       261028  0.7269        1.4499  ...      2.2423      2.3704   \n",
       "894    0.9466       386566  0.6695        1.5510  ...      3.4109      3.5805   \n",
       "895    0.9925       256255  0.7240        1.7159  ...      2.2759      2.5090   \n",
       "896    0.9604       248795  0.6954        1.6220  ...      2.6769      2.6874   \n",
       "897    0.9781       351472  0.6941        1.5405  ...      2.5138      3.0369   \n",
       "\n",
       "     KurtosisRB    EntropyRR    EntropyRG    EntropyRB  ALLdaub4RR  \\\n",
       "0        4.2287 -59191263232 -50714214400 -39922372608     58.7255   \n",
       "1        3.1704 -34233065472 -37462601728 -31477794816     50.0259   \n",
       "2        4.7192 -93948354560 -74738221056 -60311207936     65.4772   \n",
       "3        8.2618 -32074307584 -32060925952 -29575010304     43.3900   \n",
       "4        4.4146 -39980974080 -35980042240 -25593278464     52.7743   \n",
       "..          ...          ...          ...          ...         ...   \n",
       "893      2.7202 -25296416768 -19168882688 -18473392128     49.0869   \n",
       "894      3.9910 -31605219328 -21945366528 -19277905920     46.8086   \n",
       "895      2.6951 -22242772992 -19594921984 -17592152064     44.1325   \n",
       "896      2.7991 -26048595968 -21299822592 -19809978368     51.2267   \n",
       "897      3.0865 -31983476736 -20482514944 -21219354624     47.3454   \n",
       "\n",
       "     ALLdaub4RG  ALLdaub4RB  Class  \n",
       "0       54.9554     47.8400  BERHI  \n",
       "1       52.8168     47.8315  BERHI  \n",
       "2       59.2860     51.9378  BERHI  \n",
       "3       44.1259     41.1882  BERHI  \n",
       "4       50.9080     42.6666  BERHI  \n",
       "..          ...         ...    ...  \n",
       "893     43.0422     42.4153  SOGAY  \n",
       "894     39.1046     36.5502  SOGAY  \n",
       "895     40.7986     40.9769  SOGAY  \n",
       "896     45.7162     45.6260  SOGAY  \n",
       "897     38.6966     39.6738  SOGAY  \n",
       "\n",
       "[898 rows x 35 columns]"
      ]
     },
     "execution_count": 20,
     "metadata": {},
     "output_type": "execute_result"
    }
   ],
   "source": [
    "df = pd.read_excel(DATA_PATH)\n",
    "df"
   ]
  },
  {
   "cell_type": "code",
   "execution_count": 21,
   "id": "39afc06d",
   "metadata": {
    "execution": {
     "iopub.execute_input": "2022-05-17T15:52:17.162285Z",
     "iopub.status.busy": "2022-05-17T15:52:17.162011Z",
     "iopub.status.idle": "2022-05-17T15:52:17.185567Z",
     "shell.execute_reply": "2022-05-17T15:52:17.184729Z"
    },
    "papermill": {
     "duration": 0.04888,
     "end_time": "2022-05-17T15:52:17.187712",
     "exception": false,
     "start_time": "2022-05-17T15:52:17.138832",
     "status": "completed"
    },
    "tags": []
   },
   "outputs": [
    {
     "name": "stdout",
     "output_type": "stream",
     "text": [
      "<class 'pandas.core.frame.DataFrame'>\n",
      "RangeIndex: 898 entries, 0 to 897\n",
      "Data columns (total 35 columns):\n",
      " #   Column         Non-Null Count  Dtype  \n",
      "---  ------         --------------  -----  \n",
      " 0   AREA           898 non-null    int64  \n",
      " 1   PERIMETER      898 non-null    float64\n",
      " 2   MAJOR_AXIS     898 non-null    float64\n",
      " 3   MINOR_AXIS     898 non-null    float64\n",
      " 4   ECCENTRICITY   898 non-null    float64\n",
      " 5   EQDIASQ        898 non-null    float64\n",
      " 6   SOLIDITY       898 non-null    float64\n",
      " 7   CONVEX_AREA    898 non-null    int64  \n",
      " 8   EXTENT         898 non-null    float64\n",
      " 9   ASPECT_RATIO   898 non-null    float64\n",
      " 10  ROUNDNESS      898 non-null    float64\n",
      " 11  COMPACTNESS    898 non-null    float64\n",
      " 12  SHAPEFACTOR_1  898 non-null    float64\n",
      " 13  SHAPEFACTOR_2  898 non-null    float64\n",
      " 14  SHAPEFACTOR_3  898 non-null    float64\n",
      " 15  SHAPEFACTOR_4  898 non-null    float64\n",
      " 16  MeanRR         898 non-null    float64\n",
      " 17  MeanRG         898 non-null    float64\n",
      " 18  MeanRB         898 non-null    float64\n",
      " 19  StdDevRR       898 non-null    float64\n",
      " 20  StdDevRG       898 non-null    float64\n",
      " 21  StdDevRB       898 non-null    float64\n",
      " 22  SkewRR         898 non-null    float64\n",
      " 23  SkewRG         898 non-null    float64\n",
      " 24  SkewRB         898 non-null    float64\n",
      " 25  KurtosisRR     898 non-null    float64\n",
      " 26  KurtosisRG     898 non-null    float64\n",
      " 27  KurtosisRB     898 non-null    float64\n",
      " 28  EntropyRR      898 non-null    int64  \n",
      " 29  EntropyRG      898 non-null    int64  \n",
      " 30  EntropyRB      898 non-null    int64  \n",
      " 31  ALLdaub4RR     898 non-null    float64\n",
      " 32  ALLdaub4RG     898 non-null    float64\n",
      " 33  ALLdaub4RB     898 non-null    float64\n",
      " 34  Class          898 non-null    object \n",
      "dtypes: float64(29), int64(5), object(1)\n",
      "memory usage: 245.7+ KB\n"
     ]
    }
   ],
   "source": [
    "df.info()"
   ]
  },
  {
   "cell_type": "code",
   "execution_count": 22,
   "id": "9b698982",
   "metadata": {
    "execution": {
     "iopub.execute_input": "2022-05-17T15:52:17.235212Z",
     "iopub.status.busy": "2022-05-17T15:52:17.234235Z",
     "iopub.status.idle": "2022-05-17T15:52:17.239986Z",
     "shell.execute_reply": "2022-05-17T15:52:17.239410Z"
    },
    "papermill": {
     "duration": 0.032323,
     "end_time": "2022-05-17T15:52:17.241778",
     "exception": false,
     "start_time": "2022-05-17T15:52:17.209455",
     "status": "completed"
    },
    "tags": []
   },
   "outputs": [
    {
     "data": {
      "text/plain": [
       "array(['BERHI', 'DEGLET', 'DOKOL', 'IRAQI', 'ROTANA', 'SAFAVI', 'SOGAY'],\n",
       "      dtype=object)"
      ]
     },
     "execution_count": 22,
     "metadata": {},
     "output_type": "execute_result"
    }
   ],
   "source": [
    "df['Class'].unique()"
   ]
  },
  {
   "cell_type": "markdown",
   "id": "87b74335",
   "metadata": {
    "papermill": {
     "duration": 0.021943,
     "end_time": "2022-05-17T15:52:17.286254",
     "exception": false,
     "start_time": "2022-05-17T15:52:17.264311",
     "status": "completed"
    },
    "tags": []
   },
   "source": [
    "## Data preprocessing"
   ]
  },
  {
   "cell_type": "markdown",
   "id": "79ffb856",
   "metadata": {
    "papermill": {
     "duration": 0.023526,
     "end_time": "2022-05-17T15:52:17.332422",
     "exception": false,
     "start_time": "2022-05-17T15:52:17.308896",
     "status": "completed"
    },
    "tags": []
   },
   "source": [
    "After gathering our dataset in the previous step, we need to label encode our target variables. This means that we are going to encode our unique labels (= classes) with values between 0 and n_classes-1. In this case we have 7 unique labels, which means that the we will be getting values from 0 to 6. \n",
    "<br>\n",
    "The next step is to split into train and test sets for training. That way we can test our model with unseen data after it finished training."
   ]
  },
  {
   "cell_type": "code",
   "execution_count": 23,
   "id": "c1932c9c",
   "metadata": {
    "execution": {
     "iopub.execute_input": "2022-05-17T15:52:17.380059Z",
     "iopub.status.busy": "2022-05-17T15:52:17.379230Z",
     "iopub.status.idle": "2022-05-17T15:52:17.383738Z",
     "shell.execute_reply": "2022-05-17T15:52:17.383105Z"
    },
    "papermill": {
     "duration": 0.029565,
     "end_time": "2022-05-17T15:52:17.385309",
     "exception": false,
     "start_time": "2022-05-17T15:52:17.355744",
     "status": "completed"
    },
    "tags": []
   },
   "outputs": [],
   "source": [
    "le = LabelEncoder()\n",
    "\n",
    "y = df['Class']\n",
    "y = le.fit_transform(y) # Encoded labels"
   ]
  },
  {
   "cell_type": "code",
   "execution_count": 24,
   "id": "8c1ff14e",
   "metadata": {
    "execution": {
     "iopub.execute_input": "2022-05-17T15:52:17.433315Z",
     "iopub.status.busy": "2022-05-17T15:52:17.432736Z",
     "iopub.status.idle": "2022-05-17T15:52:17.436999Z",
     "shell.execute_reply": "2022-05-17T15:52:17.436415Z"
    },
    "papermill": {
     "duration": 0.030005,
     "end_time": "2022-05-17T15:52:17.438897",
     "exception": false,
     "start_time": "2022-05-17T15:52:17.408892",
     "status": "completed"
    },
    "tags": []
   },
   "outputs": [],
   "source": [
    "X = df.iloc[:,:-1] # Select all but the last column"
   ]
  },
  {
   "cell_type": "code",
   "execution_count": 25,
   "id": "c83248db",
   "metadata": {
    "execution": {
     "iopub.execute_input": "2022-05-17T15:52:17.484909Z",
     "iopub.status.busy": "2022-05-17T15:52:17.484401Z",
     "iopub.status.idle": "2022-05-17T15:52:17.490847Z",
     "shell.execute_reply": "2022-05-17T15:52:17.489936Z"
    },
    "papermill": {
     "duration": 0.031942,
     "end_time": "2022-05-17T15:52:17.492890",
     "exception": false,
     "start_time": "2022-05-17T15:52:17.460948",
     "status": "completed"
    },
    "tags": []
   },
   "outputs": [],
   "source": [
    "# Split into train test sets\n",
    "# TEST_SIZE is the variable which determines the % of the test set we are getting\n",
    "X_train, X_test, y_train, y_test = train_test_split(\n",
    "                                                    X, \n",
    "                                                    y, \n",
    "                                                    test_size=TEST_SIZE, \n",
    "                                                    random_state=RANDOM_STATE,\n",
    "                                                    shuffle=True)"
   ]
  },
  {
   "cell_type": "code",
   "execution_count": 26,
   "id": "ac34413d",
   "metadata": {
    "execution": {
     "iopub.execute_input": "2022-05-17T15:52:17.541659Z",
     "iopub.status.busy": "2022-05-17T15:52:17.541371Z",
     "iopub.status.idle": "2022-05-17T15:52:17.547159Z",
     "shell.execute_reply": "2022-05-17T15:52:17.546042Z"
    },
    "papermill": {
     "duration": 0.032673,
     "end_time": "2022-05-17T15:52:17.548893",
     "exception": false,
     "start_time": "2022-05-17T15:52:17.516220",
     "status": "completed"
    },
    "tags": []
   },
   "outputs": [
    {
     "name": "stdout",
     "output_type": "stream",
     "text": [
      "Shape of training data : (601, 34)\n",
      "Shape of testing data : (297, 34)\n"
     ]
    }
   ],
   "source": [
    "# shape of the dataset\n",
    "print('Shape of training data :',X_train.shape)\n",
    "print('Shape of testing data :',X_test.shape)"
   ]
  },
  {
   "cell_type": "markdown",
   "id": "144cebab",
   "metadata": {
    "papermill": {
     "duration": 0.021926,
     "end_time": "2022-05-17T15:52:17.593276",
     "exception": false,
     "start_time": "2022-05-17T15:52:17.571350",
     "status": "completed"
    },
    "tags": []
   },
   "source": [
    "# Extreme Gradient Boosting Classifier (XGBoost)\n",
    "XGBoost is a boosted tree based ensemble classifier which means it works similar to the RandomForest algorithm we have already used at some point of our learning path. What makes this algorithm interesting is that it will automatically reduce the feature set. However, it is known to be a slow algorithm. However, we are going to use a GPU so this should not be a problem. Let's try it out and measure the time of execution."
   ]
  },
  {
   "cell_type": "markdown",
   "id": "04331b45",
   "metadata": {
    "papermill": {
     "duration": 0.025362,
     "end_time": "2022-05-17T15:52:17.640970",
     "exception": false,
     "start_time": "2022-05-17T15:52:17.615608",
     "status": "completed"
    },
    "tags": []
   },
   "source": [
    "## XGBoost algorithm definition\n",
    "\n",
    "We define the algorithm choosing the best hyper params we have found after several tests. If you want to find out more about XGBoost, click [here](https://xgboost.readthedocs.io/en/latest/index.html)"
   ]
  },
  {
   "cell_type": "code",
   "execution_count": 27,
   "id": "2a0d4920",
   "metadata": {
    "execution": {
     "iopub.execute_input": "2022-05-17T15:52:17.688091Z",
     "iopub.status.busy": "2022-05-17T15:52:17.687596Z",
     "iopub.status.idle": "2022-05-17T15:52:17.691923Z",
     "shell.execute_reply": "2022-05-17T15:52:17.691316Z"
    },
    "papermill": {
     "duration": 0.029859,
     "end_time": "2022-05-17T15:52:17.693779",
     "exception": false,
     "start_time": "2022-05-17T15:52:17.663920",
     "status": "completed"
    },
    "tags": []
   },
   "outputs": [],
   "source": [
    "### Define our XGBoost model with parameters:\n",
    "# Variables:\n",
    "# random_state: seed to the random generator, so that your train-test splits are always deterministic\n",
    "# learning_rate: Step size shrinkage used in update to prevents overfitting. \n",
    "#               After each boosting step, we can directly get the weights of new features, \n",
    "#               and learning_rate shrinks the feature weights to make the boosting process more conservative.\n",
    "# booster: Which booster to use. Can be gbtree, gblinear or dart\n",
    "# nthread: default to maximum number of threads available if not set\n",
    "# eval_metric: Evaluation metrics for validation data, a default metric will be assigned according to objective \n",
    "#               (rmse for regression, and logloss for classification, mean average precision for ranking). Multiple can be used\n",
    "# verbosity: printing messages. If 0, nothing is shown\n",
    "RANDOM_STATE = 42\n",
    "LR = 0.01\n",
    "TEST_SIZE = 0.33\n",
    "MAX_DEPTH = 0\n",
    "NTHREAD = 2\n",
    "EVAL_METRIC = 'mlogloss'\n",
    "BOOSTER = 'gbtree'\n",
    "VERBOSITY = 1\n",
    "model = xgb.XGBClassifier(\n",
    "                        random_state=RANDOM_STATE,\n",
    "                        learning_rate=LR,\n",
    "                        booster=BOOSTER,\n",
    "                        nthread=NTHREAD,\n",
    "                        eval_metric=EVAL_METRIC,\n",
    "                        verbosity=VERBOSITY\n",
    "                        )"
   ]
  },
  {
   "cell_type": "markdown",
   "id": "28813793",
   "metadata": {
    "papermill": {
     "duration": 0.024268,
     "end_time": "2022-05-17T15:52:17.742326",
     "exception": false,
     "start_time": "2022-05-17T15:52:17.718058",
     "status": "completed"
    },
    "tags": []
   },
   "source": [
    "# Train\n",
    "\n",
    "We want to measure the time the algoritm needs to finish training. We are calculating the time by getting the actual time and the time it is when the training is done. Then we can compute how much time it needed for the execution."
   ]
  },
  {
   "cell_type": "code",
   "execution_count": 28,
   "id": "1ec5c3ec",
   "metadata": {
    "execution": {
     "iopub.execute_input": "2022-05-17T15:52:17.790430Z",
     "iopub.status.busy": "2022-05-17T15:52:17.789925Z",
     "iopub.status.idle": "2022-05-17T15:52:19.371834Z",
     "shell.execute_reply": "2022-05-17T15:52:19.370785Z"
    },
    "papermill": {
     "duration": 1.609166,
     "end_time": "2022-05-17T15:52:19.374845",
     "exception": false,
     "start_time": "2022-05-17T15:52:17.765679",
     "status": "completed"
    },
    "tags": []
   },
   "outputs": [
    {
     "name": "stdout",
     "output_type": "stream",
     "text": [
      "Training took 1.96 seconds to be completed!\n"
     ]
    }
   ],
   "source": [
    "import time\n",
    "start = time.time() # Time before training\n",
    "\n",
    "# Fit the model with the training data\n",
    "model.fit(X_train, y_train)\n",
    "\n",
    "end = time.time() # Time after training\n",
    "\n",
    "# Compute how much time the model need to train\n",
    "print(f'Training took {round(end-start,2)} seconds to be completed!')"
   ]
  },
  {
   "cell_type": "markdown",
   "id": "05fc6a71",
   "metadata": {
    "papermill": {
     "duration": 0.026307,
     "end_time": "2022-05-17T15:52:19.425864",
     "exception": false,
     "start_time": "2022-05-17T15:52:19.399557",
     "status": "completed"
    },
    "tags": []
   },
   "source": [
    "# Getting the metrics\n",
    "\n",
    "First we are going to check the performance of our model by getting the accuracy of the model. Afterwards we are computing the recall and f1-score metrics on the test set. Finally we will plot a confusion matrix to see what labels are failing the most."
   ]
  },
  {
   "cell_type": "code",
   "execution_count": 29,
   "id": "f23cdfac",
   "metadata": {
    "execution": {
     "iopub.execute_input": "2022-05-17T15:52:19.474420Z",
     "iopub.status.busy": "2022-05-17T15:52:19.473681Z",
     "iopub.status.idle": "2022-05-17T15:52:19.500309Z",
     "shell.execute_reply": "2022-05-17T15:52:19.499100Z"
    },
    "papermill": {
     "duration": 0.053271,
     "end_time": "2022-05-17T15:52:19.502599",
     "exception": false,
     "start_time": "2022-05-17T15:52:19.449328",
     "status": "completed"
    },
    "tags": []
   },
   "outputs": [
    {
     "name": "stdout",
     "output_type": "stream",
     "text": [
      "\n",
      "accuracy_score on train dataset :  0.9866888519134775\n",
      "\n",
      "accuracy_score on test dataset :  0.8720538720538721\n"
     ]
    }
   ],
   "source": [
    "# predict the target on the train dataset\n",
    "predict_train = model.predict(X_train)\n",
    " \n",
    "# Accuray Score on train dataset\n",
    "accuracy_train = accuracy_score(y_train,predict_train)\n",
    "print('\\naccuracy_score on train dataset : ', accuracy_train)\n",
    " \n",
    "# predict the target on the test dataset\n",
    "predict_test = model.predict(X_test)\n",
    " \n",
    "# Accuracy Score on test dataset\n",
    "accuracy_test = accuracy_score(y_test,predict_test)\n",
    "print('\\naccuracy_score on test dataset : ', accuracy_test)"
   ]
  },
  {
   "cell_type": "code",
   "execution_count": 30,
   "id": "276a7b9b",
   "metadata": {
    "execution": {
     "iopub.execute_input": "2022-05-17T15:52:19.554613Z",
     "iopub.status.busy": "2022-05-17T15:52:19.554152Z",
     "iopub.status.idle": "2022-05-17T15:52:19.561094Z",
     "shell.execute_reply": "2022-05-17T15:52:19.560264Z"
    },
    "papermill": {
     "duration": 0.035572,
     "end_time": "2022-05-17T15:52:19.563614",
     "exception": false,
     "start_time": "2022-05-17T15:52:19.528042",
     "status": "completed"
    },
    "tags": []
   },
   "outputs": [
    {
     "name": "stdout",
     "output_type": "stream",
     "text": [
      "The accuracy in the test set was 0.87, the recall was 0.84 and the f1 score was 0.83\n"
     ]
    }
   ],
   "source": [
    "recall_score = round(recall_score(y_test,predict_test,average='macro'), 2)\n",
    "f1_score = round(f1_score(y_test,predict_test,average='macro'), 2)\n",
    "print(f'The accuracy in the test set was {round(accuracy_test, 2)}, the recall was {recall_score} and the f1 score was {f1_score}')"
   ]
  },
  {
   "cell_type": "code",
   "execution_count": 31,
   "id": "bc5211b0",
   "metadata": {
    "execution": {
     "iopub.execute_input": "2022-05-17T15:52:19.615631Z",
     "iopub.status.busy": "2022-05-17T15:52:19.614684Z",
     "iopub.status.idle": "2022-05-17T15:52:20.107663Z",
     "shell.execute_reply": "2022-05-17T15:52:20.106437Z"
    },
    "papermill": {
     "duration": 0.521912,
     "end_time": "2022-05-17T15:52:20.110436",
     "exception": false,
     "start_time": "2022-05-17T15:52:19.588524",
     "status": "completed"
    },
    "tags": []
   },
   "outputs": [
    {
     "data": {
      "text/plain": [
       "Text(0.5, 1.0, 'Confusion Matrix')"
      ]
     },
     "execution_count": 31,
     "metadata": {},
     "output_type": "execute_result"
    },
    {
     "data": {
      "image/png": "[encoded data removed]",
      "text/plain": [
       "<Figure size 432x288 with 2 Axes>"
      ]
     },
     "metadata": {
      "needs_background": "light"
     },
     "output_type": "display_data"
    }
   ],
   "source": [
    "confusion_matrix = confusion_matrix(y_test, predict_test)\n",
    "cm_plot = sns.heatmap(confusion_matrix,\n",
    "                      annot=True, \n",
    "                      cmap='Blues',\n",
    "                      fmt='d');\n",
    "cm_plot.set_xlabel('Predicted Values')\n",
    "cm_plot.set_ylabel('Actual Values')\n",
    "cm_plot.set_title('Confusion Matrix', size=16)"
   ]
  },
  {
   "cell_type": "code",
   "execution_count": 32,
   "id": "419ff9b4",
   "metadata": {},
   "outputs": [
    {
     "name": "stdout",
     "output_type": "stream",
     "text": [
      "Training took 0.3 seconds to be completed!\n"
     ]
    }
   ],
   "source": [
    "ada_clf=AdaBoostClassifier()\n",
    "import time\n",
    "start = time.time() # Time before training\n",
    "\n",
    "# Fit the model with the training data\n",
    "ada_clf.fit(X_train, y_train)\n",
    "\n",
    "end = time.time() # Time after training\n",
    "\n",
    "# Compute how much time the model need to train\n",
    "print(f'Training took {round(end-start,2)} seconds to be completed!')"
   ]
  },
  {
   "cell_type": "code",
   "execution_count": 33,
   "id": "04c87efc",
   "metadata": {},
   "outputs": [
    {
     "name": "stdout",
     "output_type": "stream",
     "text": [
      "\n",
      "accuracy_score on train dataset :  0.5524126455906821\n",
      "\n",
      "accuracy_score on test dataset :  0.5185185185185185\n"
     ]
    }
   ],
   "source": [
    "# predict the target on the train dataset\n",
    "predict_train = ada_clf.predict(X_train)\n",
    "\n",
    "# Accuray Score on train dataset\n",
    "accuracy_train = accuracy_score(y_train,predict_train)\n",
    "print('\\naccuracy_score on train dataset : ', accuracy_train)\n",
    " \n",
    "# predict the target on the test dataset\n",
    "predict_test = ada_clf.predict(X_test)\n",
    "\n",
    " \n",
    "# Accuracy Score on test dataset\n",
    "accuracy_test = accuracy_score(y_test,predict_test)\n",
    "print('\\naccuracy_score on test dataset : ', accuracy_test)"
   ]
  },
  {
   "cell_type": "code",
   "execution_count": null,
   "id": "2a5d8c83",
   "metadata": {},
   "outputs": [],
   "source": []
  }
 ],
 "metadata": {
  "kernelspec": {
   "display_name": "Python 3",
   "language": "python",
   "name": "python3"
  },
  "language_info": {
   "codemirror_mode": {
    "name": "ipython",
    "version": 3
   },
   "file_extension": ".py",
   "mimetype": "text/x-python",
   "name": "python",
   "nbconvert_exporter": "python",
   "pygments_lexer": "ipython3",
   "version": "3.9.7"
  },
  "papermill": {
   "default_parameters": {},
   "duration": 36.514916,
   "end_time": "2022-05-17T15:52:22.998190",
   "environment_variables": {},
   "exception": null,
   "input_path": "__notebook__.ipynb",
   "output_path": "__notebook__.ipynb",
   "parameters": {},
   "start_time": "2022-05-17T15:51:46.483274",
   "version": "2.3.4"
  }
 },
 "nbformat": 4,
 "nbformat_minor": 5
}
